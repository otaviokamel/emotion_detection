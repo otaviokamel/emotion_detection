{
 "cells": [
  {
   "cell_type": "markdown",
   "metadata": {},
   "source": [
    "**Integrantes**:\n",
    "    \n",
    "Arianne Macena <br>\n",
    "Otávio Kamel <br>\n",
    "\n",
    "Professor:\n",
    "\n",
    "Paulo Salgado"
   ]
  },
  {
   "cell_type": "markdown",
   "metadata": {
    "id": "kmZb0geosxXv"
   },
   "source": [
    "**Dataset**: https://www.kaggle.com/msambare/fer2013"
   ]
  },
  {
   "cell_type": "markdown",
   "metadata": {},
   "source": [
    "**Comentário**:\n",
    "\n",
    "Professor, quando rodamos antes da apresentação, o código rodou direito, inclusive tiramos prints do código e resultados para colocar nos slides.<br>\n",
    "Quando fomos rodar novamente o notebook para deixar as células com outputs prontos e organizadas para você, o GridSearch apresentou um erro que não conseguimos resolver. Tentamos bastante, mas ele está dando algum erro que tínhamos corrigido, e sem mudar o código, voltou a aparecer."
   ]
  },
  {
   "cell_type": "markdown",
   "metadata": {
    "id": "_Od2sZ2PrXPi",
    "tags": []
   },
   "source": [
    "# Download dataset"
   ]
  },
  {
   "cell_type": "code",
   "execution_count": 1,
   "metadata": {
    "colab": {
     "base_uri": "https://localhost:8080/"
    },
    "execution": {
     "iopub.execute_input": "2021-11-08T18:49:06.135715Z",
     "iopub.status.busy": "2021-11-08T18:49:06.135715Z",
     "iopub.status.idle": "2021-11-08T18:49:06.142722Z",
     "shell.execute_reply": "2021-11-08T18:49:06.141720Z",
     "shell.execute_reply.started": "2021-11-08T18:49:06.135715Z"
    },
    "id": "nca5ZmNub-w5",
    "outputId": "cef01c3e-02b1-40bf-9863-c651b747ca81",
    "tags": []
   },
   "outputs": [],
   "source": [
    "# \"\"\"\n",
    "#   https://www.kaggle.com/general/74235\n",
    "#   No arquivo \"kaggle.json\" vai conter seu username e API Token do Kaggle.\n",
    "#   Esse método foi utilizado pra ficar mais fácil o download via Colab.\n",
    "#   Esses passos podem ser pulados e o arquivo zip adicionando diretamente ao Colab.\n",
    "# \"\"\"\n",
    "# !pip install -q kaggle\n",
    "# !mkdir -p ~/.kaggle\n",
    "# !cp kaggle.json ~/.kaggle/\n",
    "# !cat ~/.kaggle/kaggle.json \n",
    "# !chmod 600 ~/.kaggle/kaggle.json"
   ]
  },
  {
   "cell_type": "code",
   "execution_count": 2,
   "metadata": {
    "colab": {
     "base_uri": "https://localhost:8080/"
    },
    "execution": {
     "iopub.execute_input": "2021-11-08T18:49:06.143722Z",
     "iopub.status.busy": "2021-11-08T18:49:06.143722Z",
     "iopub.status.idle": "2021-11-08T18:49:06.157735Z",
     "shell.execute_reply": "2021-11-08T18:49:06.156734Z",
     "shell.execute_reply.started": "2021-11-08T18:49:06.143722Z"
    },
    "id": "zccHJu7Jc-Zg",
    "outputId": "a6cb89a1-e6b0-410a-d235-e84d508c2b3e",
    "tags": []
   },
   "outputs": [],
   "source": [
    "# !kaggle datasets download msambare/fer2013"
   ]
  },
  {
   "cell_type": "code",
   "execution_count": 3,
   "metadata": {
    "colab": {
     "base_uri": "https://localhost:8080/"
    },
    "execution": {
     "iopub.execute_input": "2021-11-08T18:49:06.158736Z",
     "iopub.status.busy": "2021-11-08T18:49:06.158736Z",
     "iopub.status.idle": "2021-11-08T18:49:06.173750Z",
     "shell.execute_reply": "2021-11-08T18:49:06.172749Z",
     "shell.execute_reply.started": "2021-11-08T18:49:06.158736Z"
    },
    "id": "W57tEX7OdHGu",
    "outputId": "a4965631-a962-444c-8974-1eea29c94b1f",
    "tags": []
   },
   "outputs": [],
   "source": [
    "# !unzip fer2013.zip"
   ]
  },
  {
   "cell_type": "code",
   "execution_count": 4,
   "metadata": {
    "colab": {
     "base_uri": "https://localhost:8080/"
    },
    "execution": {
     "iopub.execute_input": "2021-11-08T18:49:06.175753Z",
     "iopub.status.busy": "2021-11-08T18:49:06.174751Z",
     "iopub.status.idle": "2021-11-08T18:49:06.842601Z",
     "shell.execute_reply": "2021-11-08T18:49:06.842601Z",
     "shell.execute_reply.started": "2021-11-08T18:49:06.175753Z"
    },
    "id": "Z9TDYO5BvEu7",
    "outputId": "34e11dbd-a86e-46b4-fb00-41bd25b88051",
    "tags": []
   },
   "outputs": [
    {
     "name": "stdout",
     "output_type": "stream",
     "text": [
      "Quantidade de imagens de treinamento:  28709\n"
     ]
    }
   ],
   "source": [
    "import os, os.path\n",
    "\n",
    "print(\"Quantidade de imagens de treinamento: \", sum(len(files) for _, _, files in os.walk(r'train')))"
   ]
  },
  {
   "cell_type": "code",
   "execution_count": 5,
   "metadata": {
    "colab": {
     "base_uri": "https://localhost:8080/"
    },
    "execution": {
     "iopub.execute_input": "2021-11-08T18:49:06.844603Z",
     "iopub.status.busy": "2021-11-08T18:49:06.843602Z",
     "iopub.status.idle": "2021-11-08T18:49:07.015757Z",
     "shell.execute_reply": "2021-11-08T18:49:07.015757Z",
     "shell.execute_reply.started": "2021-11-08T18:49:06.843602Z"
    },
    "id": "8i2JV4dqvmDS",
    "outputId": "6cc833af-c5d2-443b-e138-7aa1ca14683c",
    "tags": []
   },
   "outputs": [
    {
     "name": "stdout",
     "output_type": "stream",
     "text": [
      "Quantidade de imagens de teste:  7178\n"
     ]
    }
   ],
   "source": [
    "print(\"Quantidade de imagens de teste: \", sum(len(files) for _, _, files in os.walk(r'test')))"
   ]
  },
  {
   "cell_type": "markdown",
   "metadata": {
    "id": "JbAtEClPwJAq"
   },
   "source": [
    "## Split into train/val/test folders"
   ]
  },
  {
   "cell_type": "code",
   "execution_count": 6,
   "metadata": {
    "execution": {
     "iopub.execute_input": "2021-11-08T18:49:07.017759Z",
     "iopub.status.busy": "2021-11-08T18:49:07.016758Z",
     "iopub.status.idle": "2021-11-08T18:49:07.031771Z",
     "shell.execute_reply": "2021-11-08T18:49:07.031771Z",
     "shell.execute_reply.started": "2021-11-08T18:49:07.017759Z"
    },
    "id": "FEtK0moisqd4",
    "tags": []
   },
   "outputs": [],
   "source": [
    "# !mkdir input"
   ]
  },
  {
   "cell_type": "code",
   "execution_count": 7,
   "metadata": {
    "execution": {
     "iopub.execute_input": "2021-11-08T18:49:07.033778Z",
     "iopub.status.busy": "2021-11-08T18:49:07.033778Z",
     "iopub.status.idle": "2021-11-08T18:49:07.048787Z",
     "shell.execute_reply": "2021-11-08T18:49:07.047787Z",
     "shell.execute_reply.started": "2021-11-08T18:49:07.033778Z"
    },
    "id": "7ElCyV_guyFc",
    "tags": []
   },
   "outputs": [],
   "source": [
    "# !cp -a train/. input"
   ]
  },
  {
   "cell_type": "code",
   "execution_count": 8,
   "metadata": {
    "execution": {
     "iopub.execute_input": "2021-11-08T18:49:07.049790Z",
     "iopub.status.busy": "2021-11-08T18:49:07.049790Z",
     "iopub.status.idle": "2021-11-08T18:49:07.064802Z",
     "shell.execute_reply": "2021-11-08T18:49:07.063805Z",
     "shell.execute_reply.started": "2021-11-08T18:49:07.049790Z"
    },
    "id": "OI562u3ouU7n",
    "tags": []
   },
   "outputs": [],
   "source": [
    "# !cp -a test/. input"
   ]
  },
  {
   "cell_type": "code",
   "execution_count": 9,
   "metadata": {
    "colab": {
     "base_uri": "https://localhost:8080/"
    },
    "execution": {
     "iopub.execute_input": "2021-11-08T18:49:07.065802Z",
     "iopub.status.busy": "2021-11-08T18:49:07.065802Z",
     "iopub.status.idle": "2021-11-08T18:49:08.040090Z",
     "shell.execute_reply": "2021-11-08T18:49:08.040090Z",
     "shell.execute_reply.started": "2021-11-08T18:49:07.065802Z"
    },
    "id": "E8R6ldrBvrl2",
    "outputId": "29de9d25-86c5-4a71-d3da-56068b21f6e3",
    "tags": []
   },
   "outputs": [
    {
     "name": "stdout",
     "output_type": "stream",
     "text": [
      "Quantidade total de imagens:  35887\n"
     ]
    }
   ],
   "source": [
    "print(\"Quantidade total de imagens: \", sum(len(files) for _, _, files in os.walk(r'input')))"
   ]
  },
  {
   "cell_type": "code",
   "execution_count": 10,
   "metadata": {
    "colab": {
     "base_uri": "https://localhost:8080/"
    },
    "execution": {
     "iopub.execute_input": "2021-11-08T18:49:08.040090Z",
     "iopub.status.busy": "2021-11-08T18:49:08.040090Z",
     "iopub.status.idle": "2021-11-08T18:49:08.054727Z",
     "shell.execute_reply": "2021-11-08T18:49:08.054727Z",
     "shell.execute_reply.started": "2021-11-08T18:49:08.040090Z"
    },
    "id": "opiEqua2vzQ6",
    "outputId": "3e7e069f-4ef7-492a-ae52-22aae472d52f",
    "tags": []
   },
   "outputs": [],
   "source": [
    "# !pip install split-folders tqdm"
   ]
  },
  {
   "cell_type": "code",
   "execution_count": 11,
   "metadata": {
    "colab": {
     "base_uri": "https://localhost:8080/"
    },
    "execution": {
     "iopub.execute_input": "2021-11-08T18:49:08.056728Z",
     "iopub.status.busy": "2021-11-08T18:49:08.055728Z",
     "iopub.status.idle": "2021-11-08T18:53:48.190380Z",
     "shell.execute_reply": "2021-11-08T18:53:48.190380Z",
     "shell.execute_reply.started": "2021-11-08T18:49:08.056728Z"
    },
    "id": "9lUAtzN7v56N",
    "outputId": "82d86b68-cb58-4415-e602-df5b8d26436a",
    "tags": []
   },
   "outputs": [
    {
     "name": "stderr",
     "output_type": "stream",
     "text": [
      "Copying files: 35887 files [04:40, 128.13 files/s]\n"
     ]
    }
   ],
   "source": [
    "import splitfolders \n",
    "\n",
    "# Porcentagens de cada conjunto de dados na variável \"ratio\" (train/val/test)\n",
    "splitfolders.ratio(\"input\", output=\"output\", seed=1337, ratio=(.5, .25, .25), group_prefix=None) # default values"
   ]
  },
  {
   "cell_type": "code",
   "execution_count": 110,
   "metadata": {
    "colab": {
     "base_uri": "https://localhost:8080/"
    },
    "execution": {
     "iopub.execute_input": "2021-11-08T21:17:41.422838Z",
     "iopub.status.busy": "2021-11-08T21:17:41.422838Z",
     "iopub.status.idle": "2021-11-08T21:17:41.717835Z",
     "shell.execute_reply": "2021-11-08T21:17:41.717835Z",
     "shell.execute_reply.started": "2021-11-08T21:17:41.422838Z"
    },
    "id": "a4Obbtuhw2QD",
    "outputId": "2137b6fe-8f38-454d-afc3-8847e2dd062c",
    "tags": []
   },
   "outputs": [
    {
     "name": "stdout",
     "output_type": "stream",
     "text": [
      "Quantidade atualizada de imagens de treinamento:  17941\n",
      "Quantidade atualizada de imagens de validação:  8969\n",
      "Quantidade atualizada de imagens de teste:  8977\n"
     ]
    }
   ],
   "source": [
    "print(\"Quantidade atualizada de imagens de treinamento: \", sum(len(files) for _, _, files in os.walk(r'output/train')))\n",
    "print(\"Quantidade atualizada de imagens de validação: \", sum(len(files) for _, _, files in os.walk(r'output/val')))\n",
    "print(\"Quantidade atualizada de imagens de teste: \", sum(len(files) for _, _, files in os.walk(r'output/test')))"
   ]
  },
  {
   "cell_type": "markdown",
   "metadata": {
    "id": "kcsnEfU_rfOl",
    "tags": []
   },
   "source": [
    "# Dataset visualization"
   ]
  },
  {
   "cell_type": "code",
   "execution_count": 13,
   "metadata": {
    "execution": {
     "iopub.execute_input": "2021-11-08T18:53:48.340495Z",
     "iopub.status.busy": "2021-11-08T18:53:48.340495Z",
     "iopub.status.idle": "2021-11-08T18:53:49.160524Z",
     "shell.execute_reply": "2021-11-08T18:53:49.160524Z",
     "shell.execute_reply.started": "2021-11-08T18:53:48.340495Z"
    },
    "id": "ozWZ1hmKdhfe",
    "tags": []
   },
   "outputs": [],
   "source": [
    "import matplotlib.pyplot as plt\n",
    "import os"
   ]
  },
  {
   "cell_type": "code",
   "execution_count": 14,
   "metadata": {
    "execution": {
     "iopub.execute_input": "2021-11-08T18:53:49.160524Z",
     "iopub.status.busy": "2021-11-08T18:53:49.160524Z",
     "iopub.status.idle": "2021-11-08T18:53:49.180567Z",
     "shell.execute_reply": "2021-11-08T18:53:49.180567Z",
     "shell.execute_reply.started": "2021-11-08T18:53:49.160524Z"
    },
    "id": "Gf776YWJdbc1"
   },
   "outputs": [],
   "source": [
    "train_path = 'output/train'\n",
    "val_path = 'output/val'\n",
    "test_path = 'output/test'"
   ]
  },
  {
   "cell_type": "code",
   "execution_count": 15,
   "metadata": {
    "execution": {
     "iopub.execute_input": "2021-11-08T18:53:49.180567Z",
     "iopub.status.busy": "2021-11-08T18:53:49.180567Z",
     "iopub.status.idle": "2021-11-08T18:53:49.200683Z",
     "shell.execute_reply": "2021-11-08T18:53:49.200683Z",
     "shell.execute_reply.started": "2021-11-08T18:53:49.180567Z"
    },
    "id": "5JpSP4l_disx",
    "tags": []
   },
   "outputs": [],
   "source": [
    "def plot_images(img_dir, top=10):\n",
    "    all_img_dirs = os.listdir(img_dir)\n",
    "    img_files = [os.path.join(img_dir, file) for file in all_img_dirs][:5]\n",
    "  \n",
    "    plt.figure(figsize=(10, 10))\n",
    "  \n",
    "    for idx, img_path in enumerate(img_files):\n",
    "        plt.subplot(5, 5, idx+1)\n",
    "    \n",
    "        img = plt.imread(img_path)\n",
    "        plt.tight_layout()         \n",
    "        plt.imshow(img, cmap='gray')"
   ]
  },
  {
   "cell_type": "code",
   "execution_count": 16,
   "metadata": {
    "colab": {
     "base_uri": "https://localhost:8080/"
    },
    "execution": {
     "iopub.execute_input": "2021-11-08T18:53:49.201688Z",
     "iopub.status.busy": "2021-11-08T18:53:49.201688Z",
     "iopub.status.idle": "2021-11-08T18:53:49.910468Z",
     "shell.execute_reply": "2021-11-08T18:53:49.909964Z",
     "shell.execute_reply.started": "2021-11-08T18:53:49.201688Z"
    },
    "id": "4JGbi3mhdlYX",
    "outputId": "f4540a99-39b3-482c-f333-2d5fc5868846"
   },
   "outputs": [
    {
     "data": {
      "image/png": "[encoded data removed]",
      "text/plain": [
       "<Figure size 720x720 with 5 Axes>"
      ]
     },
     "metadata": {
      "needs_background": "light"
     },
     "output_type": "display_data"
    }
   ],
   "source": [
    "plot_images(train_path+'/angry')"
   ]
  },
  {
   "cell_type": "code",
   "execution_count": 17,
   "metadata": {
    "colab": {
     "base_uri": "https://localhost:8080/"
    },
    "execution": {
     "iopub.execute_input": "2021-11-08T18:53:49.910468Z",
     "iopub.status.busy": "2021-11-08T18:53:49.910468Z",
     "iopub.status.idle": "2021-11-08T18:53:50.460532Z",
     "shell.execute_reply": "2021-11-08T18:53:50.460532Z",
     "shell.execute_reply.started": "2021-11-08T18:53:49.910468Z"
    },
    "id": "wPC-lBVJdtwo",
    "outputId": "1c79a442-1082-4648-8da9-18f2a18f073c"
   },
   "outputs": [
    {
     "data": {
      "image/png": "[encoded data removed]",
      "text/plain": [
       "<Figure size 720x720 with 5 Axes>"
      ]
     },
     "metadata": {
      "needs_background": "light"
     },
     "output_type": "display_data"
    }
   ],
   "source": [
    "plot_images(train_path+'/disgust')"
   ]
  },
  {
   "cell_type": "code",
   "execution_count": 18,
   "metadata": {
    "colab": {
     "base_uri": "https://localhost:8080/"
    },
    "execution": {
     "iopub.execute_input": "2021-11-08T18:53:50.460532Z",
     "iopub.status.busy": "2021-11-08T18:53:50.460532Z",
     "iopub.status.idle": "2021-11-08T18:53:51.040183Z",
     "shell.execute_reply": "2021-11-08T18:53:51.040183Z",
     "shell.execute_reply.started": "2021-11-08T18:53:50.460532Z"
    },
    "id": "WscHqpCkdvZA",
    "outputId": "539e4c55-4581-4b88-a47e-3596d000a01f"
   },
   "outputs": [
    {
     "data": {
      "image/png": "[encoded data removed]",
      "text/plain": [
       "<Figure size 720x720 with 5 Axes>"
      ]
     },
     "metadata": {
      "needs_background": "light"
     },
     "output_type": "display_data"
    }
   ],
   "source": [
    "plot_images(train_path+'/fear')"
   ]
  },
  {
   "cell_type": "code",
   "execution_count": 19,
   "metadata": {
    "colab": {
     "base_uri": "https://localhost:8080/"
    },
    "execution": {
     "iopub.execute_input": "2021-11-08T18:53:51.040183Z",
     "iopub.status.busy": "2021-11-08T18:53:51.040183Z",
     "iopub.status.idle": "2021-11-08T18:53:51.640227Z",
     "shell.execute_reply": "2021-11-08T18:53:51.640227Z",
     "shell.execute_reply.started": "2021-11-08T18:53:51.040183Z"
    },
    "id": "yEsIcsCsdxFn",
    "outputId": "c5a79279-61bb-4c1b-9b59-fe684d9e356e"
   },
   "outputs": [
    {
     "data": {
      "image/png": "[encoded data removed]",
      "text/plain": [
       "<Figure size 720x720 with 5 Axes>"
      ]
     },
     "metadata": {
      "needs_background": "light"
     },
     "output_type": "display_data"
    }
   ],
   "source": [
    "plot_images(train_path+'/happy')"
   ]
  },
  {
   "cell_type": "code",
   "execution_count": 20,
   "metadata": {
    "colab": {
     "base_uri": "https://localhost:8080/"
    },
    "execution": {
     "iopub.execute_input": "2021-11-08T18:53:51.640227Z",
     "iopub.status.busy": "2021-11-08T18:53:51.640227Z",
     "iopub.status.idle": "2021-11-08T18:53:52.220339Z",
     "shell.execute_reply": "2021-11-08T18:53:52.220339Z",
     "shell.execute_reply.started": "2021-11-08T18:53:51.640227Z"
    },
    "id": "zOc4Hrzkd0Px",
    "outputId": "18a87c32-d8b1-481e-a3bd-995e3e85d83a"
   },
   "outputs": [
    {
     "data": {
      "image/png": "[encoded data removed]",
      "text/plain": [
       "<Figure size 720x720 with 5 Axes>"
      ]
     },
     "metadata": {
      "needs_background": "light"
     },
     "output_type": "display_data"
    }
   ],
   "source": [
    "plot_images(train_path+'/neutral')"
   ]
  },
  {
   "cell_type": "code",
   "execution_count": 21,
   "metadata": {
    "colab": {
     "base_uri": "https://localhost:8080/"
    },
    "execution": {
     "iopub.execute_input": "2021-11-08T18:53:52.220339Z",
     "iopub.status.busy": "2021-11-08T18:53:52.220339Z",
     "iopub.status.idle": "2021-11-08T18:53:52.800103Z",
     "shell.execute_reply": "2021-11-08T18:53:52.800103Z",
     "shell.execute_reply.started": "2021-11-08T18:53:52.220339Z"
    },
    "id": "4QqU9bKTd1a0",
    "outputId": "896cb926-0462-4f7c-c25e-1576a93da1a0"
   },
   "outputs": [
    {
     "data": {
      "image/png": "[encoded data removed]",
      "text/plain": [
       "<Figure size 720x720 with 5 Axes>"
      ]
     },
     "metadata": {
      "needs_background": "light"
     },
     "output_type": "display_data"
    }
   ],
   "source": [
    "plot_images(train_path+'/sad')"
   ]
  },
  {
   "cell_type": "code",
   "execution_count": 22,
   "metadata": {
    "colab": {
     "base_uri": "https://localhost:8080/"
    },
    "execution": {
     "iopub.execute_input": "2021-11-08T18:53:52.802105Z",
     "iopub.status.busy": "2021-11-08T18:53:52.801105Z",
     "iopub.status.idle": "2021-11-08T18:53:53.480575Z",
     "shell.execute_reply": "2021-11-08T18:53:53.480575Z",
     "shell.execute_reply.started": "2021-11-08T18:53:52.802105Z"
    },
    "id": "iaABL42zd5Qp",
    "outputId": "2030b71e-bea4-415f-a303-a73d5921366b"
   },
   "outputs": [
    {
     "data": {
      "image/png": "[encoded data removed]",
      "text/plain": [
       "<Figure size 720x720 with 5 Axes>"
      ]
     },
     "metadata": {
      "needs_background": "light"
     },
     "output_type": "display_data"
    }
   ],
   "source": [
    "plot_images(train_path+'/surprise')"
   ]
  },
  {
   "cell_type": "code",
   "execution_count": 46,
   "metadata": {
    "execution": {
     "iopub.execute_input": "2021-11-08T19:35:21.225286Z",
     "iopub.status.busy": "2021-11-08T19:35:21.224276Z",
     "iopub.status.idle": "2021-11-08T19:35:21.925247Z",
     "shell.execute_reply": "2021-11-08T19:35:21.925247Z",
     "shell.execute_reply.started": "2021-11-08T19:35:21.225286Z"
    },
    "id": "9zK0cNrid9f4",
    "tags": []
   },
   "outputs": [],
   "source": [
    "from tensorflow.keras.preprocessing.image import ImageDataGenerator \n",
    "from tensorflow.keras.utils import to_categorical, plot_model\n",
    "from tensorflow.keras import models, layers, regularizers\n",
    "from sklearn.metrics import classification_report"
   ]
  },
  {
   "cell_type": "code",
   "execution_count": 24,
   "metadata": {
    "colab": {
     "base_uri": "https://localhost:8080/"
    },
    "execution": {
     "iopub.execute_input": "2021-11-08T18:53:57.770413Z",
     "iopub.status.busy": "2021-11-08T18:53:57.770413Z",
     "iopub.status.idle": "2021-11-08T18:53:57.786402Z",
     "shell.execute_reply": "2021-11-08T18:53:57.786402Z",
     "shell.execute_reply.started": "2021-11-08T18:53:57.770413Z"
    },
    "id": "3mmym3dueAHN",
    "outputId": "f560cf5d-7350-4c27-ae83-a0ecc26fd03e"
   },
   "outputs": [
    {
     "name": "stdout",
     "output_type": "stream",
     "text": [
      "['angry', 'disgust', 'fear', 'happy', 'neutral', 'sad', 'surprise']\n"
     ]
    }
   ],
   "source": [
    "emotion_labels = sorted(os.listdir(train_path))\n",
    "print(emotion_labels)"
   ]
  },
  {
   "cell_type": "markdown",
   "metadata": {
    "id": "25rrqk4vfKRg",
    "tags": []
   },
   "source": [
    "# Split sets"
   ]
  },
  {
   "cell_type": "code",
   "execution_count": 25,
   "metadata": {
    "colab": {
     "base_uri": "https://localhost:8080/"
    },
    "execution": {
     "iopub.execute_input": "2021-11-08T18:53:57.786402Z",
     "iopub.status.busy": "2021-11-08T18:53:57.786402Z",
     "iopub.status.idle": "2021-11-08T18:53:59.685367Z",
     "shell.execute_reply": "2021-11-08T18:53:59.685367Z",
     "shell.execute_reply.started": "2021-11-08T18:53:57.786402Z"
    },
    "id": "CDHbx30OeEN3",
    "outputId": "6a589c0d-e253-43bb-f46f-5d6b4df09020"
   },
   "outputs": [
    {
     "name": "stdout",
     "output_type": "stream",
     "text": [
      "Found 17941 images belonging to 7 classes.\n",
      "Found 8969 images belonging to 7 classes.\n",
      "Found 8977 images belonging to 7 classes.\n"
     ]
    }
   ],
   "source": [
    "\"\"\"\n",
    "The batch size defines the number of samples that will be propagated through the network.\n",
    "\"\"\"\n",
    "batch_size = 64 # samples usados a cada iteração\n",
    "target_size = (48,48)\n",
    "\n",
    "\"\"\"\n",
    "The image data has values between 0-255, which we want to scale between 0-1, so we divide by 255.\n",
    "\"\"\"\n",
    "train_datagen = ImageDataGenerator(rescale=1./255)\n",
    "val_datagen   = ImageDataGenerator(rescale=1./255)\n",
    "test_datagen   = ImageDataGenerator(rescale=1./255)\n",
    "\n",
    "train_generator = train_datagen.flow_from_directory(\n",
    "        train_path,\n",
    "        target_size=target_size,\n",
    "        batch_size=batch_size,\n",
    "        color_mode=\"grayscale\",\n",
    "        class_mode='categorical',\n",
    "        shuffle=True)\n",
    "\n",
    "val_generator = val_datagen.flow_from_directory(\n",
    "        val_path,\n",
    "        target_size=target_size,\n",
    "        batch_size=batch_size,\n",
    "        color_mode=\"grayscale\",\n",
    "        class_mode='categorical',\n",
    "        shuffle=False)\n",
    "\n",
    "test_generator = test_datagen.flow_from_directory(\n",
    "        test_path,\n",
    "        target_size=target_size,\n",
    "        batch_size=batch_size,\n",
    "        color_mode=\"grayscale\",\n",
    "        class_mode='categorical',\n",
    "        shuffle=False)"
   ]
  },
  {
   "cell_type": "code",
   "execution_count": 111,
   "metadata": {
    "execution": {
     "iopub.execute_input": "2021-11-08T21:17:54.242718Z",
     "iopub.status.busy": "2021-11-08T21:17:54.242718Z",
     "iopub.status.idle": "2021-11-08T21:17:55.231628Z",
     "shell.execute_reply": "2021-11-08T21:17:55.231628Z",
     "shell.execute_reply.started": "2021-11-08T21:17:54.242718Z"
    },
    "id": "i5StZOqp__DL",
    "tags": []
   },
   "outputs": [],
   "source": [
    "X_train, y_train = next(train_generator)\n",
    "X_val, y_val = next(val_generator)\n",
    "X_test, y_test = next(test_generator)"
   ]
  },
  {
   "cell_type": "code",
   "execution_count": 112,
   "metadata": {
    "colab": {
     "base_uri": "https://localhost:8080/"
    },
    "execution": {
     "iopub.execute_input": "2021-11-08T21:17:56.536295Z",
     "iopub.status.busy": "2021-11-08T21:17:56.536295Z",
     "iopub.status.idle": "2021-11-08T21:17:56.542301Z",
     "shell.execute_reply": "2021-11-08T21:17:56.542301Z",
     "shell.execute_reply.started": "2021-11-08T21:17:56.536295Z"
    },
    "id": "ELrlZc_yjdIg",
    "outputId": "9185ad86-778f-4496-90ee-0dec670dedc9",
    "tags": []
   },
   "outputs": [
    {
     "name": "stdout",
     "output_type": "stream",
     "text": [
      "[0 0 0 ... 6 6 6]\n",
      "(8977,)\n"
     ]
    }
   ],
   "source": [
    "test_labels = test_generator.classes\n",
    "print(test_labels)\n",
    "print(test_labels.shape)"
   ]
  },
  {
   "cell_type": "markdown",
   "metadata": {
    "id": "qgvHyHgLfREJ",
    "tags": []
   },
   "source": [
    "# Model\n",
    "\n",
    "https://www.kaggle.com/kenlin8928/fer2013-cnn/notebook\n",
    "\n",
    "https://towardsdatascience.com/in-depth-machine-learning-image-classification-with-tensorflow-2-0-a76526b32af8"
   ]
  },
  {
   "cell_type": "code",
   "execution_count": 113,
   "metadata": {
    "execution": {
     "iopub.execute_input": "2021-11-08T21:17:59.156294Z",
     "iopub.status.busy": "2021-11-08T21:17:59.156294Z",
     "iopub.status.idle": "2021-11-08T21:17:59.169176Z",
     "shell.execute_reply": "2021-11-08T21:17:59.169176Z",
     "shell.execute_reply.started": "2021-11-08T21:17:59.156294Z"
    },
    "id": "WD2-cFOtosHU",
    "tags": []
   },
   "outputs": [],
   "source": [
    "import tensorflow as tf\n",
    "from tensorflow import keras\n",
    "import pandas as pd\n",
    "import numpy as np\n",
    "import time\n",
    "from tensorflow.python.client import device_lib\n",
    "from tensorflow.keras import layers\n",
    "from tensorflow.keras import activations"
   ]
  },
  {
   "cell_type": "code",
   "execution_count": 114,
   "metadata": {
    "colab": {
     "base_uri": "https://localhost:8080/",
     "height": 35
    },
    "execution": {
     "iopub.execute_input": "2021-11-08T21:17:59.807089Z",
     "iopub.status.busy": "2021-11-08T21:17:59.807089Z",
     "iopub.status.idle": "2021-11-08T21:17:59.836115Z",
     "shell.execute_reply": "2021-11-08T21:17:59.836115Z",
     "shell.execute_reply.started": "2021-11-08T21:17:59.807089Z"
    },
    "id": "amcFq7DdkS24",
    "outputId": "46579cd7-c118-402e-82a0-5653261068fc",
    "tags": []
   },
   "outputs": [
    {
     "data": {
      "text/plain": [
       "'/device:GPU:0'"
      ]
     },
     "execution_count": 114,
     "metadata": {},
     "output_type": "execute_result"
    }
   ],
   "source": [
    "tf.test.gpu_device_name()"
   ]
  },
  {
   "cell_type": "code",
   "execution_count": 115,
   "metadata": {
    "colab": {
     "base_uri": "https://localhost:8080/"
    },
    "execution": {
     "iopub.execute_input": "2021-11-08T21:18:00.064321Z",
     "iopub.status.busy": "2021-11-08T21:18:00.064321Z",
     "iopub.status.idle": "2021-11-08T21:18:00.075330Z",
     "shell.execute_reply": "2021-11-08T21:18:00.075330Z",
     "shell.execute_reply.started": "2021-11-08T21:18:00.064321Z"
    },
    "id": "R1PsRwoVkXGR",
    "outputId": "e628ec56-2ba8-4148-9972-06d1a172c7dc",
    "tags": []
   },
   "outputs": [
    {
     "data": {
      "text/plain": [
       "[name: \"/device:CPU:0\"\n",
       " device_type: \"CPU\"\n",
       " memory_limit: 268435456\n",
       " locality {\n",
       " }\n",
       " incarnation: 16366390607381810264,\n",
       " name: \"/device:GPU:0\"\n",
       " device_type: \"GPU\"\n",
       " memory_limit: 6934691840\n",
       " locality {\n",
       "   bus_id: 1\n",
       "   links {\n",
       "   }\n",
       " }\n",
       " incarnation: 830630160721648636\n",
       " physical_device_desc: \"device: 0, name: NVIDIA GeForce GTX 1070 Ti, pci bus id: 0000:0a:00.0, compute capability: 6.1\"]"
      ]
     },
     "execution_count": 115,
     "metadata": {},
     "output_type": "execute_result"
    }
   ],
   "source": [
    "device_lib.list_local_devices()"
   ]
  },
  {
   "cell_type": "code",
   "execution_count": 116,
   "metadata": {
    "execution": {
     "iopub.execute_input": "2021-11-08T21:18:01.885832Z",
     "iopub.status.busy": "2021-11-08T21:18:01.884822Z",
     "iopub.status.idle": "2021-11-08T21:18:01.888825Z",
     "shell.execute_reply": "2021-11-08T21:18:01.888825Z",
     "shell.execute_reply.started": "2021-11-08T21:18:01.885832Z"
    },
    "id": "uh5t7cZNfSF1",
    "tags": []
   },
   "outputs": [],
   "source": [
    "input_shape = (48,48,1) # img_rows, img_colums, color_channels\n",
    "num_classes = 7"
   ]
  },
  {
   "cell_type": "markdown",
   "metadata": {
    "id": "Pp2EmKM8TiMC"
   },
   "source": [
    "## Initial MLP"
   ]
  },
  {
   "cell_type": "markdown",
   "metadata": {
    "id": "uFLeCI49T_a-"
   },
   "source": [
    "### Structure"
   ]
  },
  {
   "cell_type": "code",
   "execution_count": 117,
   "metadata": {
    "execution": {
     "iopub.execute_input": "2021-11-08T21:18:03.922255Z",
     "iopub.status.busy": "2021-11-08T21:18:03.921255Z",
     "iopub.status.idle": "2021-11-08T21:18:03.935267Z",
     "shell.execute_reply": "2021-11-08T21:18:03.935267Z",
     "shell.execute_reply.started": "2021-11-08T21:18:03.922255Z"
    },
    "tags": []
   },
   "outputs": [],
   "source": [
    "def buildMLP(has_dropout, qtd_layers, neurons):\n",
    "    model = models.Sequential()\n",
    "    \n",
    "    model.add(layers.Dense(neurons[0], input_shape=input_shape))\n",
    "    model.add(layers.Activation('relu'))\n",
    "    if(has_dropout[0] > 0):\n",
    "      model.add(layers.Dropout(has_dropout[0]))\n",
    "\n",
    "    for i in range(1, qtd_layers):\n",
    "      model.add(layers.Dense(neurons[i]))\n",
    "      model.add(layers.Activation('relu'))\n",
    "      if(has_dropout[i] > 0):\n",
    "        model.add(layers.Dropout(has_dropout[i]))\n",
    "\n",
    "    model.add(layers.Flatten())\n",
    "    \n",
    "    model.add(layers.Dense(num_classes))\n",
    "    model.add(layers.Activation('softmax'))\n",
    "\n",
    "    # model.summary()\n",
    "\n",
    "    # tf.keras.utils.plot_model(\n",
    "    #     model,\n",
    "    #     show_shapes=True,\n",
    "    #     show_layer_names=True,\n",
    "    # )\n",
    "\n",
    "    model.compile(loss='categorical_crossentropy', optimizer='adam', metrics=['accuracy']) \n",
    "    \n",
    "    return model"
   ]
  },
  {
   "cell_type": "code",
   "execution_count": 118,
   "metadata": {
    "execution": {
     "iopub.execute_input": "2021-11-08T21:18:04.955854Z",
     "iopub.status.busy": "2021-11-08T21:18:04.955854Z",
     "iopub.status.idle": "2021-11-08T21:18:05.021914Z",
     "shell.execute_reply": "2021-11-08T21:18:05.021914Z",
     "shell.execute_reply.started": "2021-11-08T21:18:04.955854Z"
    },
    "id": "ueJ5-vDcwvbE",
    "tags": []
   },
   "outputs": [],
   "source": [
    "model_test_mlp = buildMLP([0, 0], 1, [16, 16])"
   ]
  },
  {
   "cell_type": "code",
   "execution_count": 119,
   "metadata": {
    "execution": {
     "iopub.execute_input": "2021-11-08T21:18:05.937854Z",
     "iopub.status.busy": "2021-11-08T21:18:05.937854Z",
     "iopub.status.idle": "2021-11-08T21:18:05.941857Z",
     "shell.execute_reply": "2021-11-08T21:18:05.941857Z",
     "shell.execute_reply.started": "2021-11-08T21:18:05.937854Z"
    },
    "id": "m-RfpaJzTfxr",
    "tags": []
   },
   "outputs": [
    {
     "name": "stdout",
     "output_type": "stream",
     "text": [
      "Model: \"sequential_11\"\n",
      "_________________________________________________________________\n",
      "Layer (type)                 Output Shape              Param #   \n",
      "=================================================================\n",
      "dense_22 (Dense)             (None, 48, 48, 16)        32        \n",
      "_________________________________________________________________\n",
      "activation_18 (Activation)   (None, 48, 48, 16)        0         \n",
      "_________________________________________________________________\n",
      "flatten_11 (Flatten)         (None, 36864)             0         \n",
      "_________________________________________________________________\n",
      "dense_23 (Dense)             (None, 7)                 258055    \n",
      "_________________________________________________________________\n",
      "activation_19 (Activation)   (None, 7)                 0         \n",
      "=================================================================\n",
      "Total params: 258,087\n",
      "Trainable params: 258,087\n",
      "Non-trainable params: 0\n",
      "_________________________________________________________________\n"
     ]
    }
   ],
   "source": [
    "model_test_mlp.summary()"
   ]
  },
  {
   "cell_type": "code",
   "execution_count": 120,
   "metadata": {
    "execution": {
     "iopub.execute_input": "2021-11-08T21:18:19.956865Z",
     "iopub.status.busy": "2021-11-08T21:18:19.955864Z",
     "iopub.status.idle": "2021-11-08T21:18:19.974881Z",
     "shell.execute_reply": "2021-11-08T21:18:19.974881Z",
     "shell.execute_reply.started": "2021-11-08T21:18:19.955864Z"
    },
    "id": "3Z7kRMemUM3B",
    "tags": []
   },
   "outputs": [
    {
     "name": "stdout",
     "output_type": "stream",
     "text": [
      "('You must install pydot (`pip install pydot`) and install graphviz (see instructions at https://graphviz.gitlab.io/download/) ', 'for plot_model/model_to_dot to work.')\n"
     ]
    }
   ],
   "source": [
    "tf.keras.utils.plot_model(\n",
    "    model_test_mlp,\n",
    "    show_shapes=True,\n",
    "    show_layer_names=True,\n",
    ")"
   ]
  },
  {
   "cell_type": "markdown",
   "metadata": {
    "id": "2MdM4UF-UF08"
   },
   "source": [
    "### Train"
   ]
  },
  {
   "cell_type": "code",
   "execution_count": 121,
   "metadata": {
    "execution": {
     "iopub.execute_input": "2021-11-08T21:18:21.253870Z",
     "iopub.status.busy": "2021-11-08T21:18:21.252871Z",
     "iopub.status.idle": "2021-11-08T21:18:21.262879Z",
     "shell.execute_reply": "2021-11-08T21:18:21.262879Z",
     "shell.execute_reply.started": "2021-11-08T21:18:21.253870Z"
    },
    "id": "GCYdSY-bUbFD",
    "tags": []
   },
   "outputs": [
    {
     "name": "stdout",
     "output_type": "stream",
     "text": [
      "100 280 140\n"
     ]
    }
   ],
   "source": [
    "num_epochs = 100\n",
    "STEP_SIZE_TRAIN = train_generator.n//train_generator.batch_size\n",
    "STEP_SIZE_VAL   = val_generator.n//val_generator.batch_size\n",
    "print(num_epochs, STEP_SIZE_TRAIN, STEP_SIZE_VAL)"
   ]
  },
  {
   "cell_type": "code",
   "execution_count": 42,
   "metadata": {
    "execution": {
     "iopub.execute_input": "2021-11-08T19:03:09.501693Z",
     "iopub.status.busy": "2021-11-08T19:03:09.501693Z",
     "iopub.status.idle": "2021-11-08T19:20:04.822383Z",
     "shell.execute_reply": "2021-11-08T19:20:04.822383Z",
     "shell.execute_reply.started": "2021-11-08T19:03:09.501693Z"
    },
    "id": "cCrtN701SGo3"
   },
   "outputs": [
    {
     "name": "stdout",
     "output_type": "stream",
     "text": [
      "Epoch 1/100\n",
      "280/280 [==============================] - 174s 617ms/step - loss: 1.7957 - accuracy: 0.2910 - val_loss: 1.7106 - val_accuracy: 0.3373\n",
      "Epoch 2/100\n",
      "280/280 [==============================] - 8s 29ms/step - loss: 1.6785 - accuracy: 0.3438 - val_loss: 1.6759 - val_accuracy: 0.3479\n",
      "Epoch 3/100\n",
      "280/280 [==============================] - 8s 29ms/step - loss: 1.6684 - accuracy: 0.3508 - val_loss: 1.6675 - val_accuracy: 0.3506\n",
      "Epoch 4/100\n",
      "280/280 [==============================] - 8s 29ms/step - loss: 1.6375 - accuracy: 0.3688 - val_loss: 1.6751 - val_accuracy: 0.3547\n",
      "Epoch 5/100\n",
      "280/280 [==============================] - 8s 29ms/step - loss: 1.6272 - accuracy: 0.3724 - val_loss: 1.6394 - val_accuracy: 0.3609\n",
      "Epoch 6/100\n",
      "280/280 [==============================] - 8s 29ms/step - loss: 1.6073 - accuracy: 0.3810 - val_loss: 1.6582 - val_accuracy: 0.3472\n",
      "Epoch 7/100\n",
      "280/280 [==============================] - 8s 29ms/step - loss: 1.6005 - accuracy: 0.3861 - val_loss: 1.6319 - val_accuracy: 0.3651\n",
      "Epoch 8/100\n",
      "280/280 [==============================] - 8s 30ms/step - loss: 1.5909 - accuracy: 0.3891 - val_loss: 1.6467 - val_accuracy: 0.3598\n",
      "Epoch 9/100\n",
      "280/280 [==============================] - 8s 30ms/step - loss: 1.5773 - accuracy: 0.3962 - val_loss: 1.6245 - val_accuracy: 0.3701\n",
      "Epoch 10/100\n",
      "280/280 [==============================] - 8s 29ms/step - loss: 1.5642 - accuracy: 0.3982 - val_loss: 1.6517 - val_accuracy: 0.3537\n",
      "Epoch 11/100\n",
      "280/280 [==============================] - 8s 29ms/step - loss: 1.5577 - accuracy: 0.4011 - val_loss: 1.6563 - val_accuracy: 0.3634\n",
      "Epoch 12/100\n",
      "280/280 [==============================] - 8s 29ms/step - loss: 1.5478 - accuracy: 0.4062 - val_loss: 1.6524 - val_accuracy: 0.3629\n",
      "Epoch 13/100\n",
      "280/280 [==============================] - 8s 29ms/step - loss: 1.5349 - accuracy: 0.4111 - val_loss: 1.6182 - val_accuracy: 0.3721\n",
      "Epoch 14/100\n",
      "280/280 [==============================] - 8s 28ms/step - loss: 1.5249 - accuracy: 0.4160 - val_loss: 1.6243 - val_accuracy: 0.3671\n",
      "Epoch 15/100\n",
      "280/280 [==============================] - 8s 29ms/step - loss: 1.5209 - accuracy: 0.4187 - val_loss: 1.6339 - val_accuracy: 0.3604\n",
      "Epoch 16/100\n",
      "280/280 [==============================] - 8s 29ms/step - loss: 1.5151 - accuracy: 0.4216 - val_loss: 1.6311 - val_accuracy: 0.3768\n",
      "Epoch 17/100\n",
      "280/280 [==============================] - 8s 29ms/step - loss: 1.5036 - accuracy: 0.4245 - val_loss: 1.6718 - val_accuracy: 0.3618\n",
      "Epoch 18/100\n",
      "280/280 [==============================] - 8s 29ms/step - loss: 1.4937 - accuracy: 0.4323 - val_loss: 1.6607 - val_accuracy: 0.3614\n",
      "Epoch 19/100\n",
      "280/280 [==============================] - 8s 30ms/step - loss: 1.4838 - accuracy: 0.4375 - val_loss: 1.6756 - val_accuracy: 0.3557\n",
      "Epoch 20/100\n",
      "280/280 [==============================] - 8s 29ms/step - loss: 1.4853 - accuracy: 0.4360 - val_loss: 1.6361 - val_accuracy: 0.3682\n",
      "Epoch 21/100\n",
      "280/280 [==============================] - 8s 29ms/step - loss: 1.4671 - accuracy: 0.4422 - val_loss: 1.6468 - val_accuracy: 0.3718\n",
      "Epoch 22/100\n",
      "280/280 [==============================] - 8s 29ms/step - loss: 1.4598 - accuracy: 0.4407 - val_loss: 1.6379 - val_accuracy: 0.3679\n",
      "Epoch 23/100\n",
      "280/280 [==============================] - 8s 29ms/step - loss: 1.4563 - accuracy: 0.4496 - val_loss: 1.6655 - val_accuracy: 0.3706\n",
      "Epoch 24/100\n",
      "280/280 [==============================] - 9s 31ms/step - loss: 1.4423 - accuracy: 0.4496 - val_loss: 1.6621 - val_accuracy: 0.3617\n",
      "Epoch 25/100\n",
      "280/280 [==============================] - 9s 31ms/step - loss: 1.4421 - accuracy: 0.4502 - val_loss: 1.6640 - val_accuracy: 0.3690\n",
      "Epoch 26/100\n",
      "280/280 [==============================] - 8s 30ms/step - loss: 1.4315 - accuracy: 0.4562 - val_loss: 1.6750 - val_accuracy: 0.3625\n",
      "Epoch 27/100\n",
      "280/280 [==============================] - 9s 31ms/step - loss: 1.4206 - accuracy: 0.4647 - val_loss: 1.7040 - val_accuracy: 0.3672\n",
      "Epoch 28/100\n",
      "280/280 [==============================] - 9s 31ms/step - loss: 1.4199 - accuracy: 0.4623 - val_loss: 1.7013 - val_accuracy: 0.3681\n",
      "Epoch 29/100\n",
      "280/280 [==============================] - 8s 30ms/step - loss: 1.4047 - accuracy: 0.4698 - val_loss: 1.6617 - val_accuracy: 0.3731\n",
      "Epoch 30/100\n",
      "280/280 [==============================] - 9s 31ms/step - loss: 1.4021 - accuracy: 0.4726 - val_loss: 1.6705 - val_accuracy: 0.3690\n",
      "Epoch 31/100\n",
      "280/280 [==============================] - 9s 31ms/step - loss: 1.3897 - accuracy: 0.4744 - val_loss: 1.6940 - val_accuracy: 0.3606\n",
      "Epoch 32/100\n",
      "280/280 [==============================] - 8s 30ms/step - loss: 1.3877 - accuracy: 0.4760 - val_loss: 1.6712 - val_accuracy: 0.3734\n",
      "Epoch 33/100\n",
      "280/280 [==============================] - 8s 29ms/step - loss: 1.3787 - accuracy: 0.4773 - val_loss: 1.6783 - val_accuracy: 0.3657\n",
      "Epoch 34/100\n",
      "280/280 [==============================] - 8s 30ms/step - loss: 1.3791 - accuracy: 0.4792 - val_loss: 1.7203 - val_accuracy: 0.3589\n",
      "Epoch 35/100\n",
      "280/280 [==============================] - 8s 30ms/step - loss: 1.3708 - accuracy: 0.4865 - val_loss: 1.7629 - val_accuracy: 0.3643\n",
      "Epoch 36/100\n",
      "280/280 [==============================] - 8s 30ms/step - loss: 1.3575 - accuracy: 0.4876 - val_loss: 1.6864 - val_accuracy: 0.3713\n",
      "Epoch 37/100\n",
      "280/280 [==============================] - 8s 29ms/step - loss: 1.3553 - accuracy: 0.4944 - val_loss: 1.7025 - val_accuracy: 0.3722\n",
      "Epoch 38/100\n",
      "280/280 [==============================] - 8s 30ms/step - loss: 1.3478 - accuracy: 0.4914 - val_loss: 1.7114 - val_accuracy: 0.3613\n",
      "Epoch 39/100\n",
      "280/280 [==============================] - 8s 29ms/step - loss: 1.3337 - accuracy: 0.5013 - val_loss: 1.7276 - val_accuracy: 0.3672\n",
      "Epoch 40/100\n",
      "280/280 [==============================] - 8s 29ms/step - loss: 1.3261 - accuracy: 0.5029 - val_loss: 1.8170 - val_accuracy: 0.3289\n",
      "Epoch 41/100\n",
      "280/280 [==============================] - 8s 30ms/step - loss: 1.3287 - accuracy: 0.4992 - val_loss: 1.7718 - val_accuracy: 0.3429\n",
      "Epoch 42/100\n",
      "280/280 [==============================] - 9s 31ms/step - loss: 1.3197 - accuracy: 0.5028 - val_loss: 1.7373 - val_accuracy: 0.3551\n",
      "Epoch 43/100\n",
      "280/280 [==============================] - 8s 29ms/step - loss: 1.3188 - accuracy: 0.5051 - val_loss: 1.7337 - val_accuracy: 0.3644\n",
      "Epoch 44/100\n",
      "280/280 [==============================] - 8s 29ms/step - loss: 1.3069 - accuracy: 0.5112 - val_loss: 1.7025 - val_accuracy: 0.3698\n",
      "Epoch 45/100\n",
      "280/280 [==============================] - 8s 29ms/step - loss: 1.3048 - accuracy: 0.5103 - val_loss: 1.7637 - val_accuracy: 0.3718\n",
      "Epoch 46/100\n",
      "280/280 [==============================] - 8s 29ms/step - loss: 1.2856 - accuracy: 0.5197 - val_loss: 1.7449 - val_accuracy: 0.3662\n",
      "Epoch 47/100\n",
      "280/280 [==============================] - 8s 29ms/step - loss: 1.2960 - accuracy: 0.5139 - val_loss: 1.7426 - val_accuracy: 0.3652\n",
      "Epoch 48/100\n",
      "280/280 [==============================] - 9s 31ms/step - loss: 1.2717 - accuracy: 0.5274 - val_loss: 1.7579 - val_accuracy: 0.3594\n",
      "Epoch 49/100\n",
      "280/280 [==============================] - 8s 30ms/step - loss: 1.2777 - accuracy: 0.5234 - val_loss: 1.7953 - val_accuracy: 0.3698\n",
      "Epoch 50/100\n",
      "280/280 [==============================] - 8s 30ms/step - loss: 1.2753 - accuracy: 0.5237 - val_loss: 1.7575 - val_accuracy: 0.3623\n",
      "Epoch 51/100\n",
      "280/280 [==============================] - 8s 29ms/step - loss: 1.2648 - accuracy: 0.5304 - val_loss: 1.7657 - val_accuracy: 0.3656\n",
      "Epoch 52/100\n",
      "280/280 [==============================] - 8s 29ms/step - loss: 1.2524 - accuracy: 0.5331 - val_loss: 1.7788 - val_accuracy: 0.3662\n",
      "Epoch 53/100\n",
      "280/280 [==============================] - 9s 31ms/step - loss: 1.2572 - accuracy: 0.5340 - val_loss: 1.8020 - val_accuracy: 0.3623\n",
      "Epoch 54/100\n",
      "280/280 [==============================] - 9s 30ms/step - loss: 1.2419 - accuracy: 0.5383 - val_loss: 1.7834 - val_accuracy: 0.3642\n",
      "Epoch 55/100\n",
      "280/280 [==============================] - 8s 29ms/step - loss: 1.2422 - accuracy: 0.5400 - val_loss: 1.7960 - val_accuracy: 0.3595\n",
      "Epoch 56/100\n",
      "280/280 [==============================] - 8s 29ms/step - loss: 1.2388 - accuracy: 0.5381 - val_loss: 1.7765 - val_accuracy: 0.3648\n",
      "Epoch 57/100\n",
      "280/280 [==============================] - 8s 29ms/step - loss: 1.2239 - accuracy: 0.5458 - val_loss: 1.8659 - val_accuracy: 0.3592\n",
      "Epoch 58/100\n",
      "280/280 [==============================] - 8s 29ms/step - loss: 1.2307 - accuracy: 0.5390 - val_loss: 1.8052 - val_accuracy: 0.3521\n",
      "Epoch 59/100\n",
      "280/280 [==============================] - 8s 29ms/step - loss: 1.2236 - accuracy: 0.5402 - val_loss: 1.8644 - val_accuracy: 0.3339\n",
      "Epoch 60/100\n",
      "280/280 [==============================] - 8s 29ms/step - loss: 1.2144 - accuracy: 0.5472 - val_loss: 1.8075 - val_accuracy: 0.3622\n",
      "Epoch 61/100\n",
      "280/280 [==============================] - 8s 29ms/step - loss: 1.2138 - accuracy: 0.5509 - val_loss: 1.7887 - val_accuracy: 0.3580\n",
      "Epoch 62/100\n",
      "280/280 [==============================] - 8s 30ms/step - loss: 1.2045 - accuracy: 0.5512 - val_loss: 1.8114 - val_accuracy: 0.3598\n",
      "Epoch 63/100\n",
      "280/280 [==============================] - 8s 29ms/step - loss: 1.1900 - accuracy: 0.5629 - val_loss: 1.8031 - val_accuracy: 0.3655\n",
      "Epoch 64/100\n",
      "280/280 [==============================] - 8s 29ms/step - loss: 1.1887 - accuracy: 0.5592 - val_loss: 1.8521 - val_accuracy: 0.3585\n",
      "Epoch 65/100\n",
      "280/280 [==============================] - 8s 29ms/step - loss: 1.1968 - accuracy: 0.5529 - val_loss: 1.8743 - val_accuracy: 0.3449\n",
      "Epoch 66/100\n",
      "280/280 [==============================] - 8s 30ms/step - loss: 1.1944 - accuracy: 0.5547 - val_loss: 1.8398 - val_accuracy: 0.3589\n",
      "Epoch 67/100\n",
      "280/280 [==============================] - 8s 29ms/step - loss: 1.1725 - accuracy: 0.5623 - val_loss: 1.8506 - val_accuracy: 0.3489\n",
      "Epoch 68/100\n",
      "280/280 [==============================] - 9s 31ms/step - loss: 1.1681 - accuracy: 0.5665 - val_loss: 1.8394 - val_accuracy: 0.3663\n",
      "Epoch 69/100\n",
      "280/280 [==============================] - 8s 30ms/step - loss: 1.1651 - accuracy: 0.5684 - val_loss: 1.9158 - val_accuracy: 0.3549\n",
      "Epoch 70/100\n",
      "280/280 [==============================] - 8s 30ms/step - loss: 1.1730 - accuracy: 0.5672 - val_loss: 1.8513 - val_accuracy: 0.3662\n",
      "Epoch 71/100\n",
      "280/280 [==============================] - 8s 29ms/step - loss: 1.1520 - accuracy: 0.5741 - val_loss: 1.9415 - val_accuracy: 0.3398\n",
      "Epoch 72/100\n",
      "280/280 [==============================] - 8s 29ms/step - loss: 1.1526 - accuracy: 0.5708 - val_loss: 1.8835 - val_accuracy: 0.3565\n",
      "Epoch 73/100\n",
      "280/280 [==============================] - 9s 31ms/step - loss: 1.1457 - accuracy: 0.5760 - val_loss: 1.8845 - val_accuracy: 0.3517\n",
      "Epoch 74/100\n",
      "280/280 [==============================] - 8s 29ms/step - loss: 1.1518 - accuracy: 0.5750 - val_loss: 1.8600 - val_accuracy: 0.3609\n",
      "Epoch 75/100\n",
      "280/280 [==============================] - 8s 30ms/step - loss: 1.1407 - accuracy: 0.5754 - val_loss: 1.9015 - val_accuracy: 0.3602\n",
      "Epoch 76/100\n",
      "280/280 [==============================] - 9s 30ms/step - loss: 1.1379 - accuracy: 0.5783 - val_loss: 1.9060 - val_accuracy: 0.3638\n",
      "Epoch 77/100\n",
      "280/280 [==============================] - 9s 32ms/step - loss: 1.1346 - accuracy: 0.5780 - val_loss: 1.8721 - val_accuracy: 0.3616\n",
      "Epoch 78/100\n",
      "280/280 [==============================] - 10s 34ms/step - loss: 1.1226 - accuracy: 0.5845 - val_loss: 1.9328 - val_accuracy: 0.3458\n",
      "Epoch 79/100\n",
      "280/280 [==============================] - 9s 31ms/step - loss: 1.1203 - accuracy: 0.5841 - val_loss: 1.9853 - val_accuracy: 0.3598\n",
      "Epoch 80/100\n",
      "280/280 [==============================] - 9s 31ms/step - loss: 1.1117 - accuracy: 0.5890 - val_loss: 1.9450 - val_accuracy: 0.3516\n",
      "Epoch 81/100\n",
      "280/280 [==============================] - 8s 30ms/step - loss: 1.1161 - accuracy: 0.5861 - val_loss: 1.9165 - val_accuracy: 0.3555\n",
      "Epoch 82/100\n",
      "280/280 [==============================] - 9s 33ms/step - loss: 1.1115 - accuracy: 0.5871 - val_loss: 1.9624 - val_accuracy: 0.3458\n",
      "Epoch 83/100\n",
      "280/280 [==============================] - 10s 35ms/step - loss: 1.1081 - accuracy: 0.5909 - val_loss: 1.9562 - val_accuracy: 0.3444\n",
      "Epoch 84/100\n",
      "280/280 [==============================] - 9s 32ms/step - loss: 1.0951 - accuracy: 0.5953 - val_loss: 1.9313 - val_accuracy: 0.3604\n",
      "Epoch 85/100\n",
      "280/280 [==============================] - 10s 36ms/step - loss: 1.1093 - accuracy: 0.5893 - val_loss: 1.9539 - val_accuracy: 0.3493\n",
      "Epoch 86/100\n",
      "280/280 [==============================] - 9s 33ms/step - loss: 1.0802 - accuracy: 0.6012 - val_loss: 1.9798 - val_accuracy: 0.3501\n",
      "Epoch 87/100\n",
      "280/280 [==============================] - 9s 33ms/step - loss: 1.0859 - accuracy: 0.6027 - val_loss: 1.9393 - val_accuracy: 0.3623\n",
      "Epoch 88/100\n",
      "280/280 [==============================] - 10s 35ms/step - loss: 1.0940 - accuracy: 0.5923 - val_loss: 1.9964 - val_accuracy: 0.3635\n",
      "Epoch 89/100\n",
      "280/280 [==============================] - 9s 33ms/step - loss: 1.0837 - accuracy: 0.6022 - val_loss: 1.9990 - val_accuracy: 0.3501\n",
      "Epoch 90/100\n",
      "280/280 [==============================] - 10s 37ms/step - loss: 1.0805 - accuracy: 0.6025 - val_loss: 2.0061 - val_accuracy: 0.3602\n",
      "Epoch 91/100\n",
      "280/280 [==============================] - 9s 33ms/step - loss: 1.0690 - accuracy: 0.6060 - val_loss: 1.9814 - val_accuracy: 0.3518\n",
      "Epoch 92/100\n",
      "280/280 [==============================] - 10s 35ms/step - loss: 1.0611 - accuracy: 0.6085 - val_loss: 2.0025 - val_accuracy: 0.3490\n",
      "Epoch 93/100\n",
      "280/280 [==============================] - 10s 34ms/step - loss: 1.0718 - accuracy: 0.6043 - val_loss: 1.9779 - val_accuracy: 0.3571\n",
      "Epoch 94/100\n",
      "280/280 [==============================] - 9s 33ms/step - loss: 1.0541 - accuracy: 0.6126 - val_loss: 1.9970 - val_accuracy: 0.3590\n",
      "Epoch 95/100\n",
      "280/280 [==============================] - 9s 33ms/step - loss: 1.0537 - accuracy: 0.6103 - val_loss: 2.0121 - val_accuracy: 0.3595\n",
      "Epoch 96/100\n",
      "280/280 [==============================] - 9s 32ms/step - loss: 1.0418 - accuracy: 0.6139 - val_loss: 2.0386 - val_accuracy: 0.3362\n",
      "Epoch 97/100\n",
      "280/280 [==============================] - 8s 30ms/step - loss: 1.0385 - accuracy: 0.6215 - val_loss: 2.0683 - val_accuracy: 0.3569\n",
      "Epoch 98/100\n",
      "280/280 [==============================] - 9s 31ms/step - loss: 1.0378 - accuracy: 0.6164 - val_loss: 1.9998 - val_accuracy: 0.3542\n",
      "Epoch 99/100\n",
      "280/280 [==============================] - 8s 30ms/step - loss: 1.0361 - accuracy: 0.6177 - val_loss: 2.0021 - val_accuracy: 0.3555\n",
      "Epoch 100/100\n",
      "280/280 [==============================] - 8s 30ms/step - loss: 1.0293 - accuracy: 0.6220 - val_loss: 2.0535 - val_accuracy: 0.3485\n"
     ]
    }
   ],
   "source": [
    "history_test_mlp = model_test_mlp.fit(train_generator, steps_per_epoch=STEP_SIZE_TRAIN, epochs=num_epochs, verbose=1, validation_data=val_generator, validation_steps=STEP_SIZE_VAL)"
   ]
  },
  {
   "cell_type": "markdown",
   "metadata": {
    "id": "44E1uM3hUR70"
   },
   "source": [
    "#### Test"
   ]
  },
  {
   "cell_type": "code",
   "execution_count": 43,
   "metadata": {
    "colab": {
     "base_uri": "https://localhost:8080/"
    },
    "execution": {
     "iopub.execute_input": "2021-11-08T19:20:04.824386Z",
     "iopub.status.busy": "2021-11-08T19:20:04.824386Z",
     "iopub.status.idle": "2021-11-08T19:21:04.341351Z",
     "shell.execute_reply": "2021-11-08T19:21:04.341351Z",
     "shell.execute_reply.started": "2021-11-08T19:20:04.824386Z"
    },
    "id": "Y4Q3hXKTkSYY",
    "outputId": "162f0956-c00d-437b-bf9d-026458106c24",
    "tags": []
   },
   "outputs": [
    {
     "name": "stdout",
     "output_type": "stream",
     "text": [
      "(8977, 7)\n"
     ]
    }
   ],
   "source": [
    "test_generator.reset()\n",
    "\n",
    "predict_test = model_test_mlp.predict(test_generator)\n",
    "print(predict_test.shape)"
   ]
  },
  {
   "cell_type": "code",
   "execution_count": 44,
   "metadata": {
    "colab": {
     "base_uri": "https://localhost:8080/"
    },
    "execution": {
     "iopub.execute_input": "2021-11-08T19:21:04.343354Z",
     "iopub.status.busy": "2021-11-08T19:21:04.342353Z",
     "iopub.status.idle": "2021-11-08T19:21:04.357368Z",
     "shell.execute_reply": "2021-11-08T19:21:04.357368Z",
     "shell.execute_reply.started": "2021-11-08T19:21:04.343354Z"
    },
    "id": "ieKwOlYFkZqf",
    "outputId": "89f73c58-ae03-4043-8fc0-a9564470a19b",
    "tags": []
   },
   "outputs": [
    {
     "name": "stdout",
     "output_type": "stream",
     "text": [
      "[0 2 6 ... 5 6 6]\n",
      "(8977,)\n"
     ]
    }
   ],
   "source": [
    "y_pred_test = np.argmax(predict_test, axis=-1)\n",
    "print(y_pred_test)\n",
    "print(y_pred_test.shape)"
   ]
  },
  {
   "cell_type": "code",
   "execution_count": 50,
   "metadata": {
    "colab": {
     "base_uri": "https://localhost:8080/"
    },
    "execution": {
     "iopub.execute_input": "2021-11-08T19:35:41.710306Z",
     "iopub.status.busy": "2021-11-08T19:35:41.710306Z",
     "iopub.status.idle": "2021-11-08T19:35:41.735329Z",
     "shell.execute_reply": "2021-11-08T19:35:41.735329Z",
     "shell.execute_reply.started": "2021-11-08T19:35:41.710306Z"
    },
    "id": "F-0pUzfokt8V",
    "outputId": "ef316de8-fb3e-4e61-c86b-73e114a27858",
    "tags": []
   },
   "outputs": [
    {
     "name": "stdout",
     "output_type": "stream",
     "text": [
      "              precision    recall  f1-score   support\n",
      "\n",
      "           0       0.30      0.16      0.21      1239\n",
      "           1       0.36      0.17      0.23       138\n",
      "           2       0.22      0.22      0.22      1281\n",
      "           3       0.50      0.47      0.49      2248\n",
      "           4       0.29      0.47      0.36      1550\n",
      "           5       0.32      0.21      0.26      1520\n",
      "           6       0.41      0.52      0.46      1001\n",
      "\n",
      "    accuracy                           0.35      8977\n",
      "   macro avg       0.34      0.32      0.32      8977\n",
      "weighted avg       0.35      0.35      0.34      8977\n",
      "\n"
     ]
    }
   ],
   "source": [
    "print(classification_report(test_labels, y_pred_test))"
   ]
  },
  {
   "cell_type": "code",
   "execution_count": 51,
   "metadata": {
    "colab": {
     "base_uri": "https://localhost:8080/"
    },
    "execution": {
     "iopub.execute_input": "2021-11-08T19:35:41.904481Z",
     "iopub.status.busy": "2021-11-08T19:35:41.904481Z",
     "iopub.status.idle": "2021-11-08T19:35:44.757164Z",
     "shell.execute_reply": "2021-11-08T19:35:44.756162Z",
     "shell.execute_reply.started": "2021-11-08T19:35:41.904481Z"
    },
    "id": "JymvhNhfk66l",
    "outputId": "f7c902bf-3672-4da9-c5f8-38cde176ed3d",
    "tags": []
   },
   "outputs": [
    {
     "name": "stdout",
     "output_type": "stream",
     "text": [
      "141/141 [==============================] - 3s 20ms/step - loss: 2.0678 - accuracy: 0.3515\n",
      "evaluate accuracy: 35.15%\n"
     ]
    }
   ],
   "source": [
    "test_generator.reset()\n",
    "\n",
    "scores = model_test_mlp.evaluate(test_generator)\n",
    "print(\"%s%s: %.2f%%\" % (\"evaluate \", model_test_mlp.metrics_names[1], scores[1]*100))"
   ]
  },
  {
   "cell_type": "markdown",
   "metadata": {
    "id": "6yIiqrV3U7AR"
   },
   "source": [
    "## Initial CNN"
   ]
  },
  {
   "cell_type": "markdown",
   "metadata": {
    "id": "NmO_SaMoUuey"
   },
   "source": [
    "### Structure"
   ]
  },
  {
   "cell_type": "code",
   "execution_count": 54,
   "metadata": {
    "execution": {
     "iopub.execute_input": "2021-11-08T19:36:26.177258Z",
     "iopub.status.busy": "2021-11-08T19:36:26.177258Z",
     "iopub.status.idle": "2021-11-08T19:36:26.185265Z",
     "shell.execute_reply": "2021-11-08T19:36:26.185265Z",
     "shell.execute_reply.started": "2021-11-08T19:36:26.177258Z"
    }
   },
   "outputs": [],
   "source": [
    "def buildCNN(neurons, qtd_layers, dropout_value):\n",
    "    model = models.Sequential()\n",
    "\n",
    "    model.add(layers.Conv2D(neurons[0], kernel_size=(3, 3), activation=activations.relu, padding='same', input_shape=input_shape)) #, data_format='channels_last', kernel_regularizer=regularizers.l2(0.01)))\n",
    "    model.add(layers.MaxPooling2D(pool_size=(2, 2), strides=(2, 2)))\n",
    "    \n",
    "    for i in range(1, qtd_layers + 1):\n",
    "      model.add(layers.Conv2D(neurons[i], kernel_size=(3, 3), activation=activations.relu, padding='same'))\n",
    "      model.add(layers.MaxPooling2D(pool_size=(2, 2), strides=(2, 2)))\n",
    "\n",
    "    model.add(layers.Flatten())\n",
    "\n",
    "    if(dropout_value > 0):\n",
    "      model.add(layers.Dropout(dropout_value))\n",
    "\n",
    "    model.add(layers.Dense(num_classes, activation=activations.softmax))\n",
    "\n",
    "    # model.summary()\n",
    "\n",
    "    # tf.keras.utils.plot_model(\n",
    "    #     model,\n",
    "    #     show_shapes=True,\n",
    "    #     show_layer_names=True,\n",
    "    # )\n",
    "\n",
    "    model.compile(loss='categorical_crossentropy', optimizer='adam', metrics=['accuracy']) \n",
    "    \n",
    "    return model"
   ]
  },
  {
   "cell_type": "code",
   "execution_count": 55,
   "metadata": {
    "execution": {
     "iopub.execute_input": "2021-11-08T19:36:26.736763Z",
     "iopub.status.busy": "2021-11-08T19:36:26.735762Z",
     "iopub.status.idle": "2021-11-08T19:36:26.790812Z",
     "shell.execute_reply": "2021-11-08T19:36:26.790812Z",
     "shell.execute_reply.started": "2021-11-08T19:36:26.736763Z"
    },
    "id": "sPHIHUDRvKcw",
    "tags": []
   },
   "outputs": [],
   "source": [
    "model_test_cnn = buildCNN([32, 32], 1, 0)"
   ]
  },
  {
   "cell_type": "code",
   "execution_count": 56,
   "metadata": {
    "execution": {
     "iopub.execute_input": "2021-11-08T19:36:26.995997Z",
     "iopub.status.busy": "2021-11-08T19:36:26.995997Z",
     "iopub.status.idle": "2021-11-08T19:36:27.013012Z",
     "shell.execute_reply": "2021-11-08T19:36:27.013012Z",
     "shell.execute_reply.started": "2021-11-08T19:36:26.995997Z"
    },
    "id": "x4dRUvtFU-vg",
    "tags": []
   },
   "outputs": [
    {
     "name": "stdout",
     "output_type": "stream",
     "text": [
      "Model: \"sequential_1\"\n",
      "_________________________________________________________________\n",
      "Layer (type)                 Output Shape              Param #   \n",
      "=================================================================\n",
      "conv2d (Conv2D)              (None, 48, 48, 32)        320       \n",
      "_________________________________________________________________\n",
      "max_pooling2d (MaxPooling2D) (None, 24, 24, 32)        0         \n",
      "_________________________________________________________________\n",
      "conv2d_1 (Conv2D)            (None, 24, 24, 32)        9248      \n",
      "_________________________________________________________________\n",
      "max_pooling2d_1 (MaxPooling2 (None, 12, 12, 32)        0         \n",
      "_________________________________________________________________\n",
      "flatten_1 (Flatten)          (None, 4608)              0         \n",
      "_________________________________________________________________\n",
      "dense_2 (Dense)              (None, 7)                 32263     \n",
      "=================================================================\n",
      "Total params: 41,831\n",
      "Trainable params: 41,831\n",
      "Non-trainable params: 0\n",
      "_________________________________________________________________\n"
     ]
    }
   ],
   "source": [
    "model_test_cnn.summary()"
   ]
  },
  {
   "cell_type": "code",
   "execution_count": 57,
   "metadata": {
    "execution": {
     "iopub.execute_input": "2021-11-08T19:36:27.254229Z",
     "iopub.status.busy": "2021-11-08T19:36:27.254229Z",
     "iopub.status.idle": "2021-11-08T19:36:27.268243Z",
     "shell.execute_reply": "2021-11-08T19:36:27.268243Z",
     "shell.execute_reply.started": "2021-11-08T19:36:27.254229Z"
    },
    "id": "NFSYmTnlVVjT",
    "tags": []
   },
   "outputs": [
    {
     "name": "stdout",
     "output_type": "stream",
     "text": [
      "('You must install pydot (`pip install pydot`) and install graphviz (see instructions at https://graphviz.gitlab.io/download/) ', 'for plot_model/model_to_dot to work.')\n"
     ]
    }
   ],
   "source": [
    "tf.keras.utils.plot_model(\n",
    "    model_test_cnn,\n",
    "    show_shapes=True,\n",
    "    show_layer_names=True,\n",
    ")"
   ]
  },
  {
   "cell_type": "markdown",
   "metadata": {
    "id": "6LH5OTf3VW3C"
   },
   "source": [
    "### Train"
   ]
  },
  {
   "cell_type": "code",
   "execution_count": 58,
   "metadata": {
    "execution": {
     "iopub.execute_input": "2021-11-08T19:36:28.212257Z",
     "iopub.status.busy": "2021-11-08T19:36:28.212257Z",
     "iopub.status.idle": "2021-11-08T19:50:07.583617Z",
     "shell.execute_reply": "2021-11-08T19:50:07.583617Z",
     "shell.execute_reply.started": "2021-11-08T19:36:28.212257Z"
    },
    "id": "SgpczeKUSGo5",
    "tags": []
   },
   "outputs": [
    {
     "name": "stdout",
     "output_type": "stream",
     "text": [
      "Epoch 1/100\n",
      "280/280 [==============================] - 12s 32ms/step - loss: 1.7263 - accuracy: 0.3124 - val_loss: 1.6267 - val_accuracy: 0.3762\n",
      "Epoch 2/100\n",
      "280/280 [==============================] - 8s 30ms/step - loss: 1.5452 - accuracy: 0.4082 - val_loss: 1.5073 - val_accuracy: 0.4355\n",
      "Epoch 3/100\n",
      "280/280 [==============================] - 9s 31ms/step - loss: 1.4452 - accuracy: 0.4526 - val_loss: 1.4479 - val_accuracy: 0.4569\n",
      "Epoch 4/100\n",
      "280/280 [==============================] - 9s 31ms/step - loss: 1.3752 - accuracy: 0.4810 - val_loss: 1.4156 - val_accuracy: 0.4585\n",
      "Epoch 5/100\n",
      "280/280 [==============================] - 10s 36ms/step - loss: 1.3285 - accuracy: 0.5022 - val_loss: 1.4004 - val_accuracy: 0.4731\n",
      "Epoch 6/100\n",
      "280/280 [==============================] - 10s 34ms/step - loss: 1.2816 - accuracy: 0.5204 - val_loss: 1.4132 - val_accuracy: 0.4728\n",
      "Epoch 7/100\n",
      "280/280 [==============================] - 9s 33ms/step - loss: 1.2388 - accuracy: 0.5347 - val_loss: 1.3724 - val_accuracy: 0.4866\n",
      "Epoch 8/100\n",
      "280/280 [==============================] - 9s 32ms/step - loss: 1.1907 - accuracy: 0.5555 - val_loss: 1.3694 - val_accuracy: 0.4903\n",
      "Epoch 9/100\n",
      "280/280 [==============================] - 9s 31ms/step - loss: 1.1500 - accuracy: 0.5711 - val_loss: 1.3829 - val_accuracy: 0.4912\n",
      "Epoch 10/100\n",
      "280/280 [==============================] - 8s 29ms/step - loss: 1.1061 - accuracy: 0.5899 - val_loss: 1.3758 - val_accuracy: 0.4927\n",
      "Epoch 11/100\n",
      "280/280 [==============================] - 8s 30ms/step - loss: 1.0646 - accuracy: 0.6095 - val_loss: 1.3759 - val_accuracy: 0.4998\n",
      "Epoch 12/100\n",
      "280/280 [==============================] - 8s 29ms/step - loss: 1.0343 - accuracy: 0.6210 - val_loss: 1.4238 - val_accuracy: 0.4869\n",
      "Epoch 13/100\n",
      "280/280 [==============================] - 8s 29ms/step - loss: 0.9922 - accuracy: 0.6329 - val_loss: 1.4490 - val_accuracy: 0.4963\n",
      "Epoch 14/100\n",
      "280/280 [==============================] - 8s 30ms/step - loss: 0.9666 - accuracy: 0.6465 - val_loss: 1.4321 - val_accuracy: 0.4931\n",
      "Epoch 15/100\n",
      "280/280 [==============================] - 8s 30ms/step - loss: 0.9310 - accuracy: 0.6597 - val_loss: 1.4619 - val_accuracy: 0.4898\n",
      "Epoch 16/100\n",
      "280/280 [==============================] - 9s 31ms/step - loss: 0.9006 - accuracy: 0.6715 - val_loss: 1.4946 - val_accuracy: 0.4977\n",
      "Epoch 17/100\n",
      "280/280 [==============================] - 8s 30ms/step - loss: 0.8785 - accuracy: 0.6799 - val_loss: 1.4805 - val_accuracy: 0.4961\n",
      "Epoch 18/100\n",
      "280/280 [==============================] - 9s 31ms/step - loss: 0.8491 - accuracy: 0.6944 - val_loss: 1.5242 - val_accuracy: 0.4930\n",
      "Epoch 19/100\n",
      "280/280 [==============================] - 8s 30ms/step - loss: 0.8278 - accuracy: 0.7020 - val_loss: 1.5409 - val_accuracy: 0.4949\n",
      "Epoch 20/100\n",
      "280/280 [==============================] - 8s 29ms/step - loss: 0.8029 - accuracy: 0.7100 - val_loss: 1.5733 - val_accuracy: 0.4971\n",
      "Epoch 21/100\n",
      "280/280 [==============================] - 8s 30ms/step - loss: 0.7780 - accuracy: 0.7200 - val_loss: 1.5900 - val_accuracy: 0.4914\n",
      "Epoch 22/100\n",
      "280/280 [==============================] - 8s 29ms/step - loss: 0.7604 - accuracy: 0.7271 - val_loss: 1.6223 - val_accuracy: 0.4838\n",
      "Epoch 23/100\n",
      "280/280 [==============================] - 8s 29ms/step - loss: 0.7404 - accuracy: 0.7363 - val_loss: 1.6375 - val_accuracy: 0.4903\n",
      "Epoch 24/100\n",
      "280/280 [==============================] - 8s 29ms/step - loss: 0.7150 - accuracy: 0.7426 - val_loss: 1.6704 - val_accuracy: 0.4891\n",
      "Epoch 25/100\n",
      "280/280 [==============================] - 8s 29ms/step - loss: 0.7000 - accuracy: 0.7506 - val_loss: 1.6974 - val_accuracy: 0.4958\n",
      "Epoch 26/100\n",
      "280/280 [==============================] - 8s 29ms/step - loss: 0.6780 - accuracy: 0.7595 - val_loss: 1.7915 - val_accuracy: 0.4857\n",
      "Epoch 27/100\n",
      "280/280 [==============================] - 8s 29ms/step - loss: 0.6649 - accuracy: 0.7636 - val_loss: 1.7797 - val_accuracy: 0.4855\n",
      "Epoch 28/100\n",
      "280/280 [==============================] - 8s 29ms/step - loss: 0.6490 - accuracy: 0.7686 - val_loss: 1.8031 - val_accuracy: 0.4911\n",
      "Epoch 29/100\n",
      "280/280 [==============================] - 8s 29ms/step - loss: 0.6325 - accuracy: 0.7728 - val_loss: 1.8479 - val_accuracy: 0.4882\n",
      "Epoch 30/100\n",
      "280/280 [==============================] - 8s 28ms/step - loss: 0.6188 - accuracy: 0.7819 - val_loss: 1.8947 - val_accuracy: 0.4790\n",
      "Epoch 31/100\n",
      "280/280 [==============================] - 8s 29ms/step - loss: 0.6074 - accuracy: 0.7841 - val_loss: 1.9419 - val_accuracy: 0.4872\n",
      "Epoch 32/100\n",
      "280/280 [==============================] - 8s 29ms/step - loss: 0.5877 - accuracy: 0.7907 - val_loss: 1.9810 - val_accuracy: 0.4798\n",
      "Epoch 33/100\n",
      "280/280 [==============================] - 8s 29ms/step - loss: 0.5731 - accuracy: 0.7990 - val_loss: 1.9687 - val_accuracy: 0.4839\n",
      "Epoch 34/100\n",
      "280/280 [==============================] - 8s 28ms/step - loss: 0.5588 - accuracy: 0.8052 - val_loss: 2.0337 - val_accuracy: 0.4746\n",
      "Epoch 35/100\n",
      "280/280 [==============================] - 8s 29ms/step - loss: 0.5539 - accuracy: 0.8025 - val_loss: 2.0803 - val_accuracy: 0.4838\n",
      "Epoch 36/100\n",
      "280/280 [==============================] - 8s 29ms/step - loss: 0.5384 - accuracy: 0.8107 - val_loss: 2.0990 - val_accuracy: 0.4824\n",
      "Epoch 37/100\n",
      "280/280 [==============================] - 8s 29ms/step - loss: 0.5229 - accuracy: 0.8176 - val_loss: 2.1236 - val_accuracy: 0.4685\n",
      "Epoch 38/100\n",
      "280/280 [==============================] - 8s 29ms/step - loss: 0.5108 - accuracy: 0.8193 - val_loss: 2.1650 - val_accuracy: 0.4703\n",
      "Epoch 39/100\n",
      "280/280 [==============================] - 8s 29ms/step - loss: 0.5029 - accuracy: 0.8227 - val_loss: 2.2367 - val_accuracy: 0.4665\n",
      "Epoch 40/100\n",
      "280/280 [==============================] - 8s 29ms/step - loss: 0.4903 - accuracy: 0.8277 - val_loss: 2.2570 - val_accuracy: 0.4729\n",
      "Epoch 41/100\n",
      "280/280 [==============================] - 8s 28ms/step - loss: 0.4790 - accuracy: 0.8332 - val_loss: 2.2803 - val_accuracy: 0.4747\n",
      "Epoch 42/100\n",
      "280/280 [==============================] - 8s 29ms/step - loss: 0.4690 - accuracy: 0.8370 - val_loss: 2.3366 - val_accuracy: 0.4695\n",
      "Epoch 43/100\n",
      "280/280 [==============================] - 8s 29ms/step - loss: 0.4642 - accuracy: 0.8359 - val_loss: 2.4080 - val_accuracy: 0.4610\n",
      "Epoch 44/100\n",
      "280/280 [==============================] - 8s 29ms/step - loss: 0.4446 - accuracy: 0.8480 - val_loss: 2.4044 - val_accuracy: 0.4740\n",
      "Epoch 45/100\n",
      "280/280 [==============================] - 8s 29ms/step - loss: 0.4380 - accuracy: 0.8473 - val_loss: 2.4754 - val_accuracy: 0.4733\n",
      "Epoch 46/100\n",
      "280/280 [==============================] - 8s 29ms/step - loss: 0.4311 - accuracy: 0.8498 - val_loss: 2.5063 - val_accuracy: 0.4635\n",
      "Epoch 47/100\n",
      "280/280 [==============================] - 8s 29ms/step - loss: 0.4199 - accuracy: 0.8556 - val_loss: 2.5538 - val_accuracy: 0.4589\n",
      "Epoch 48/100\n",
      "280/280 [==============================] - 8s 29ms/step - loss: 0.4139 - accuracy: 0.8588 - val_loss: 2.5627 - val_accuracy: 0.4642\n",
      "Epoch 49/100\n",
      "280/280 [==============================] - 8s 29ms/step - loss: 0.4040 - accuracy: 0.8582 - val_loss: 2.6194 - val_accuracy: 0.4709\n",
      "Epoch 50/100\n",
      "280/280 [==============================] - 8s 29ms/step - loss: 0.3922 - accuracy: 0.8682 - val_loss: 2.6335 - val_accuracy: 0.4661\n",
      "Epoch 51/100\n",
      "280/280 [==============================] - 8s 28ms/step - loss: 0.3801 - accuracy: 0.8726 - val_loss: 2.7282 - val_accuracy: 0.4685\n",
      "Epoch 52/100\n",
      "280/280 [==============================] - 8s 29ms/step - loss: 0.3715 - accuracy: 0.8713 - val_loss: 2.7842 - val_accuracy: 0.4651\n",
      "Epoch 53/100\n",
      "280/280 [==============================] - 8s 29ms/step - loss: 0.3711 - accuracy: 0.8739 - val_loss: 2.8175 - val_accuracy: 0.4590\n",
      "Epoch 54/100\n",
      "280/280 [==============================] - 8s 29ms/step - loss: 0.3654 - accuracy: 0.8734 - val_loss: 2.8668 - val_accuracy: 0.4672\n",
      "Epoch 55/100\n",
      "280/280 [==============================] - 8s 29ms/step - loss: 0.3539 - accuracy: 0.8810 - val_loss: 2.9046 - val_accuracy: 0.4622\n",
      "Epoch 56/100\n",
      "280/280 [==============================] - 8s 28ms/step - loss: 0.3426 - accuracy: 0.8854 - val_loss: 2.9713 - val_accuracy: 0.4619\n",
      "Epoch 57/100\n",
      "280/280 [==============================] - 8s 29ms/step - loss: 0.3415 - accuracy: 0.8852 - val_loss: 3.0301 - val_accuracy: 0.4589\n",
      "Epoch 58/100\n",
      "280/280 [==============================] - 8s 28ms/step - loss: 0.3303 - accuracy: 0.8887 - val_loss: 3.0451 - val_accuracy: 0.4642\n",
      "Epoch 59/100\n",
      "280/280 [==============================] - 8s 28ms/step - loss: 0.3188 - accuracy: 0.8923 - val_loss: 3.0599 - val_accuracy: 0.4621\n",
      "Epoch 60/100\n",
      "280/280 [==============================] - 8s 29ms/step - loss: 0.3195 - accuracy: 0.8948 - val_loss: 3.1270 - val_accuracy: 0.4587\n",
      "Epoch 61/100\n",
      "280/280 [==============================] - 8s 28ms/step - loss: 0.3089 - accuracy: 0.8984 - val_loss: 3.1672 - val_accuracy: 0.4634\n",
      "Epoch 62/100\n",
      "280/280 [==============================] - 8s 28ms/step - loss: 0.3142 - accuracy: 0.8939 - val_loss: 3.2141 - val_accuracy: 0.4549\n",
      "Epoch 63/100\n",
      "280/280 [==============================] - 8s 28ms/step - loss: 0.2891 - accuracy: 0.9060 - val_loss: 3.3253 - val_accuracy: 0.4600\n",
      "Epoch 64/100\n",
      "280/280 [==============================] - 8s 29ms/step - loss: 0.2829 - accuracy: 0.9074 - val_loss: 3.3294 - val_accuracy: 0.4615\n",
      "Epoch 65/100\n",
      "280/280 [==============================] - 8s 28ms/step - loss: 0.2849 - accuracy: 0.9056 - val_loss: 3.4017 - val_accuracy: 0.4627\n",
      "Epoch 66/100\n",
      "280/280 [==============================] - 8s 29ms/step - loss: 0.2838 - accuracy: 0.9052 - val_loss: 3.4991 - val_accuracy: 0.4568\n",
      "Epoch 67/100\n",
      "280/280 [==============================] - 8s 28ms/step - loss: 0.2753 - accuracy: 0.9069 - val_loss: 3.4529 - val_accuracy: 0.4598\n",
      "Epoch 68/100\n",
      "280/280 [==============================] - 8s 28ms/step - loss: 0.2667 - accuracy: 0.9137 - val_loss: 3.5440 - val_accuracy: 0.4579\n",
      "Epoch 69/100\n",
      "280/280 [==============================] - 8s 28ms/step - loss: 0.2633 - accuracy: 0.9144 - val_loss: 3.6581 - val_accuracy: 0.4510\n",
      "Epoch 70/100\n",
      "280/280 [==============================] - 8s 29ms/step - loss: 0.2568 - accuracy: 0.9145 - val_loss: 3.6352 - val_accuracy: 0.4598\n",
      "Epoch 71/100\n",
      "280/280 [==============================] - 8s 29ms/step - loss: 0.2480 - accuracy: 0.9196 - val_loss: 3.6683 - val_accuracy: 0.4544\n",
      "Epoch 72/100\n",
      "280/280 [==============================] - 8s 28ms/step - loss: 0.2438 - accuracy: 0.9205 - val_loss: 3.7320 - val_accuracy: 0.4520\n",
      "Epoch 73/100\n",
      "280/280 [==============================] - 8s 28ms/step - loss: 0.2373 - accuracy: 0.9250 - val_loss: 3.8219 - val_accuracy: 0.4494\n",
      "Epoch 74/100\n",
      "280/280 [==============================] - 8s 29ms/step - loss: 0.2290 - accuracy: 0.9271 - val_loss: 3.8486 - val_accuracy: 0.4568\n",
      "Epoch 75/100\n",
      "280/280 [==============================] - 8s 29ms/step - loss: 0.2282 - accuracy: 0.9251 - val_loss: 3.9105 - val_accuracy: 0.4552\n",
      "Epoch 76/100\n",
      "280/280 [==============================] - 8s 29ms/step - loss: 0.2218 - accuracy: 0.9286 - val_loss: 3.9106 - val_accuracy: 0.4573\n",
      "Epoch 77/100\n",
      "280/280 [==============================] - 8s 29ms/step - loss: 0.2211 - accuracy: 0.9285 - val_loss: 4.0334 - val_accuracy: 0.4538\n",
      "Epoch 78/100\n",
      "280/280 [==============================] - 8s 29ms/step - loss: 0.2122 - accuracy: 0.9301 - val_loss: 4.0435 - val_accuracy: 0.4596\n",
      "Epoch 79/100\n",
      "280/280 [==============================] - 8s 29ms/step - loss: 0.2107 - accuracy: 0.9310 - val_loss: 4.1249 - val_accuracy: 0.4597\n",
      "Epoch 80/100\n",
      "280/280 [==============================] - 8s 29ms/step - loss: 0.1978 - accuracy: 0.9401 - val_loss: 4.1793 - val_accuracy: 0.4578\n",
      "Epoch 81/100\n",
      "280/280 [==============================] - 8s 29ms/step - loss: 0.2005 - accuracy: 0.9351 - val_loss: 4.2496 - val_accuracy: 0.4587\n",
      "Epoch 82/100\n",
      "280/280 [==============================] - 8s 29ms/step - loss: 0.2011 - accuracy: 0.9332 - val_loss: 4.2842 - val_accuracy: 0.4627\n",
      "Epoch 83/100\n",
      "280/280 [==============================] - 8s 28ms/step - loss: 0.1878 - accuracy: 0.9417 - val_loss: 4.3316 - val_accuracy: 0.4516\n",
      "Epoch 84/100\n",
      "280/280 [==============================] - 8s 29ms/step - loss: 0.1821 - accuracy: 0.9444 - val_loss: 4.3695 - val_accuracy: 0.4594\n",
      "Epoch 85/100\n",
      "280/280 [==============================] - 8s 28ms/step - loss: 0.1790 - accuracy: 0.9459 - val_loss: 4.4720 - val_accuracy: 0.4549\n",
      "Epoch 86/100\n",
      "280/280 [==============================] - 8s 29ms/step - loss: 0.1746 - accuracy: 0.9478 - val_loss: 4.5182 - val_accuracy: 0.4569\n",
      "Epoch 87/100\n",
      "280/280 [==============================] - 8s 29ms/step - loss: 0.1673 - accuracy: 0.9490 - val_loss: 4.5972 - val_accuracy: 0.4541\n",
      "Epoch 88/100\n",
      "280/280 [==============================] - 8s 28ms/step - loss: 0.1680 - accuracy: 0.9492 - val_loss: 4.6257 - val_accuracy: 0.4570\n",
      "Epoch 89/100\n",
      "280/280 [==============================] - 8s 29ms/step - loss: 0.1592 - accuracy: 0.9526 - val_loss: 4.7110 - val_accuracy: 0.4539\n",
      "Epoch 90/100\n",
      "280/280 [==============================] - 8s 29ms/step - loss: 0.1752 - accuracy: 0.9446 - val_loss: 4.7198 - val_accuracy: 0.4574\n",
      "Epoch 91/100\n",
      "280/280 [==============================] - 8s 29ms/step - loss: 0.1618 - accuracy: 0.9512 - val_loss: 4.8141 - val_accuracy: 0.4488\n",
      "Epoch 92/100\n",
      "280/280 [==============================] - 8s 29ms/step - loss: 0.1596 - accuracy: 0.9510 - val_loss: 4.8259 - val_accuracy: 0.4552\n",
      "Epoch 93/100\n",
      "280/280 [==============================] - 8s 29ms/step - loss: 0.1476 - accuracy: 0.9564 - val_loss: 4.8902 - val_accuracy: 0.4556\n",
      "Epoch 94/100\n",
      "280/280 [==============================] - 8s 29ms/step - loss: 0.1434 - accuracy: 0.9595 - val_loss: 4.9411 - val_accuracy: 0.4482\n",
      "Epoch 95/100\n",
      "280/280 [==============================] - 8s 29ms/step - loss: 0.1451 - accuracy: 0.9578 - val_loss: 4.9743 - val_accuracy: 0.4531\n",
      "Epoch 96/100\n",
      "280/280 [==============================] - 8s 29ms/step - loss: 0.1401 - accuracy: 0.9588 - val_loss: 5.1026 - val_accuracy: 0.4554\n",
      "Epoch 97/100\n",
      "280/280 [==============================] - 8s 29ms/step - loss: 0.1326 - accuracy: 0.9640 - val_loss: 5.1365 - val_accuracy: 0.4567\n",
      "Epoch 98/100\n",
      "280/280 [==============================] - 8s 28ms/step - loss: 0.1285 - accuracy: 0.9649 - val_loss: 5.1979 - val_accuracy: 0.4565\n",
      "Epoch 99/100\n",
      "280/280 [==============================] - 8s 29ms/step - loss: 0.1253 - accuracy: 0.9653 - val_loss: 5.2147 - val_accuracy: 0.4560\n",
      "Epoch 100/100\n",
      "280/280 [==============================] - 8s 29ms/step - loss: 0.1324 - accuracy: 0.9621 - val_loss: 5.2833 - val_accuracy: 0.4579\n"
     ]
    }
   ],
   "source": [
    "history_test_cnn = model_test_cnn.fit(train_generator, steps_per_epoch=STEP_SIZE_TRAIN, epochs=num_epochs, verbose=1, validation_data=val_generator, validation_steps=STEP_SIZE_VAL)"
   ]
  },
  {
   "cell_type": "markdown",
   "metadata": {
    "id": "mgkkmLDPVYrk"
   },
   "source": [
    "### Test"
   ]
  },
  {
   "cell_type": "code",
   "execution_count": 59,
   "metadata": {
    "colab": {
     "base_uri": "https://localhost:8080/"
    },
    "execution": {
     "iopub.execute_input": "2021-11-08T19:50:07.585619Z",
     "iopub.status.busy": "2021-11-08T19:50:07.584618Z",
     "iopub.status.idle": "2021-11-08T19:50:10.283053Z",
     "shell.execute_reply": "2021-11-08T19:50:10.283053Z",
     "shell.execute_reply.started": "2021-11-08T19:50:07.585619Z"
    },
    "id": "0M33kxybSGo5",
    "outputId": "162f0956-c00d-437b-bf9d-026458106c24",
    "tags": []
   },
   "outputs": [
    {
     "name": "stdout",
     "output_type": "stream",
     "text": [
      "(8977, 7)\n"
     ]
    }
   ],
   "source": [
    "test_generator.reset()\n",
    "\n",
    "predict_test_cnn = model_test_cnn.predict(test_generator)\n",
    "print(predict_test_cnn.shape)"
   ]
  },
  {
   "cell_type": "code",
   "execution_count": 60,
   "metadata": {
    "colab": {
     "base_uri": "https://localhost:8080/"
    },
    "execution": {
     "iopub.execute_input": "2021-11-08T19:50:10.284057Z",
     "iopub.status.busy": "2021-11-08T19:50:10.284057Z",
     "iopub.status.idle": "2021-11-08T19:50:10.298066Z",
     "shell.execute_reply": "2021-11-08T19:50:10.298066Z",
     "shell.execute_reply.started": "2021-11-08T19:50:10.284057Z"
    },
    "id": "7ghnL3hWSGo6",
    "outputId": "89f73c58-ae03-4043-8fc0-a9564470a19b",
    "tags": []
   },
   "outputs": [
    {
     "name": "stdout",
     "output_type": "stream",
     "text": [
      "[3 5 5 ... 6 3 6]\n",
      "(8977,)\n"
     ]
    }
   ],
   "source": [
    "y_pred_test_cnn = np.argmax(predict_test_cnn, axis=-1)\n",
    "print(y_pred_test_cnn)\n",
    "print(y_pred_test_cnn.shape)"
   ]
  },
  {
   "cell_type": "code",
   "execution_count": 61,
   "metadata": {
    "colab": {
     "base_uri": "https://localhost:8080/"
    },
    "execution": {
     "iopub.execute_input": "2021-11-08T19:50:10.300069Z",
     "iopub.status.busy": "2021-11-08T19:50:10.300069Z",
     "iopub.status.idle": "2021-11-08T19:50:10.330095Z",
     "shell.execute_reply": "2021-11-08T19:50:10.330095Z",
     "shell.execute_reply.started": "2021-11-08T19:50:10.300069Z"
    },
    "id": "OXsefCR5SGo6",
    "outputId": "ef316de8-fb3e-4e61-c86b-73e114a27858",
    "tags": []
   },
   "outputs": [
    {
     "name": "stdout",
     "output_type": "stream",
     "text": [
      "              precision    recall  f1-score   support\n",
      "\n",
      "           0       0.33      0.34      0.34      1239\n",
      "           1       0.54      0.33      0.41       138\n",
      "           2       0.33      0.26      0.29      1281\n",
      "           3       0.62      0.66      0.64      2248\n",
      "           4       0.40      0.42      0.41      1550\n",
      "           5       0.34      0.32      0.33      1520\n",
      "           6       0.56      0.64      0.60      1001\n",
      "\n",
      "    accuracy                           0.45      8977\n",
      "   macro avg       0.45      0.43      0.43      8977\n",
      "weighted avg       0.45      0.45      0.45      8977\n",
      "\n"
     ]
    }
   ],
   "source": [
    "print(classification_report(test_labels, y_pred_test_cnn))"
   ]
  },
  {
   "cell_type": "code",
   "execution_count": 62,
   "metadata": {
    "colab": {
     "base_uri": "https://localhost:8080/"
    },
    "execution": {
     "iopub.execute_input": "2021-11-08T19:50:10.331096Z",
     "iopub.status.busy": "2021-11-08T19:50:10.331096Z",
     "iopub.status.idle": "2021-11-08T19:50:13.073248Z",
     "shell.execute_reply": "2021-11-08T19:50:13.073248Z",
     "shell.execute_reply.started": "2021-11-08T19:50:10.331096Z"
    },
    "id": "l3Jt2fbXSGo6",
    "outputId": "f7c902bf-3672-4da9-c5f8-38cde176ed3d",
    "tags": []
   },
   "outputs": [
    {
     "name": "stdout",
     "output_type": "stream",
     "text": [
      "141/141 [==============================] - 3s 19ms/step - loss: 5.2192 - accuracy: 0.4545\n",
      "evaluate accuracy: 45.45%\n"
     ]
    }
   ],
   "source": [
    "test_generator.reset()\n",
    "\n",
    "scores = model_test_cnn.evaluate(test_generator)\n",
    "print(\"%s%s: %.2f%%\" % (\"evaluate \", model_test_cnn.metrics_names[1], scores[1]*100))"
   ]
  },
  {
   "cell_type": "markdown",
   "metadata": {
    "id": "-kVkWeqwG0yR"
   },
   "source": [
    "# GridSearch"
   ]
  },
  {
   "cell_type": "code",
   "execution_count": 63,
   "metadata": {
    "execution": {
     "iopub.execute_input": "2021-11-08T19:50:13.074249Z",
     "iopub.status.busy": "2021-11-08T19:50:13.074249Z",
     "iopub.status.idle": "2021-11-08T19:50:13.151247Z",
     "shell.execute_reply": "2021-11-08T19:50:13.151247Z",
     "shell.execute_reply.started": "2021-11-08T19:50:13.074249Z"
    },
    "id": "-lhsH5coA3rD",
    "tags": []
   },
   "outputs": [],
   "source": [
    "from keras.wrappers.scikit_learn import KerasClassifier\n",
    "from sklearn.model_selection import cross_val_score\n",
    "from sklearn.metrics import classification_report\n",
    "from sklearn.model_selection import GridSearchCV"
   ]
  },
  {
   "cell_type": "code",
   "execution_count": 64,
   "metadata": {
    "execution": {
     "iopub.execute_input": "2021-11-08T19:50:13.152246Z",
     "iopub.status.busy": "2021-11-08T19:50:13.152246Z",
     "iopub.status.idle": "2021-11-08T19:50:13.166259Z",
     "shell.execute_reply": "2021-11-08T19:50:13.166259Z",
     "shell.execute_reply.started": "2021-11-08T19:50:13.152246Z"
    },
    "id": "Qvm3MCc4mj5A",
    "tags": []
   },
   "outputs": [],
   "source": [
    "num_epochs = 100"
   ]
  },
  {
   "cell_type": "code",
   "execution_count": 122,
   "metadata": {
    "execution": {
     "iopub.execute_input": "2021-11-08T21:18:31.818298Z",
     "iopub.status.busy": "2021-11-08T21:18:31.818298Z",
     "iopub.status.idle": "2021-11-08T21:18:31.832310Z",
     "shell.execute_reply": "2021-11-08T21:18:31.832310Z",
     "shell.execute_reply.started": "2021-11-08T21:18:31.818298Z"
    },
    "id": "3VgFFXCV1pem",
    "tags": []
   },
   "outputs": [],
   "source": [
    "modelMLP = KerasClassifier(build_fn=buildMLP, verbose=0)\n",
    "modelCNN = KerasClassifier(build_fn=buildCNN, verbose=0)\n",
    "\n",
    "# mlp -> has_dropout, qtd_layers, neurons\n",
    "params = {\n",
    "            'epochs': [300],\n",
    "            'neurons': [[256, 16, 32, 64], [32, 64, 128, 256], [16, 32, 64, 128]],\n",
    "            'has_dropout': [[0, 0, 0, 0], [0.2, 0.2, 0.2, 0.2], [0.5, 0.5, 0.5, 0.5]],\n",
    "            'qtd_layers': [2,  3]\n",
    "          }\n",
    "\n",
    "# cnn -> neurons, qtd_layers, dropout_value\n",
    "paramsCNN = {\n",
    "              'epochs': [300],\n",
    "              'qtd_layers': [2, 3, 4],\n",
    "              'dropout_value': [0, 0.2, 0.5],\n",
    "              'neurons': [[256, 32, 64, 128, 64], [32, 64, 128, 512, 512], [32, 32, 64, 64, 128]]\n",
    "          }"
   ]
  },
  {
   "cell_type": "code",
   "execution_count": 66,
   "metadata": {
    "colab": {
     "base_uri": "https://localhost:8080/"
    },
    "execution": {
     "iopub.execute_input": "2021-11-08T19:50:13.184275Z",
     "iopub.status.busy": "2021-11-08T19:50:13.183274Z",
     "iopub.status.idle": "2021-11-08T19:50:13.198287Z",
     "shell.execute_reply": "2021-11-08T19:50:13.198287Z",
     "shell.execute_reply.started": "2021-11-08T19:50:13.184275Z"
    },
    "id": "XC4SuPGLIhUG",
    "outputId": "f7dbbf16-fb58-4455-9f80-5d6038d90eff",
    "tags": []
   },
   "outputs": [
    {
     "name": "stdout",
     "output_type": "stream",
     "text": [
      "[3 4 5 3 5 6 3 4 6 5 3 3 3 2 4 0 3 2 2 6 4 4 5 2 4 5 4 6 5 5 4 6 4 3 3 3 3\n",
      " 3 0 2 2 0 3 5 5 5 3 4 6 2 3 3 4 0 4 5 0 4 3 5 0 2 0 5]\n"
     ]
    }
   ],
   "source": [
    "y_train_single = np.argmax(y_train, axis = 1)\n",
    "print(y_train_single)"
   ]
  },
  {
   "cell_type": "code",
   "execution_count": 67,
   "metadata": {
    "colab": {
     "base_uri": "https://localhost:8080/"
    },
    "execution": {
     "iopub.execute_input": "2021-11-08T19:50:13.200290Z",
     "iopub.status.busy": "2021-11-08T19:50:13.200290Z",
     "iopub.status.idle": "2021-11-08T19:50:13.213302Z",
     "shell.execute_reply": "2021-11-08T19:50:13.213302Z",
     "shell.execute_reply.started": "2021-11-08T19:50:13.200290Z"
    },
    "id": "NbG8L4slzflt",
    "outputId": "c12ae101-bb34-4322-b9ad-16d2b000b3ad",
    "tags": []
   },
   "outputs": [
    {
     "name": "stdout",
     "output_type": "stream",
     "text": [
      "(64, 48, 48, 1)\n",
      "(64,)\n"
     ]
    }
   ],
   "source": [
    "print(X_train.shape)\n",
    "print(y_train_single.shape)"
   ]
  },
  {
   "cell_type": "markdown",
   "metadata": {
    "id": "eZHrvgkhF2QA"
   },
   "source": [
    "## MLP"
   ]
  },
  {
   "cell_type": "code",
   "execution_count": 124,
   "metadata": {
    "colab": {
     "base_uri": "https://localhost:8080/"
    },
    "execution": {
     "iopub.execute_input": "2021-11-08T21:18:44.166265Z",
     "iopub.status.busy": "2021-11-08T21:18:44.166265Z",
     "iopub.status.idle": "2021-11-08T21:18:46.416937Z",
     "shell.execute_reply": "2021-11-08T21:18:46.415937Z",
     "shell.execute_reply.started": "2021-11-08T21:18:44.166265Z"
    },
    "id": "658skpBtG8VW",
    "outputId": "1de605e2-edcd-4c16-b49e-e2940920de1e",
    "tags": []
   },
   "outputs": [
    {
     "name": "stdout",
     "output_type": "stream",
     "text": [
      "Fitting 5 folds for each of 18 candidates, totalling 90 fits\n"
     ]
    },
    {
     "ename": "ValueError",
     "evalue": "in user code:\n\n    C:\\ProgramData\\Anaconda3\\envs\\tfgpu\\lib\\site-packages\\tensorflow\\python\\keras\\engine\\training.py:855 train_function  *\n        return step_function(self, iterator)\n    C:\\ProgramData\\Anaconda3\\envs\\tfgpu\\lib\\site-packages\\tensorflow\\python\\keras\\engine\\training.py:845 step_function  **\n        outputs = model.distribute_strategy.run(run_step, args=(data,))\n    C:\\ProgramData\\Anaconda3\\envs\\tfgpu\\lib\\site-packages\\tensorflow\\python\\distribute\\distribute_lib.py:1285 run\n        return self._extended.call_for_each_replica(fn, args=args, kwargs=kwargs)\n    C:\\ProgramData\\Anaconda3\\envs\\tfgpu\\lib\\site-packages\\tensorflow\\python\\distribute\\distribute_lib.py:2833 call_for_each_replica\n        return self._call_for_each_replica(fn, args, kwargs)\n    C:\\ProgramData\\Anaconda3\\envs\\tfgpu\\lib\\site-packages\\tensorflow\\python\\distribute\\distribute_lib.py:3608 _call_for_each_replica\n        return fn(*args, **kwargs)\n    C:\\ProgramData\\Anaconda3\\envs\\tfgpu\\lib\\site-packages\\tensorflow\\python\\keras\\engine\\training.py:838 run_step  **\n        outputs = model.train_step(data)\n    C:\\ProgramData\\Anaconda3\\envs\\tfgpu\\lib\\site-packages\\tensorflow\\python\\keras\\engine\\training.py:796 train_step\n        loss = self.compiled_loss(\n    C:\\ProgramData\\Anaconda3\\envs\\tfgpu\\lib\\site-packages\\tensorflow\\python\\keras\\engine\\compile_utils.py:204 __call__\n        loss_value = loss_obj(y_t, y_p, sample_weight=sw)\n    C:\\ProgramData\\Anaconda3\\envs\\tfgpu\\lib\\site-packages\\tensorflow\\python\\keras\\losses.py:155 __call__\n        losses = call_fn(y_true, y_pred)\n    C:\\ProgramData\\Anaconda3\\envs\\tfgpu\\lib\\site-packages\\tensorflow\\python\\keras\\losses.py:259 call  **\n        return ag_fn(y_true, y_pred, **self._fn_kwargs)\n    C:\\ProgramData\\Anaconda3\\envs\\tfgpu\\lib\\site-packages\\tensorflow\\python\\util\\dispatch.py:206 wrapper\n        return target(*args, **kwargs)\n    C:\\ProgramData\\Anaconda3\\envs\\tfgpu\\lib\\site-packages\\tensorflow\\python\\keras\\losses.py:1643 categorical_crossentropy\n        return backend.categorical_crossentropy(\n    C:\\ProgramData\\Anaconda3\\envs\\tfgpu\\lib\\site-packages\\tensorflow\\python\\util\\dispatch.py:206 wrapper\n        return target(*args, **kwargs)\n    C:\\ProgramData\\Anaconda3\\envs\\tfgpu\\lib\\site-packages\\tensorflow\\python\\keras\\backend.py:4862 categorical_crossentropy\n        target.shape.assert_is_compatible_with(output.shape)\n    C:\\ProgramData\\Anaconda3\\envs\\tfgpu\\lib\\site-packages\\tensorflow\\python\\framework\\tensor_shape.py:1161 assert_is_compatible_with\n        raise ValueError(\"Shapes %s and %s are incompatible\" % (self, other))\n\n    ValueError: Shapes (None, 6) and (None, 7) are incompatible\n",
     "output_type": "error",
     "traceback": [
      "\u001b[1;31m---------------------------------------------------------------------------\u001b[0m",
      "\u001b[1;31mValueError\u001b[0m                                Traceback (most recent call last)",
      "\u001b[1;32m~\\AppData\\Local\\Temp/ipykernel_3572/2772809671.py\u001b[0m in \u001b[0;36m<module>\u001b[1;34m\u001b[0m\n\u001b[0;32m      6\u001b[0m                            error_score=\"raise\")\n\u001b[0;32m      7\u001b[0m \u001b[1;33m\u001b[0m\u001b[0m\n\u001b[1;32m----> 8\u001b[1;33m \u001b[0mgrid_result\u001b[0m \u001b[1;33m=\u001b[0m \u001b[0mgrid_search\u001b[0m\u001b[1;33m.\u001b[0m\u001b[0mfit\u001b[0m\u001b[1;33m(\u001b[0m\u001b[0mX_train\u001b[0m\u001b[1;33m,\u001b[0m \u001b[0my_train_single\u001b[0m\u001b[1;33m)\u001b[0m\u001b[1;33m\u001b[0m\u001b[1;33m\u001b[0m\u001b[0m\n\u001b[0m",
      "\u001b[1;32mC:\\ProgramData\\Anaconda3\\envs\\tfgpu\\lib\\site-packages\\sklearn\\model_selection\\_search.py\u001b[0m in \u001b[0;36mfit\u001b[1;34m(self, X, y, groups, **fit_params)\u001b[0m\n\u001b[0;32m    889\u001b[0m                 \u001b[1;32mreturn\u001b[0m \u001b[0mresults\u001b[0m\u001b[1;33m\u001b[0m\u001b[1;33m\u001b[0m\u001b[0m\n\u001b[0;32m    890\u001b[0m \u001b[1;33m\u001b[0m\u001b[0m\n\u001b[1;32m--> 891\u001b[1;33m             \u001b[0mself\u001b[0m\u001b[1;33m.\u001b[0m\u001b[0m_run_search\u001b[0m\u001b[1;33m(\u001b[0m\u001b[0mevaluate_candidates\u001b[0m\u001b[1;33m)\u001b[0m\u001b[1;33m\u001b[0m\u001b[1;33m\u001b[0m\u001b[0m\n\u001b[0m\u001b[0;32m    892\u001b[0m \u001b[1;33m\u001b[0m\u001b[0m\n\u001b[0;32m    893\u001b[0m             \u001b[1;31m# multimetric is determined here because in the case of a callable\u001b[0m\u001b[1;33m\u001b[0m\u001b[1;33m\u001b[0m\u001b[0m\n",
      "\u001b[1;32mC:\\ProgramData\\Anaconda3\\envs\\tfgpu\\lib\\site-packages\\sklearn\\model_selection\\_search.py\u001b[0m in \u001b[0;36m_run_search\u001b[1;34m(self, evaluate_candidates)\u001b[0m\n\u001b[0;32m   1390\u001b[0m     \u001b[1;32mdef\u001b[0m \u001b[0m_run_search\u001b[0m\u001b[1;33m(\u001b[0m\u001b[0mself\u001b[0m\u001b[1;33m,\u001b[0m \u001b[0mevaluate_candidates\u001b[0m\u001b[1;33m)\u001b[0m\u001b[1;33m:\u001b[0m\u001b[1;33m\u001b[0m\u001b[1;33m\u001b[0m\u001b[0m\n\u001b[0;32m   1391\u001b[0m         \u001b[1;34m\"\"\"Search all candidates in param_grid\"\"\"\u001b[0m\u001b[1;33m\u001b[0m\u001b[1;33m\u001b[0m\u001b[0m\n\u001b[1;32m-> 1392\u001b[1;33m         \u001b[0mevaluate_candidates\u001b[0m\u001b[1;33m(\u001b[0m\u001b[0mParameterGrid\u001b[0m\u001b[1;33m(\u001b[0m\u001b[0mself\u001b[0m\u001b[1;33m.\u001b[0m\u001b[0mparam_grid\u001b[0m\u001b[1;33m)\u001b[0m\u001b[1;33m)\u001b[0m\u001b[1;33m\u001b[0m\u001b[1;33m\u001b[0m\u001b[0m\n\u001b[0m\u001b[0;32m   1393\u001b[0m \u001b[1;33m\u001b[0m\u001b[0m\n\u001b[0;32m   1394\u001b[0m \u001b[1;33m\u001b[0m\u001b[0m\n",
      "\u001b[1;32mC:\\ProgramData\\Anaconda3\\envs\\tfgpu\\lib\\site-packages\\sklearn\\model_selection\\_search.py\u001b[0m in \u001b[0;36mevaluate_candidates\u001b[1;34m(candidate_params, cv, more_results)\u001b[0m\n\u001b[0;32m    836\u001b[0m                     )\n\u001b[0;32m    837\u001b[0m \u001b[1;33m\u001b[0m\u001b[0m\n\u001b[1;32m--> 838\u001b[1;33m                 out = parallel(\n\u001b[0m\u001b[0;32m    839\u001b[0m                     delayed(_fit_and_score)(\n\u001b[0;32m    840\u001b[0m                         \u001b[0mclone\u001b[0m\u001b[1;33m(\u001b[0m\u001b[0mbase_estimator\u001b[0m\u001b[1;33m)\u001b[0m\u001b[1;33m,\u001b[0m\u001b[1;33m\u001b[0m\u001b[1;33m\u001b[0m\u001b[0m\n",
      "\u001b[1;32mC:\\ProgramData\\Anaconda3\\envs\\tfgpu\\lib\\site-packages\\joblib\\parallel.py\u001b[0m in \u001b[0;36m__call__\u001b[1;34m(self, iterable)\u001b[0m\n\u001b[0;32m   1041\u001b[0m             \u001b[1;31m# remaining jobs.\u001b[0m\u001b[1;33m\u001b[0m\u001b[1;33m\u001b[0m\u001b[0m\n\u001b[0;32m   1042\u001b[0m             \u001b[0mself\u001b[0m\u001b[1;33m.\u001b[0m\u001b[0m_iterating\u001b[0m \u001b[1;33m=\u001b[0m \u001b[1;32mFalse\u001b[0m\u001b[1;33m\u001b[0m\u001b[1;33m\u001b[0m\u001b[0m\n\u001b[1;32m-> 1043\u001b[1;33m             \u001b[1;32mif\u001b[0m \u001b[0mself\u001b[0m\u001b[1;33m.\u001b[0m\u001b[0mdispatch_one_batch\u001b[0m\u001b[1;33m(\u001b[0m\u001b[0miterator\u001b[0m\u001b[1;33m)\u001b[0m\u001b[1;33m:\u001b[0m\u001b[1;33m\u001b[0m\u001b[1;33m\u001b[0m\u001b[0m\n\u001b[0m\u001b[0;32m   1044\u001b[0m                 \u001b[0mself\u001b[0m\u001b[1;33m.\u001b[0m\u001b[0m_iterating\u001b[0m \u001b[1;33m=\u001b[0m \u001b[0mself\u001b[0m\u001b[1;33m.\u001b[0m\u001b[0m_original_iterator\u001b[0m \u001b[1;32mis\u001b[0m \u001b[1;32mnot\u001b[0m \u001b[1;32mNone\u001b[0m\u001b[1;33m\u001b[0m\u001b[1;33m\u001b[0m\u001b[0m\n\u001b[0;32m   1045\u001b[0m \u001b[1;33m\u001b[0m\u001b[0m\n",
      "\u001b[1;32mC:\\ProgramData\\Anaconda3\\envs\\tfgpu\\lib\\site-packages\\joblib\\parallel.py\u001b[0m in \u001b[0;36mdispatch_one_batch\u001b[1;34m(self, iterator)\u001b[0m\n\u001b[0;32m    859\u001b[0m                 \u001b[1;32mreturn\u001b[0m \u001b[1;32mFalse\u001b[0m\u001b[1;33m\u001b[0m\u001b[1;33m\u001b[0m\u001b[0m\n\u001b[0;32m    860\u001b[0m             \u001b[1;32melse\u001b[0m\u001b[1;33m:\u001b[0m\u001b[1;33m\u001b[0m\u001b[1;33m\u001b[0m\u001b[0m\n\u001b[1;32m--> 861\u001b[1;33m                 \u001b[0mself\u001b[0m\u001b[1;33m.\u001b[0m\u001b[0m_dispatch\u001b[0m\u001b[1;33m(\u001b[0m\u001b[0mtasks\u001b[0m\u001b[1;33m)\u001b[0m\u001b[1;33m\u001b[0m\u001b[1;33m\u001b[0m\u001b[0m\n\u001b[0m\u001b[0;32m    862\u001b[0m                 \u001b[1;32mreturn\u001b[0m \u001b[1;32mTrue\u001b[0m\u001b[1;33m\u001b[0m\u001b[1;33m\u001b[0m\u001b[0m\n\u001b[0;32m    863\u001b[0m \u001b[1;33m\u001b[0m\u001b[0m\n",
      "\u001b[1;32mC:\\ProgramData\\Anaconda3\\envs\\tfgpu\\lib\\site-packages\\joblib\\parallel.py\u001b[0m in \u001b[0;36m_dispatch\u001b[1;34m(self, batch)\u001b[0m\n\u001b[0;32m    777\u001b[0m         \u001b[1;32mwith\u001b[0m \u001b[0mself\u001b[0m\u001b[1;33m.\u001b[0m\u001b[0m_lock\u001b[0m\u001b[1;33m:\u001b[0m\u001b[1;33m\u001b[0m\u001b[1;33m\u001b[0m\u001b[0m\n\u001b[0;32m    778\u001b[0m             \u001b[0mjob_idx\u001b[0m \u001b[1;33m=\u001b[0m \u001b[0mlen\u001b[0m\u001b[1;33m(\u001b[0m\u001b[0mself\u001b[0m\u001b[1;33m.\u001b[0m\u001b[0m_jobs\u001b[0m\u001b[1;33m)\u001b[0m\u001b[1;33m\u001b[0m\u001b[1;33m\u001b[0m\u001b[0m\n\u001b[1;32m--> 779\u001b[1;33m             \u001b[0mjob\u001b[0m \u001b[1;33m=\u001b[0m \u001b[0mself\u001b[0m\u001b[1;33m.\u001b[0m\u001b[0m_backend\u001b[0m\u001b[1;33m.\u001b[0m\u001b[0mapply_async\u001b[0m\u001b[1;33m(\u001b[0m\u001b[0mbatch\u001b[0m\u001b[1;33m,\u001b[0m \u001b[0mcallback\u001b[0m\u001b[1;33m=\u001b[0m\u001b[0mcb\u001b[0m\u001b[1;33m)\u001b[0m\u001b[1;33m\u001b[0m\u001b[1;33m\u001b[0m\u001b[0m\n\u001b[0m\u001b[0;32m    780\u001b[0m             \u001b[1;31m# A job can complete so quickly than its callback is\u001b[0m\u001b[1;33m\u001b[0m\u001b[1;33m\u001b[0m\u001b[0m\n\u001b[0;32m    781\u001b[0m             \u001b[1;31m# called before we get here, causing self._jobs to\u001b[0m\u001b[1;33m\u001b[0m\u001b[1;33m\u001b[0m\u001b[0m\n",
      "\u001b[1;32mC:\\ProgramData\\Anaconda3\\envs\\tfgpu\\lib\\site-packages\\joblib\\_parallel_backends.py\u001b[0m in \u001b[0;36mapply_async\u001b[1;34m(self, func, callback)\u001b[0m\n\u001b[0;32m    206\u001b[0m     \u001b[1;32mdef\u001b[0m \u001b[0mapply_async\u001b[0m\u001b[1;33m(\u001b[0m\u001b[0mself\u001b[0m\u001b[1;33m,\u001b[0m \u001b[0mfunc\u001b[0m\u001b[1;33m,\u001b[0m \u001b[0mcallback\u001b[0m\u001b[1;33m=\u001b[0m\u001b[1;32mNone\u001b[0m\u001b[1;33m)\u001b[0m\u001b[1;33m:\u001b[0m\u001b[1;33m\u001b[0m\u001b[1;33m\u001b[0m\u001b[0m\n\u001b[0;32m    207\u001b[0m         \u001b[1;34m\"\"\"Schedule a func to be run\"\"\"\u001b[0m\u001b[1;33m\u001b[0m\u001b[1;33m\u001b[0m\u001b[0m\n\u001b[1;32m--> 208\u001b[1;33m         \u001b[0mresult\u001b[0m \u001b[1;33m=\u001b[0m \u001b[0mImmediateResult\u001b[0m\u001b[1;33m(\u001b[0m\u001b[0mfunc\u001b[0m\u001b[1;33m)\u001b[0m\u001b[1;33m\u001b[0m\u001b[1;33m\u001b[0m\u001b[0m\n\u001b[0m\u001b[0;32m    209\u001b[0m         \u001b[1;32mif\u001b[0m \u001b[0mcallback\u001b[0m\u001b[1;33m:\u001b[0m\u001b[1;33m\u001b[0m\u001b[1;33m\u001b[0m\u001b[0m\n\u001b[0;32m    210\u001b[0m             \u001b[0mcallback\u001b[0m\u001b[1;33m(\u001b[0m\u001b[0mresult\u001b[0m\u001b[1;33m)\u001b[0m\u001b[1;33m\u001b[0m\u001b[1;33m\u001b[0m\u001b[0m\n",
      "\u001b[1;32mC:\\ProgramData\\Anaconda3\\envs\\tfgpu\\lib\\site-packages\\joblib\\_parallel_backends.py\u001b[0m in \u001b[0;36m__init__\u001b[1;34m(self, batch)\u001b[0m\n\u001b[0;32m    570\u001b[0m         \u001b[1;31m# Don't delay the application, to avoid keeping the input\u001b[0m\u001b[1;33m\u001b[0m\u001b[1;33m\u001b[0m\u001b[0m\n\u001b[0;32m    571\u001b[0m         \u001b[1;31m# arguments in memory\u001b[0m\u001b[1;33m\u001b[0m\u001b[1;33m\u001b[0m\u001b[0m\n\u001b[1;32m--> 572\u001b[1;33m         \u001b[0mself\u001b[0m\u001b[1;33m.\u001b[0m\u001b[0mresults\u001b[0m \u001b[1;33m=\u001b[0m \u001b[0mbatch\u001b[0m\u001b[1;33m(\u001b[0m\u001b[1;33m)\u001b[0m\u001b[1;33m\u001b[0m\u001b[1;33m\u001b[0m\u001b[0m\n\u001b[0m\u001b[0;32m    573\u001b[0m \u001b[1;33m\u001b[0m\u001b[0m\n\u001b[0;32m    574\u001b[0m     \u001b[1;32mdef\u001b[0m \u001b[0mget\u001b[0m\u001b[1;33m(\u001b[0m\u001b[0mself\u001b[0m\u001b[1;33m)\u001b[0m\u001b[1;33m:\u001b[0m\u001b[1;33m\u001b[0m\u001b[1;33m\u001b[0m\u001b[0m\n",
      "\u001b[1;32mC:\\ProgramData\\Anaconda3\\envs\\tfgpu\\lib\\site-packages\\joblib\\parallel.py\u001b[0m in \u001b[0;36m__call__\u001b[1;34m(self)\u001b[0m\n\u001b[0;32m    260\u001b[0m         \u001b[1;31m# change the default number of processes to -1\u001b[0m\u001b[1;33m\u001b[0m\u001b[1;33m\u001b[0m\u001b[0m\n\u001b[0;32m    261\u001b[0m         \u001b[1;32mwith\u001b[0m \u001b[0mparallel_backend\u001b[0m\u001b[1;33m(\u001b[0m\u001b[0mself\u001b[0m\u001b[1;33m.\u001b[0m\u001b[0m_backend\u001b[0m\u001b[1;33m,\u001b[0m \u001b[0mn_jobs\u001b[0m\u001b[1;33m=\u001b[0m\u001b[0mself\u001b[0m\u001b[1;33m.\u001b[0m\u001b[0m_n_jobs\u001b[0m\u001b[1;33m)\u001b[0m\u001b[1;33m:\u001b[0m\u001b[1;33m\u001b[0m\u001b[1;33m\u001b[0m\u001b[0m\n\u001b[1;32m--> 262\u001b[1;33m             return [func(*args, **kwargs)\n\u001b[0m\u001b[0;32m    263\u001b[0m                     for func, args, kwargs in self.items]\n\u001b[0;32m    264\u001b[0m \u001b[1;33m\u001b[0m\u001b[0m\n",
      "\u001b[1;32mC:\\ProgramData\\Anaconda3\\envs\\tfgpu\\lib\\site-packages\\joblib\\parallel.py\u001b[0m in \u001b[0;36m<listcomp>\u001b[1;34m(.0)\u001b[0m\n\u001b[0;32m    260\u001b[0m         \u001b[1;31m# change the default number of processes to -1\u001b[0m\u001b[1;33m\u001b[0m\u001b[1;33m\u001b[0m\u001b[0m\n\u001b[0;32m    261\u001b[0m         \u001b[1;32mwith\u001b[0m \u001b[0mparallel_backend\u001b[0m\u001b[1;33m(\u001b[0m\u001b[0mself\u001b[0m\u001b[1;33m.\u001b[0m\u001b[0m_backend\u001b[0m\u001b[1;33m,\u001b[0m \u001b[0mn_jobs\u001b[0m\u001b[1;33m=\u001b[0m\u001b[0mself\u001b[0m\u001b[1;33m.\u001b[0m\u001b[0m_n_jobs\u001b[0m\u001b[1;33m)\u001b[0m\u001b[1;33m:\u001b[0m\u001b[1;33m\u001b[0m\u001b[1;33m\u001b[0m\u001b[0m\n\u001b[1;32m--> 262\u001b[1;33m             return [func(*args, **kwargs)\n\u001b[0m\u001b[0;32m    263\u001b[0m                     for func, args, kwargs in self.items]\n\u001b[0;32m    264\u001b[0m \u001b[1;33m\u001b[0m\u001b[0m\n",
      "\u001b[1;32mC:\\ProgramData\\Anaconda3\\envs\\tfgpu\\lib\\site-packages\\sklearn\\utils\\fixes.py\u001b[0m in \u001b[0;36m__call__\u001b[1;34m(self, *args, **kwargs)\u001b[0m\n\u001b[0;32m    209\u001b[0m     \u001b[1;32mdef\u001b[0m \u001b[0m__call__\u001b[0m\u001b[1;33m(\u001b[0m\u001b[0mself\u001b[0m\u001b[1;33m,\u001b[0m \u001b[1;33m*\u001b[0m\u001b[0margs\u001b[0m\u001b[1;33m,\u001b[0m \u001b[1;33m**\u001b[0m\u001b[0mkwargs\u001b[0m\u001b[1;33m)\u001b[0m\u001b[1;33m:\u001b[0m\u001b[1;33m\u001b[0m\u001b[1;33m\u001b[0m\u001b[0m\n\u001b[0;32m    210\u001b[0m         \u001b[1;32mwith\u001b[0m \u001b[0mconfig_context\u001b[0m\u001b[1;33m(\u001b[0m\u001b[1;33m**\u001b[0m\u001b[0mself\u001b[0m\u001b[1;33m.\u001b[0m\u001b[0mconfig\u001b[0m\u001b[1;33m)\u001b[0m\u001b[1;33m:\u001b[0m\u001b[1;33m\u001b[0m\u001b[1;33m\u001b[0m\u001b[0m\n\u001b[1;32m--> 211\u001b[1;33m             \u001b[1;32mreturn\u001b[0m \u001b[0mself\u001b[0m\u001b[1;33m.\u001b[0m\u001b[0mfunction\u001b[0m\u001b[1;33m(\u001b[0m\u001b[1;33m*\u001b[0m\u001b[0margs\u001b[0m\u001b[1;33m,\u001b[0m \u001b[1;33m**\u001b[0m\u001b[0mkwargs\u001b[0m\u001b[1;33m)\u001b[0m\u001b[1;33m\u001b[0m\u001b[1;33m\u001b[0m\u001b[0m\n\u001b[0m\u001b[0;32m    212\u001b[0m \u001b[1;33m\u001b[0m\u001b[0m\n\u001b[0;32m    213\u001b[0m \u001b[1;33m\u001b[0m\u001b[0m\n",
      "\u001b[1;32mC:\\ProgramData\\Anaconda3\\envs\\tfgpu\\lib\\site-packages\\sklearn\\model_selection\\_validation.py\u001b[0m in \u001b[0;36m_fit_and_score\u001b[1;34m(estimator, X, y, scorer, train, test, verbose, parameters, fit_params, return_train_score, return_parameters, return_n_test_samples, return_times, return_estimator, split_progress, candidate_progress, error_score)\u001b[0m\n\u001b[0;32m    679\u001b[0m             \u001b[0mestimator\u001b[0m\u001b[1;33m.\u001b[0m\u001b[0mfit\u001b[0m\u001b[1;33m(\u001b[0m\u001b[0mX_train\u001b[0m\u001b[1;33m,\u001b[0m \u001b[1;33m**\u001b[0m\u001b[0mfit_params\u001b[0m\u001b[1;33m)\u001b[0m\u001b[1;33m\u001b[0m\u001b[1;33m\u001b[0m\u001b[0m\n\u001b[0;32m    680\u001b[0m         \u001b[1;32melse\u001b[0m\u001b[1;33m:\u001b[0m\u001b[1;33m\u001b[0m\u001b[1;33m\u001b[0m\u001b[0m\n\u001b[1;32m--> 681\u001b[1;33m             \u001b[0mestimator\u001b[0m\u001b[1;33m.\u001b[0m\u001b[0mfit\u001b[0m\u001b[1;33m(\u001b[0m\u001b[0mX_train\u001b[0m\u001b[1;33m,\u001b[0m \u001b[0my_train\u001b[0m\u001b[1;33m,\u001b[0m \u001b[1;33m**\u001b[0m\u001b[0mfit_params\u001b[0m\u001b[1;33m)\u001b[0m\u001b[1;33m\u001b[0m\u001b[1;33m\u001b[0m\u001b[0m\n\u001b[0m\u001b[0;32m    682\u001b[0m \u001b[1;33m\u001b[0m\u001b[0m\n\u001b[0;32m    683\u001b[0m     \u001b[1;32mexcept\u001b[0m \u001b[0mException\u001b[0m\u001b[1;33m:\u001b[0m\u001b[1;33m\u001b[0m\u001b[1;33m\u001b[0m\u001b[0m\n",
      "\u001b[1;32mC:\\ProgramData\\Anaconda3\\envs\\tfgpu\\lib\\site-packages\\tensorflow\\python\\keras\\wrappers\\scikit_learn.py\u001b[0m in \u001b[0;36mfit\u001b[1;34m(self, x, y, **kwargs)\u001b[0m\n\u001b[0;32m    218\u001b[0m       \u001b[1;32mraise\u001b[0m \u001b[0mValueError\u001b[0m\u001b[1;33m(\u001b[0m\u001b[1;34m'Invalid shape for y: '\u001b[0m \u001b[1;33m+\u001b[0m \u001b[0mstr\u001b[0m\u001b[1;33m(\u001b[0m\u001b[0my\u001b[0m\u001b[1;33m.\u001b[0m\u001b[0mshape\u001b[0m\u001b[1;33m)\u001b[0m\u001b[1;33m)\u001b[0m\u001b[1;33m\u001b[0m\u001b[1;33m\u001b[0m\u001b[0m\n\u001b[0;32m    219\u001b[0m     \u001b[0mself\u001b[0m\u001b[1;33m.\u001b[0m\u001b[0mn_classes_\u001b[0m \u001b[1;33m=\u001b[0m \u001b[0mlen\u001b[0m\u001b[1;33m(\u001b[0m\u001b[0mself\u001b[0m\u001b[1;33m.\u001b[0m\u001b[0mclasses_\u001b[0m\u001b[1;33m)\u001b[0m\u001b[1;33m\u001b[0m\u001b[1;33m\u001b[0m\u001b[0m\n\u001b[1;32m--> 220\u001b[1;33m     \u001b[1;32mreturn\u001b[0m \u001b[0msuper\u001b[0m\u001b[1;33m(\u001b[0m\u001b[0mKerasClassifier\u001b[0m\u001b[1;33m,\u001b[0m \u001b[0mself\u001b[0m\u001b[1;33m)\u001b[0m\u001b[1;33m.\u001b[0m\u001b[0mfit\u001b[0m\u001b[1;33m(\u001b[0m\u001b[0mx\u001b[0m\u001b[1;33m,\u001b[0m \u001b[0my\u001b[0m\u001b[1;33m,\u001b[0m \u001b[1;33m**\u001b[0m\u001b[0mkwargs\u001b[0m\u001b[1;33m)\u001b[0m\u001b[1;33m\u001b[0m\u001b[1;33m\u001b[0m\u001b[0m\n\u001b[0m\u001b[0;32m    221\u001b[0m \u001b[1;33m\u001b[0m\u001b[0m\n\u001b[0;32m    222\u001b[0m   \u001b[1;32mdef\u001b[0m \u001b[0mpredict\u001b[0m\u001b[1;33m(\u001b[0m\u001b[0mself\u001b[0m\u001b[1;33m,\u001b[0m \u001b[0mx\u001b[0m\u001b[1;33m,\u001b[0m \u001b[1;33m**\u001b[0m\u001b[0mkwargs\u001b[0m\u001b[1;33m)\u001b[0m\u001b[1;33m:\u001b[0m\u001b[1;33m\u001b[0m\u001b[1;33m\u001b[0m\u001b[0m\n",
      "\u001b[1;32mC:\\ProgramData\\Anaconda3\\envs\\tfgpu\\lib\\site-packages\\tensorflow\\python\\keras\\wrappers\\scikit_learn.py\u001b[0m in \u001b[0;36mfit\u001b[1;34m(self, x, y, **kwargs)\u001b[0m\n\u001b[0;32m    161\u001b[0m     \u001b[0mfit_args\u001b[0m\u001b[1;33m.\u001b[0m\u001b[0mupdate\u001b[0m\u001b[1;33m(\u001b[0m\u001b[0mkwargs\u001b[0m\u001b[1;33m)\u001b[0m\u001b[1;33m\u001b[0m\u001b[1;33m\u001b[0m\u001b[0m\n\u001b[0;32m    162\u001b[0m \u001b[1;33m\u001b[0m\u001b[0m\n\u001b[1;32m--> 163\u001b[1;33m     \u001b[0mhistory\u001b[0m \u001b[1;33m=\u001b[0m \u001b[0mself\u001b[0m\u001b[1;33m.\u001b[0m\u001b[0mmodel\u001b[0m\u001b[1;33m.\u001b[0m\u001b[0mfit\u001b[0m\u001b[1;33m(\u001b[0m\u001b[0mx\u001b[0m\u001b[1;33m,\u001b[0m \u001b[0my\u001b[0m\u001b[1;33m,\u001b[0m \u001b[1;33m**\u001b[0m\u001b[0mfit_args\u001b[0m\u001b[1;33m)\u001b[0m\u001b[1;33m\u001b[0m\u001b[1;33m\u001b[0m\u001b[0m\n\u001b[0m\u001b[0;32m    164\u001b[0m \u001b[1;33m\u001b[0m\u001b[0m\n\u001b[0;32m    165\u001b[0m     \u001b[1;32mreturn\u001b[0m \u001b[0mhistory\u001b[0m\u001b[1;33m\u001b[0m\u001b[1;33m\u001b[0m\u001b[0m\n",
      "\u001b[1;32mC:\\ProgramData\\Anaconda3\\envs\\tfgpu\\lib\\site-packages\\tensorflow\\python\\keras\\engine\\training.py\u001b[0m in \u001b[0;36mfit\u001b[1;34m(self, x, y, batch_size, epochs, verbose, callbacks, validation_split, validation_data, shuffle, class_weight, sample_weight, initial_epoch, steps_per_epoch, validation_steps, validation_batch_size, validation_freq, max_queue_size, workers, use_multiprocessing)\u001b[0m\n\u001b[0;32m   1181\u001b[0m                 _r=1):\n\u001b[0;32m   1182\u001b[0m               \u001b[0mcallbacks\u001b[0m\u001b[1;33m.\u001b[0m\u001b[0mon_train_batch_begin\u001b[0m\u001b[1;33m(\u001b[0m\u001b[0mstep\u001b[0m\u001b[1;33m)\u001b[0m\u001b[1;33m\u001b[0m\u001b[1;33m\u001b[0m\u001b[0m\n\u001b[1;32m-> 1183\u001b[1;33m               \u001b[0mtmp_logs\u001b[0m \u001b[1;33m=\u001b[0m \u001b[0mself\u001b[0m\u001b[1;33m.\u001b[0m\u001b[0mtrain_function\u001b[0m\u001b[1;33m(\u001b[0m\u001b[0miterator\u001b[0m\u001b[1;33m)\u001b[0m\u001b[1;33m\u001b[0m\u001b[1;33m\u001b[0m\u001b[0m\n\u001b[0m\u001b[0;32m   1184\u001b[0m               \u001b[1;32mif\u001b[0m \u001b[0mdata_handler\u001b[0m\u001b[1;33m.\u001b[0m\u001b[0mshould_sync\u001b[0m\u001b[1;33m:\u001b[0m\u001b[1;33m\u001b[0m\u001b[1;33m\u001b[0m\u001b[0m\n\u001b[0;32m   1185\u001b[0m                 \u001b[0mcontext\u001b[0m\u001b[1;33m.\u001b[0m\u001b[0masync_wait\u001b[0m\u001b[1;33m(\u001b[0m\u001b[1;33m)\u001b[0m\u001b[1;33m\u001b[0m\u001b[1;33m\u001b[0m\u001b[0m\n",
      "\u001b[1;32mC:\\ProgramData\\Anaconda3\\envs\\tfgpu\\lib\\site-packages\\tensorflow\\python\\eager\\def_function.py\u001b[0m in \u001b[0;36m__call__\u001b[1;34m(self, *args, **kwds)\u001b[0m\n\u001b[0;32m    887\u001b[0m \u001b[1;33m\u001b[0m\u001b[0m\n\u001b[0;32m    888\u001b[0m       \u001b[1;32mwith\u001b[0m \u001b[0mOptionalXlaContext\u001b[0m\u001b[1;33m(\u001b[0m\u001b[0mself\u001b[0m\u001b[1;33m.\u001b[0m\u001b[0m_jit_compile\u001b[0m\u001b[1;33m)\u001b[0m\u001b[1;33m:\u001b[0m\u001b[1;33m\u001b[0m\u001b[1;33m\u001b[0m\u001b[0m\n\u001b[1;32m--> 889\u001b[1;33m         \u001b[0mresult\u001b[0m \u001b[1;33m=\u001b[0m \u001b[0mself\u001b[0m\u001b[1;33m.\u001b[0m\u001b[0m_call\u001b[0m\u001b[1;33m(\u001b[0m\u001b[1;33m*\u001b[0m\u001b[0margs\u001b[0m\u001b[1;33m,\u001b[0m \u001b[1;33m**\u001b[0m\u001b[0mkwds\u001b[0m\u001b[1;33m)\u001b[0m\u001b[1;33m\u001b[0m\u001b[1;33m\u001b[0m\u001b[0m\n\u001b[0m\u001b[0;32m    890\u001b[0m \u001b[1;33m\u001b[0m\u001b[0m\n\u001b[0;32m    891\u001b[0m       \u001b[0mnew_tracing_count\u001b[0m \u001b[1;33m=\u001b[0m \u001b[0mself\u001b[0m\u001b[1;33m.\u001b[0m\u001b[0mexperimental_get_tracing_count\u001b[0m\u001b[1;33m(\u001b[0m\u001b[1;33m)\u001b[0m\u001b[1;33m\u001b[0m\u001b[1;33m\u001b[0m\u001b[0m\n",
      "\u001b[1;32mC:\\ProgramData\\Anaconda3\\envs\\tfgpu\\lib\\site-packages\\tensorflow\\python\\eager\\def_function.py\u001b[0m in \u001b[0;36m_call\u001b[1;34m(self, *args, **kwds)\u001b[0m\n\u001b[0;32m    931\u001b[0m       \u001b[1;31m# This is the first call of __call__, so we have to initialize.\u001b[0m\u001b[1;33m\u001b[0m\u001b[1;33m\u001b[0m\u001b[0m\n\u001b[0;32m    932\u001b[0m       \u001b[0minitializers\u001b[0m \u001b[1;33m=\u001b[0m \u001b[1;33m[\u001b[0m\u001b[1;33m]\u001b[0m\u001b[1;33m\u001b[0m\u001b[1;33m\u001b[0m\u001b[0m\n\u001b[1;32m--> 933\u001b[1;33m       \u001b[0mself\u001b[0m\u001b[1;33m.\u001b[0m\u001b[0m_initialize\u001b[0m\u001b[1;33m(\u001b[0m\u001b[0margs\u001b[0m\u001b[1;33m,\u001b[0m \u001b[0mkwds\u001b[0m\u001b[1;33m,\u001b[0m \u001b[0madd_initializers_to\u001b[0m\u001b[1;33m=\u001b[0m\u001b[0minitializers\u001b[0m\u001b[1;33m)\u001b[0m\u001b[1;33m\u001b[0m\u001b[1;33m\u001b[0m\u001b[0m\n\u001b[0m\u001b[0;32m    934\u001b[0m     \u001b[1;32mfinally\u001b[0m\u001b[1;33m:\u001b[0m\u001b[1;33m\u001b[0m\u001b[1;33m\u001b[0m\u001b[0m\n\u001b[0;32m    935\u001b[0m       \u001b[1;31m# At this point we know that the initialization is complete (or less\u001b[0m\u001b[1;33m\u001b[0m\u001b[1;33m\u001b[0m\u001b[0m\n",
      "\u001b[1;32mC:\\ProgramData\\Anaconda3\\envs\\tfgpu\\lib\\site-packages\\tensorflow\\python\\eager\\def_function.py\u001b[0m in \u001b[0;36m_initialize\u001b[1;34m(self, args, kwds, add_initializers_to)\u001b[0m\n\u001b[0;32m    761\u001b[0m     \u001b[0mself\u001b[0m\u001b[1;33m.\u001b[0m\u001b[0m_graph_deleter\u001b[0m \u001b[1;33m=\u001b[0m \u001b[0mFunctionDeleter\u001b[0m\u001b[1;33m(\u001b[0m\u001b[0mself\u001b[0m\u001b[1;33m.\u001b[0m\u001b[0m_lifted_initializer_graph\u001b[0m\u001b[1;33m)\u001b[0m\u001b[1;33m\u001b[0m\u001b[1;33m\u001b[0m\u001b[0m\n\u001b[0;32m    762\u001b[0m     self._concrete_stateful_fn = (\n\u001b[1;32m--> 763\u001b[1;33m         self._stateful_fn._get_concrete_function_internal_garbage_collected(  # pylint: disable=protected-access\n\u001b[0m\u001b[0;32m    764\u001b[0m             *args, **kwds))\n\u001b[0;32m    765\u001b[0m \u001b[1;33m\u001b[0m\u001b[0m\n",
      "\u001b[1;32mC:\\ProgramData\\Anaconda3\\envs\\tfgpu\\lib\\site-packages\\tensorflow\\python\\eager\\function.py\u001b[0m in \u001b[0;36m_get_concrete_function_internal_garbage_collected\u001b[1;34m(self, *args, **kwargs)\u001b[0m\n\u001b[0;32m   3048\u001b[0m       \u001b[0margs\u001b[0m\u001b[1;33m,\u001b[0m \u001b[0mkwargs\u001b[0m \u001b[1;33m=\u001b[0m \u001b[1;32mNone\u001b[0m\u001b[1;33m,\u001b[0m \u001b[1;32mNone\u001b[0m\u001b[1;33m\u001b[0m\u001b[1;33m\u001b[0m\u001b[0m\n\u001b[0;32m   3049\u001b[0m     \u001b[1;32mwith\u001b[0m \u001b[0mself\u001b[0m\u001b[1;33m.\u001b[0m\u001b[0m_lock\u001b[0m\u001b[1;33m:\u001b[0m\u001b[1;33m\u001b[0m\u001b[1;33m\u001b[0m\u001b[0m\n\u001b[1;32m-> 3050\u001b[1;33m       \u001b[0mgraph_function\u001b[0m\u001b[1;33m,\u001b[0m \u001b[0m_\u001b[0m \u001b[1;33m=\u001b[0m \u001b[0mself\u001b[0m\u001b[1;33m.\u001b[0m\u001b[0m_maybe_define_function\u001b[0m\u001b[1;33m(\u001b[0m\u001b[0margs\u001b[0m\u001b[1;33m,\u001b[0m \u001b[0mkwargs\u001b[0m\u001b[1;33m)\u001b[0m\u001b[1;33m\u001b[0m\u001b[1;33m\u001b[0m\u001b[0m\n\u001b[0m\u001b[0;32m   3051\u001b[0m     \u001b[1;32mreturn\u001b[0m \u001b[0mgraph_function\u001b[0m\u001b[1;33m\u001b[0m\u001b[1;33m\u001b[0m\u001b[0m\n\u001b[0;32m   3052\u001b[0m \u001b[1;33m\u001b[0m\u001b[0m\n",
      "\u001b[1;32mC:\\ProgramData\\Anaconda3\\envs\\tfgpu\\lib\\site-packages\\tensorflow\\python\\eager\\function.py\u001b[0m in \u001b[0;36m_maybe_define_function\u001b[1;34m(self, args, kwargs)\u001b[0m\n\u001b[0;32m   3442\u001b[0m \u001b[1;33m\u001b[0m\u001b[0m\n\u001b[0;32m   3443\u001b[0m           \u001b[0mself\u001b[0m\u001b[1;33m.\u001b[0m\u001b[0m_function_cache\u001b[0m\u001b[1;33m.\u001b[0m\u001b[0mmissed\u001b[0m\u001b[1;33m.\u001b[0m\u001b[0madd\u001b[0m\u001b[1;33m(\u001b[0m\u001b[0mcall_context_key\u001b[0m\u001b[1;33m)\u001b[0m\u001b[1;33m\u001b[0m\u001b[1;33m\u001b[0m\u001b[0m\n\u001b[1;32m-> 3444\u001b[1;33m           \u001b[0mgraph_function\u001b[0m \u001b[1;33m=\u001b[0m \u001b[0mself\u001b[0m\u001b[1;33m.\u001b[0m\u001b[0m_create_graph_function\u001b[0m\u001b[1;33m(\u001b[0m\u001b[0margs\u001b[0m\u001b[1;33m,\u001b[0m \u001b[0mkwargs\u001b[0m\u001b[1;33m)\u001b[0m\u001b[1;33m\u001b[0m\u001b[1;33m\u001b[0m\u001b[0m\n\u001b[0m\u001b[0;32m   3445\u001b[0m           \u001b[0mself\u001b[0m\u001b[1;33m.\u001b[0m\u001b[0m_function_cache\u001b[0m\u001b[1;33m.\u001b[0m\u001b[0mprimary\u001b[0m\u001b[1;33m[\u001b[0m\u001b[0mcache_key\u001b[0m\u001b[1;33m]\u001b[0m \u001b[1;33m=\u001b[0m \u001b[0mgraph_function\u001b[0m\u001b[1;33m\u001b[0m\u001b[1;33m\u001b[0m\u001b[0m\n\u001b[0;32m   3446\u001b[0m \u001b[1;33m\u001b[0m\u001b[0m\n",
      "\u001b[1;32mC:\\ProgramData\\Anaconda3\\envs\\tfgpu\\lib\\site-packages\\tensorflow\\python\\eager\\function.py\u001b[0m in \u001b[0;36m_create_graph_function\u001b[1;34m(self, args, kwargs, override_flat_arg_shapes)\u001b[0m\n\u001b[0;32m   3277\u001b[0m     \u001b[0marg_names\u001b[0m \u001b[1;33m=\u001b[0m \u001b[0mbase_arg_names\u001b[0m \u001b[1;33m+\u001b[0m \u001b[0mmissing_arg_names\u001b[0m\u001b[1;33m\u001b[0m\u001b[1;33m\u001b[0m\u001b[0m\n\u001b[0;32m   3278\u001b[0m     graph_function = ConcreteFunction(\n\u001b[1;32m-> 3279\u001b[1;33m         func_graph_module.func_graph_from_py_func(\n\u001b[0m\u001b[0;32m   3280\u001b[0m             \u001b[0mself\u001b[0m\u001b[1;33m.\u001b[0m\u001b[0m_name\u001b[0m\u001b[1;33m,\u001b[0m\u001b[1;33m\u001b[0m\u001b[1;33m\u001b[0m\u001b[0m\n\u001b[0;32m   3281\u001b[0m             \u001b[0mself\u001b[0m\u001b[1;33m.\u001b[0m\u001b[0m_python_function\u001b[0m\u001b[1;33m,\u001b[0m\u001b[1;33m\u001b[0m\u001b[1;33m\u001b[0m\u001b[0m\n",
      "\u001b[1;32mC:\\ProgramData\\Anaconda3\\envs\\tfgpu\\lib\\site-packages\\tensorflow\\python\\framework\\func_graph.py\u001b[0m in \u001b[0;36mfunc_graph_from_py_func\u001b[1;34m(name, python_func, args, kwargs, signature, func_graph, autograph, autograph_options, add_control_dependencies, arg_names, op_return_value, collections, capture_by_value, override_flat_arg_shapes)\u001b[0m\n\u001b[0;32m    997\u001b[0m         \u001b[0m_\u001b[0m\u001b[1;33m,\u001b[0m \u001b[0moriginal_func\u001b[0m \u001b[1;33m=\u001b[0m \u001b[0mtf_decorator\u001b[0m\u001b[1;33m.\u001b[0m\u001b[0munwrap\u001b[0m\u001b[1;33m(\u001b[0m\u001b[0mpython_func\u001b[0m\u001b[1;33m)\u001b[0m\u001b[1;33m\u001b[0m\u001b[1;33m\u001b[0m\u001b[0m\n\u001b[0;32m    998\u001b[0m \u001b[1;33m\u001b[0m\u001b[0m\n\u001b[1;32m--> 999\u001b[1;33m       \u001b[0mfunc_outputs\u001b[0m \u001b[1;33m=\u001b[0m \u001b[0mpython_func\u001b[0m\u001b[1;33m(\u001b[0m\u001b[1;33m*\u001b[0m\u001b[0mfunc_args\u001b[0m\u001b[1;33m,\u001b[0m \u001b[1;33m**\u001b[0m\u001b[0mfunc_kwargs\u001b[0m\u001b[1;33m)\u001b[0m\u001b[1;33m\u001b[0m\u001b[1;33m\u001b[0m\u001b[0m\n\u001b[0m\u001b[0;32m   1000\u001b[0m \u001b[1;33m\u001b[0m\u001b[0m\n\u001b[0;32m   1001\u001b[0m       \u001b[1;31m# invariant: `func_outputs` contains only Tensors, CompositeTensors,\u001b[0m\u001b[1;33m\u001b[0m\u001b[1;33m\u001b[0m\u001b[0m\n",
      "\u001b[1;32mC:\\ProgramData\\Anaconda3\\envs\\tfgpu\\lib\\site-packages\\tensorflow\\python\\eager\\def_function.py\u001b[0m in \u001b[0;36mwrapped_fn\u001b[1;34m(*args, **kwds)\u001b[0m\n\u001b[0;32m    670\u001b[0m         \u001b[1;31m# the function a weak reference to itself to avoid a reference cycle.\u001b[0m\u001b[1;33m\u001b[0m\u001b[1;33m\u001b[0m\u001b[0m\n\u001b[0;32m    671\u001b[0m         \u001b[1;32mwith\u001b[0m \u001b[0mOptionalXlaContext\u001b[0m\u001b[1;33m(\u001b[0m\u001b[0mcompile_with_xla\u001b[0m\u001b[1;33m)\u001b[0m\u001b[1;33m:\u001b[0m\u001b[1;33m\u001b[0m\u001b[1;33m\u001b[0m\u001b[0m\n\u001b[1;32m--> 672\u001b[1;33m           \u001b[0mout\u001b[0m \u001b[1;33m=\u001b[0m \u001b[0mweak_wrapped_fn\u001b[0m\u001b[1;33m(\u001b[0m\u001b[1;33m)\u001b[0m\u001b[1;33m.\u001b[0m\u001b[0m__wrapped__\u001b[0m\u001b[1;33m(\u001b[0m\u001b[1;33m*\u001b[0m\u001b[0margs\u001b[0m\u001b[1;33m,\u001b[0m \u001b[1;33m**\u001b[0m\u001b[0mkwds\u001b[0m\u001b[1;33m)\u001b[0m\u001b[1;33m\u001b[0m\u001b[1;33m\u001b[0m\u001b[0m\n\u001b[0m\u001b[0;32m    673\u001b[0m         \u001b[1;32mreturn\u001b[0m \u001b[0mout\u001b[0m\u001b[1;33m\u001b[0m\u001b[1;33m\u001b[0m\u001b[0m\n\u001b[0;32m    674\u001b[0m \u001b[1;33m\u001b[0m\u001b[0m\n",
      "\u001b[1;32mC:\\ProgramData\\Anaconda3\\envs\\tfgpu\\lib\\site-packages\\tensorflow\\python\\framework\\func_graph.py\u001b[0m in \u001b[0;36mwrapper\u001b[1;34m(*args, **kwargs)\u001b[0m\n\u001b[0;32m    984\u001b[0m           \u001b[1;32mexcept\u001b[0m \u001b[0mException\u001b[0m \u001b[1;32mas\u001b[0m \u001b[0me\u001b[0m\u001b[1;33m:\u001b[0m  \u001b[1;31m# pylint:disable=broad-except\u001b[0m\u001b[1;33m\u001b[0m\u001b[1;33m\u001b[0m\u001b[0m\n\u001b[0;32m    985\u001b[0m             \u001b[1;32mif\u001b[0m \u001b[0mhasattr\u001b[0m\u001b[1;33m(\u001b[0m\u001b[0me\u001b[0m\u001b[1;33m,\u001b[0m \u001b[1;34m\"ag_error_metadata\"\u001b[0m\u001b[1;33m)\u001b[0m\u001b[1;33m:\u001b[0m\u001b[1;33m\u001b[0m\u001b[1;33m\u001b[0m\u001b[0m\n\u001b[1;32m--> 986\u001b[1;33m               \u001b[1;32mraise\u001b[0m \u001b[0me\u001b[0m\u001b[1;33m.\u001b[0m\u001b[0mag_error_metadata\u001b[0m\u001b[1;33m.\u001b[0m\u001b[0mto_exception\u001b[0m\u001b[1;33m(\u001b[0m\u001b[0me\u001b[0m\u001b[1;33m)\u001b[0m\u001b[1;33m\u001b[0m\u001b[1;33m\u001b[0m\u001b[0m\n\u001b[0m\u001b[0;32m    987\u001b[0m             \u001b[1;32melse\u001b[0m\u001b[1;33m:\u001b[0m\u001b[1;33m\u001b[0m\u001b[1;33m\u001b[0m\u001b[0m\n\u001b[0;32m    988\u001b[0m               \u001b[1;32mraise\u001b[0m\u001b[1;33m\u001b[0m\u001b[1;33m\u001b[0m\u001b[0m\n",
      "\u001b[1;31mValueError\u001b[0m: in user code:\n\n    C:\\ProgramData\\Anaconda3\\envs\\tfgpu\\lib\\site-packages\\tensorflow\\python\\keras\\engine\\training.py:855 train_function  *\n        return step_function(self, iterator)\n    C:\\ProgramData\\Anaconda3\\envs\\tfgpu\\lib\\site-packages\\tensorflow\\python\\keras\\engine\\training.py:845 step_function  **\n        outputs = model.distribute_strategy.run(run_step, args=(data,))\n    C:\\ProgramData\\Anaconda3\\envs\\tfgpu\\lib\\site-packages\\tensorflow\\python\\distribute\\distribute_lib.py:1285 run\n        return self._extended.call_for_each_replica(fn, args=args, kwargs=kwargs)\n    C:\\ProgramData\\Anaconda3\\envs\\tfgpu\\lib\\site-packages\\tensorflow\\python\\distribute\\distribute_lib.py:2833 call_for_each_replica\n        return self._call_for_each_replica(fn, args, kwargs)\n    C:\\ProgramData\\Anaconda3\\envs\\tfgpu\\lib\\site-packages\\tensorflow\\python\\distribute\\distribute_lib.py:3608 _call_for_each_replica\n        return fn(*args, **kwargs)\n    C:\\ProgramData\\Anaconda3\\envs\\tfgpu\\lib\\site-packages\\tensorflow\\python\\keras\\engine\\training.py:838 run_step  **\n        outputs = model.train_step(data)\n    C:\\ProgramData\\Anaconda3\\envs\\tfgpu\\lib\\site-packages\\tensorflow\\python\\keras\\engine\\training.py:796 train_step\n        loss = self.compiled_loss(\n    C:\\ProgramData\\Anaconda3\\envs\\tfgpu\\lib\\site-packages\\tensorflow\\python\\keras\\engine\\compile_utils.py:204 __call__\n        loss_value = loss_obj(y_t, y_p, sample_weight=sw)\n    C:\\ProgramData\\Anaconda3\\envs\\tfgpu\\lib\\site-packages\\tensorflow\\python\\keras\\losses.py:155 __call__\n        losses = call_fn(y_true, y_pred)\n    C:\\ProgramData\\Anaconda3\\envs\\tfgpu\\lib\\site-packages\\tensorflow\\python\\keras\\losses.py:259 call  **\n        return ag_fn(y_true, y_pred, **self._fn_kwargs)\n    C:\\ProgramData\\Anaconda3\\envs\\tfgpu\\lib\\site-packages\\tensorflow\\python\\util\\dispatch.py:206 wrapper\n        return target(*args, **kwargs)\n    C:\\ProgramData\\Anaconda3\\envs\\tfgpu\\lib\\site-packages\\tensorflow\\python\\keras\\losses.py:1643 categorical_crossentropy\n        return backend.categorical_crossentropy(\n    C:\\ProgramData\\Anaconda3\\envs\\tfgpu\\lib\\site-packages\\tensorflow\\python\\util\\dispatch.py:206 wrapper\n        return target(*args, **kwargs)\n    C:\\ProgramData\\Anaconda3\\envs\\tfgpu\\lib\\site-packages\\tensorflow\\python\\keras\\backend.py:4862 categorical_crossentropy\n        target.shape.assert_is_compatible_with(output.shape)\n    C:\\ProgramData\\Anaconda3\\envs\\tfgpu\\lib\\site-packages\\tensorflow\\python\\framework\\tensor_shape.py:1161 assert_is_compatible_with\n        raise ValueError(\"Shapes %s and %s are incompatible\" % (self, other))\n\n    ValueError: Shapes (None, 6) and (None, 7) are incompatible\n"
     ]
    }
   ],
   "source": [
    "grid_search = GridSearchCV(estimator = modelMLP,\n",
    "                           param_grid = params,\n",
    "                           scoring = 'accuracy',\n",
    "                           cv = 3, \n",
    "                           verbose = 1,\n",
    "                           error_score=\"raise\")\n",
    "\n",
    "grid_result = grid_search.fit(X_train, y_train_single)"
   ]
  },
  {
   "cell_type": "code",
   "execution_count": null,
   "metadata": {
    "colab": {
     "base_uri": "https://localhost:8080/"
    },
    "execution": {
     "iopub.status.busy": "2021-11-08T19:50:13.450038Z",
     "iopub.status.idle": "2021-11-08T19:50:13.451040Z",
     "shell.execute_reply": "2021-11-08T19:50:13.451040Z",
     "shell.execute_reply.started": "2021-11-08T19:50:13.451040Z"
    },
    "id": "ad4By8UIIuD4",
    "outputId": "953b45a6-4cf8-41d7-a205-e90c3c072944",
    "tags": []
   },
   "outputs": [],
   "source": [
    "print(\"Melhor acurácia foi de %f usando %s\" % (grid_result.best_score_, grid_result.best_params_))"
   ]
  },
  {
   "cell_type": "markdown",
   "metadata": {
    "id": "BX1kJBYMnDqc"
   },
   "source": [
    "### Structure"
   ]
  },
  {
   "cell_type": "code",
   "execution_count": 69,
   "metadata": {
    "execution": {
     "iopub.execute_input": "2021-11-08T19:54:24.630252Z",
     "iopub.status.busy": "2021-11-08T19:54:24.630252Z",
     "iopub.status.idle": "2021-11-08T19:54:24.646268Z",
     "shell.execute_reply": "2021-11-08T19:54:24.646268Z",
     "shell.execute_reply.started": "2021-11-08T19:54:24.630252Z"
    },
    "id": "4KvYiqiSF5bY",
    "tags": []
   },
   "outputs": [
    {
     "ename": "NameError",
     "evalue": "name 'grid_result' is not defined",
     "output_type": "error",
     "traceback": [
      "\u001b[1;31m---------------------------------------------------------------------------\u001b[0m",
      "\u001b[1;31mNameError\u001b[0m                                 Traceback (most recent call last)",
      "\u001b[1;32m~\\AppData\\Local\\Temp/ipykernel_3572/2152981828.py\u001b[0m in \u001b[0;36m<module>\u001b[1;34m\u001b[0m\n\u001b[1;32m----> 1\u001b[1;33m \u001b[0mbest_modelMLP\u001b[0m \u001b[1;33m=\u001b[0m \u001b[0mbuildMLP\u001b[0m\u001b[1;33m(\u001b[0m\u001b[0mgrid_result\u001b[0m\u001b[1;33m.\u001b[0m\u001b[0mbest_params_\u001b[0m\u001b[1;33m[\u001b[0m\u001b[1;34m'has_dropout'\u001b[0m\u001b[1;33m]\u001b[0m\u001b[1;33m,\u001b[0m \u001b[0mgrid_result\u001b[0m\u001b[1;33m.\u001b[0m\u001b[0mbest_params_\u001b[0m\u001b[1;33m[\u001b[0m\u001b[1;34m'qtd_layers'\u001b[0m\u001b[1;33m]\u001b[0m\u001b[1;33m,\u001b[0m \u001b[0mgrid_result\u001b[0m\u001b[1;33m.\u001b[0m\u001b[0mbest_params_\u001b[0m\u001b[1;33m[\u001b[0m\u001b[1;34m'neurons'\u001b[0m\u001b[1;33m]\u001b[0m\u001b[1;33m)\u001b[0m\u001b[1;33m\u001b[0m\u001b[1;33m\u001b[0m\u001b[0m\n\u001b[0m",
      "\u001b[1;31mNameError\u001b[0m: name 'grid_result' is not defined"
     ]
    }
   ],
   "source": [
    "best_modelMLP = buildMLP(grid_result.best_params_['has_dropout'], grid_result.best_params_['qtd_layers'], grid_result.best_params_['neurons'])"
   ]
  },
  {
   "cell_type": "code",
   "execution_count": 70,
   "metadata": {
    "colab": {
     "base_uri": "https://localhost:8080/"
    },
    "execution": {
     "iopub.execute_input": "2021-11-08T19:54:25.622147Z",
     "iopub.status.busy": "2021-11-08T19:54:25.622147Z",
     "iopub.status.idle": "2021-11-08T19:54:25.636160Z",
     "shell.execute_reply": "2021-11-08T19:54:25.636160Z",
     "shell.execute_reply.started": "2021-11-08T19:54:25.622147Z"
    },
    "id": "hC9d4-ZpnCsw",
    "outputId": "9abc204e-3e29-493f-a32e-89e2bcb38745",
    "tags": []
   },
   "outputs": [
    {
     "ename": "NameError",
     "evalue": "name 'best_modelMLP' is not defined",
     "output_type": "error",
     "traceback": [
      "\u001b[1;31m---------------------------------------------------------------------------\u001b[0m",
      "\u001b[1;31mNameError\u001b[0m                                 Traceback (most recent call last)",
      "\u001b[1;32m~\\AppData\\Local\\Temp/ipykernel_3572/511736102.py\u001b[0m in \u001b[0;36m<module>\u001b[1;34m\u001b[0m\n\u001b[1;32m----> 1\u001b[1;33m \u001b[0mbest_modelMLP\u001b[0m\u001b[1;33m.\u001b[0m\u001b[0msummary\u001b[0m\u001b[1;33m(\u001b[0m\u001b[1;33m)\u001b[0m\u001b[1;33m\u001b[0m\u001b[1;33m\u001b[0m\u001b[0m\n\u001b[0m",
      "\u001b[1;31mNameError\u001b[0m: name 'best_modelMLP' is not defined"
     ]
    }
   ],
   "source": [
    "best_modelMLP.summary()"
   ]
  },
  {
   "cell_type": "code",
   "execution_count": null,
   "metadata": {
    "execution": {
     "iopub.status.busy": "2021-11-08T19:35:28.462517Z",
     "iopub.status.idle": "2021-11-08T19:35:28.463518Z",
     "shell.execute_reply": "2021-11-08T19:35:28.462517Z",
     "shell.execute_reply.started": "2021-11-08T19:35:28.462517Z"
    },
    "tags": []
   },
   "outputs": [],
   "source": [
    "!pip install pydot\n",
    "!pip install graphviz"
   ]
  },
  {
   "cell_type": "code",
   "execution_count": 71,
   "metadata": {
    "execution": {
     "iopub.execute_input": "2021-11-08T19:54:28.439716Z",
     "iopub.status.busy": "2021-11-08T19:54:28.439716Z",
     "iopub.status.idle": "2021-11-08T19:54:28.453729Z",
     "shell.execute_reply": "2021-11-08T19:54:28.452727Z",
     "shell.execute_reply.started": "2021-11-08T19:54:28.439716Z"
    },
    "tags": []
   },
   "outputs": [
    {
     "ename": "NameError",
     "evalue": "name 'best_modelMLP' is not defined",
     "output_type": "error",
     "traceback": [
      "\u001b[1;31m---------------------------------------------------------------------------\u001b[0m",
      "\u001b[1;31mNameError\u001b[0m                                 Traceback (most recent call last)",
      "\u001b[1;32m~\\AppData\\Local\\Temp/ipykernel_3572/3156237379.py\u001b[0m in \u001b[0;36m<module>\u001b[1;34m\u001b[0m\n\u001b[0;32m      1\u001b[0m tf.keras.utils.plot_model(\n\u001b[1;32m----> 2\u001b[1;33m     \u001b[0mbest_modelMLP\u001b[0m\u001b[1;33m,\u001b[0m\u001b[1;33m\u001b[0m\u001b[1;33m\u001b[0m\u001b[0m\n\u001b[0m\u001b[0;32m      3\u001b[0m     \u001b[0mshow_shapes\u001b[0m\u001b[1;33m=\u001b[0m\u001b[1;32mTrue\u001b[0m\u001b[1;33m,\u001b[0m\u001b[1;33m\u001b[0m\u001b[1;33m\u001b[0m\u001b[0m\n\u001b[0;32m      4\u001b[0m     \u001b[0mshow_layer_names\u001b[0m\u001b[1;33m=\u001b[0m\u001b[1;32mTrue\u001b[0m\u001b[1;33m,\u001b[0m\u001b[1;33m\u001b[0m\u001b[1;33m\u001b[0m\u001b[0m\n\u001b[0;32m      5\u001b[0m )\n",
      "\u001b[1;31mNameError\u001b[0m: name 'best_modelMLP' is not defined"
     ]
    }
   ],
   "source": [
    "tf.keras.utils.plot_model(\n",
    "    best_modelMLP,\n",
    "    show_shapes=True,\n",
    "    show_layer_names=True,\n",
    ")"
   ]
  },
  {
   "cell_type": "markdown",
   "metadata": {
    "id": "dqeauWTknGua"
   },
   "source": [
    "### Train"
   ]
  },
  {
   "cell_type": "code",
   "execution_count": 72,
   "metadata": {
    "execution": {
     "iopub.execute_input": "2021-11-08T19:54:30.648254Z",
     "iopub.status.busy": "2021-11-08T19:54:30.647253Z",
     "iopub.status.idle": "2021-11-08T19:54:30.664268Z",
     "shell.execute_reply": "2021-11-08T19:54:30.664268Z",
     "shell.execute_reply.started": "2021-11-08T19:54:30.648254Z"
    },
    "tags": []
   },
   "outputs": [
    {
     "name": "stdout",
     "output_type": "stream",
     "text": [
      "100 280 140\n"
     ]
    }
   ],
   "source": [
    "STEP_SIZE_TRAIN = train_generator.n//train_generator.batch_size\n",
    "STEP_SIZE_VAL   = val_generator.n//val_generator.batch_size\n",
    "print(num_epochs, STEP_SIZE_TRAIN, STEP_SIZE_VAL)"
   ]
  },
  {
   "cell_type": "code",
   "execution_count": 73,
   "metadata": {
    "colab": {
     "base_uri": "https://localhost:8080/"
    },
    "execution": {
     "iopub.execute_input": "2021-11-08T19:54:31.176731Z",
     "iopub.status.busy": "2021-11-08T19:54:31.175730Z",
     "iopub.status.idle": "2021-11-08T19:54:31.204755Z",
     "shell.execute_reply": "2021-11-08T19:54:31.204755Z",
     "shell.execute_reply.started": "2021-11-08T19:54:31.176731Z"
    },
    "id": "IgTh9yKSnL6h",
    "outputId": "9ed60199-c0ea-4cc9-ee04-534b996880d4",
    "tags": []
   },
   "outputs": [
    {
     "ename": "NameError",
     "evalue": "name 'best_modelMLP' is not defined",
     "output_type": "error",
     "traceback": [
      "\u001b[1;31m---------------------------------------------------------------------------\u001b[0m",
      "\u001b[1;31mNameError\u001b[0m                                 Traceback (most recent call last)",
      "\u001b[1;32m~\\AppData\\Local\\Temp/ipykernel_3572/613310270.py\u001b[0m in \u001b[0;36m<module>\u001b[1;34m\u001b[0m\n\u001b[1;32m----> 1\u001b[1;33m \u001b[0mhistoryMLP_gs\u001b[0m \u001b[1;33m=\u001b[0m \u001b[0mbest_modelMLP\u001b[0m\u001b[1;33m.\u001b[0m\u001b[0mfit\u001b[0m\u001b[1;33m(\u001b[0m\u001b[0mtrain_generator\u001b[0m\u001b[1;33m,\u001b[0m \u001b[0msteps_per_epoch\u001b[0m\u001b[1;33m=\u001b[0m\u001b[0mSTEP_SIZE_TRAIN\u001b[0m\u001b[1;33m,\u001b[0m \u001b[0mepochs\u001b[0m\u001b[1;33m=\u001b[0m\u001b[0mnum_epochs\u001b[0m\u001b[1;33m,\u001b[0m \u001b[0mverbose\u001b[0m\u001b[1;33m=\u001b[0m\u001b[1;36m1\u001b[0m\u001b[1;33m,\u001b[0m \u001b[0mvalidation_data\u001b[0m\u001b[1;33m=\u001b[0m\u001b[0mval_generator\u001b[0m\u001b[1;33m,\u001b[0m \u001b[0mvalidation_steps\u001b[0m\u001b[1;33m=\u001b[0m\u001b[0mSTEP_SIZE_VAL\u001b[0m\u001b[1;33m)\u001b[0m\u001b[1;33m\u001b[0m\u001b[1;33m\u001b[0m\u001b[0m\n\u001b[0m",
      "\u001b[1;31mNameError\u001b[0m: name 'best_modelMLP' is not defined"
     ]
    }
   ],
   "source": [
    "historyMLP_gs = best_modelMLP.fit(train_generator, steps_per_epoch=STEP_SIZE_TRAIN, epochs=num_epochs, verbose=1, validation_data=val_generator, validation_steps=STEP_SIZE_VAL)"
   ]
  },
  {
   "cell_type": "markdown",
   "metadata": {
    "id": "-ypgYnRbnIX-"
   },
   "source": [
    "### Test"
   ]
  },
  {
   "cell_type": "code",
   "execution_count": 74,
   "metadata": {
    "colab": {
     "base_uri": "https://localhost:8080/"
    },
    "execution": {
     "iopub.execute_input": "2021-11-08T19:54:33.261687Z",
     "iopub.status.busy": "2021-11-08T19:54:33.260690Z",
     "iopub.status.idle": "2021-11-08T19:54:33.283706Z",
     "shell.execute_reply": "2021-11-08T19:54:33.283706Z",
     "shell.execute_reply.started": "2021-11-08T19:54:33.261687Z"
    },
    "id": "q3jh766UnZFF",
    "outputId": "0646668e-b45f-475f-8ddd-1941d5dd4b9a",
    "tags": []
   },
   "outputs": [
    {
     "ename": "NameError",
     "evalue": "name 'best_modelMLP' is not defined",
     "output_type": "error",
     "traceback": [
      "\u001b[1;31m---------------------------------------------------------------------------\u001b[0m",
      "\u001b[1;31mNameError\u001b[0m                                 Traceback (most recent call last)",
      "\u001b[1;32m~\\AppData\\Local\\Temp/ipykernel_3572/3189151210.py\u001b[0m in \u001b[0;36m<module>\u001b[1;34m\u001b[0m\n\u001b[0;32m      1\u001b[0m \u001b[0mtest_generator\u001b[0m\u001b[1;33m.\u001b[0m\u001b[0mreset\u001b[0m\u001b[1;33m(\u001b[0m\u001b[1;33m)\u001b[0m\u001b[1;33m\u001b[0m\u001b[1;33m\u001b[0m\u001b[0m\n\u001b[0;32m      2\u001b[0m \u001b[1;33m\u001b[0m\u001b[0m\n\u001b[1;32m----> 3\u001b[1;33m \u001b[0mpredict_mlp_gs\u001b[0m \u001b[1;33m=\u001b[0m \u001b[0mbest_modelMLP\u001b[0m\u001b[1;33m.\u001b[0m\u001b[0mpredict\u001b[0m\u001b[1;33m(\u001b[0m\u001b[0mtest_generator\u001b[0m\u001b[1;33m)\u001b[0m\u001b[1;33m\u001b[0m\u001b[1;33m\u001b[0m\u001b[0m\n\u001b[0m\u001b[0;32m      4\u001b[0m \u001b[0mprint\u001b[0m\u001b[1;33m(\u001b[0m\u001b[0mpredict_mlp_gs\u001b[0m\u001b[1;33m.\u001b[0m\u001b[0mshape\u001b[0m\u001b[1;33m)\u001b[0m\u001b[1;33m\u001b[0m\u001b[1;33m\u001b[0m\u001b[0m\n",
      "\u001b[1;31mNameError\u001b[0m: name 'best_modelMLP' is not defined"
     ]
    }
   ],
   "source": [
    "test_generator.reset()\n",
    "\n",
    "predict_mlp_gs = best_modelMLP.predict(test_generator)\n",
    "print(predict_mlp_gs.shape)"
   ]
  },
  {
   "cell_type": "code",
   "execution_count": 75,
   "metadata": {
    "colab": {
     "base_uri": "https://localhost:8080/"
    },
    "execution": {
     "iopub.execute_input": "2021-11-08T19:54:33.830673Z",
     "iopub.status.busy": "2021-11-08T19:54:33.830673Z",
     "iopub.status.idle": "2021-11-08T19:54:33.856696Z",
     "shell.execute_reply": "2021-11-08T19:54:33.856696Z",
     "shell.execute_reply.started": "2021-11-08T19:54:33.830673Z"
    },
    "id": "Nnl6wHLPncpJ",
    "outputId": "380bbefa-828e-40ed-a450-708f5d215295",
    "tags": []
   },
   "outputs": [
    {
     "ename": "NameError",
     "evalue": "name 'predict_mlp_gs' is not defined",
     "output_type": "error",
     "traceback": [
      "\u001b[1;31m---------------------------------------------------------------------------\u001b[0m",
      "\u001b[1;31mNameError\u001b[0m                                 Traceback (most recent call last)",
      "\u001b[1;32m~\\AppData\\Local\\Temp/ipykernel_3572/482759143.py\u001b[0m in \u001b[0;36m<module>\u001b[1;34m\u001b[0m\n\u001b[1;32m----> 1\u001b[1;33m \u001b[0my_pred_mlp_gs\u001b[0m \u001b[1;33m=\u001b[0m \u001b[0mnp\u001b[0m\u001b[1;33m.\u001b[0m\u001b[0margmax\u001b[0m\u001b[1;33m(\u001b[0m\u001b[0mpredict_mlp_gs\u001b[0m\u001b[1;33m,\u001b[0m \u001b[0maxis\u001b[0m\u001b[1;33m=\u001b[0m\u001b[1;33m-\u001b[0m\u001b[1;36m1\u001b[0m\u001b[1;33m)\u001b[0m\u001b[1;33m\u001b[0m\u001b[1;33m\u001b[0m\u001b[0m\n\u001b[0m\u001b[0;32m      2\u001b[0m \u001b[0mprint\u001b[0m\u001b[1;33m(\u001b[0m\u001b[0my_pred_mlp_gs\u001b[0m\u001b[1;33m)\u001b[0m\u001b[1;33m\u001b[0m\u001b[1;33m\u001b[0m\u001b[0m\n\u001b[0;32m      3\u001b[0m \u001b[0mprint\u001b[0m\u001b[1;33m(\u001b[0m\u001b[0my_pred_mlp_gs\u001b[0m\u001b[1;33m.\u001b[0m\u001b[0mshape\u001b[0m\u001b[1;33m)\u001b[0m\u001b[1;33m\u001b[0m\u001b[1;33m\u001b[0m\u001b[0m\n",
      "\u001b[1;31mNameError\u001b[0m: name 'predict_mlp_gs' is not defined"
     ]
    }
   ],
   "source": [
    "y_pred_mlp_gs = np.argmax(predict_mlp_gs, axis=-1)\n",
    "print(y_pred_mlp_gs)\n",
    "print(y_pred_mlp_gs.shape)"
   ]
  },
  {
   "cell_type": "code",
   "execution_count": 76,
   "metadata": {
    "colab": {
     "base_uri": "https://localhost:8080/"
    },
    "execution": {
     "iopub.execute_input": "2021-11-08T19:54:34.036859Z",
     "iopub.status.busy": "2021-11-08T19:54:34.035859Z",
     "iopub.status.idle": "2021-11-08T19:54:34.063883Z",
     "shell.execute_reply": "2021-11-08T19:54:34.063883Z",
     "shell.execute_reply.started": "2021-11-08T19:54:34.036859Z"
    },
    "id": "InTZTpBMnebX",
    "outputId": "8fbc9165-0f75-4013-f679-4dbdc68f1c69",
    "tags": []
   },
   "outputs": [
    {
     "ename": "NameError",
     "evalue": "name 'y_pred_mlp_gs' is not defined",
     "output_type": "error",
     "traceback": [
      "\u001b[1;31m---------------------------------------------------------------------------\u001b[0m",
      "\u001b[1;31mNameError\u001b[0m                                 Traceback (most recent call last)",
      "\u001b[1;32m~\\AppData\\Local\\Temp/ipykernel_3572/134480148.py\u001b[0m in \u001b[0;36m<module>\u001b[1;34m\u001b[0m\n\u001b[1;32m----> 1\u001b[1;33m \u001b[0mprint\u001b[0m\u001b[1;33m(\u001b[0m\u001b[0mclassification_report\u001b[0m\u001b[1;33m(\u001b[0m\u001b[0mtest_labels\u001b[0m\u001b[1;33m,\u001b[0m \u001b[0my_pred_mlp_gs\u001b[0m\u001b[1;33m)\u001b[0m\u001b[1;33m)\u001b[0m\u001b[1;33m\u001b[0m\u001b[1;33m\u001b[0m\u001b[0m\n\u001b[0m",
      "\u001b[1;31mNameError\u001b[0m: name 'y_pred_mlp_gs' is not defined"
     ]
    }
   ],
   "source": [
    "print(classification_report(test_labels, y_pred_mlp_gs))"
   ]
  },
  {
   "cell_type": "markdown",
   "metadata": {
    "id": "M6Kjw-fRF3qe"
   },
   "source": [
    "## CNN"
   ]
  },
  {
   "cell_type": "code",
   "execution_count": 77,
   "metadata": {
    "colab": {
     "base_uri": "https://localhost:8080/"
    },
    "execution": {
     "iopub.execute_input": "2021-11-08T19:54:34.536310Z",
     "iopub.status.busy": "2021-11-08T19:54:34.536310Z",
     "iopub.status.idle": "2021-11-08T19:54:34.752506Z",
     "shell.execute_reply": "2021-11-08T19:54:34.751504Z",
     "shell.execute_reply.started": "2021-11-08T19:54:34.536310Z"
    },
    "id": "G_6QvNDlbAXE",
    "outputId": "d06997c1-dd76-4abc-c6d0-a88ba74caf11",
    "tags": []
   },
   "outputs": [
    {
     "name": "stdout",
     "output_type": "stream",
     "text": [
      "Fitting 3 folds for each of 27 candidates, totalling 81 fits\n"
     ]
    },
    {
     "ename": "ValueError",
     "evalue": "in user code:\n\n    C:\\ProgramData\\Anaconda3\\envs\\tfgpu\\lib\\site-packages\\tensorflow\\python\\keras\\engine\\training.py:855 train_function  *\n        return step_function(self, iterator)\n    C:\\ProgramData\\Anaconda3\\envs\\tfgpu\\lib\\site-packages\\tensorflow\\python\\keras\\engine\\training.py:845 step_function  **\n        outputs = model.distribute_strategy.run(run_step, args=(data,))\n    C:\\ProgramData\\Anaconda3\\envs\\tfgpu\\lib\\site-packages\\tensorflow\\python\\distribute\\distribute_lib.py:1285 run\n        return self._extended.call_for_each_replica(fn, args=args, kwargs=kwargs)\n    C:\\ProgramData\\Anaconda3\\envs\\tfgpu\\lib\\site-packages\\tensorflow\\python\\distribute\\distribute_lib.py:2833 call_for_each_replica\n        return self._call_for_each_replica(fn, args, kwargs)\n    C:\\ProgramData\\Anaconda3\\envs\\tfgpu\\lib\\site-packages\\tensorflow\\python\\distribute\\distribute_lib.py:3608 _call_for_each_replica\n        return fn(*args, **kwargs)\n    C:\\ProgramData\\Anaconda3\\envs\\tfgpu\\lib\\site-packages\\tensorflow\\python\\keras\\engine\\training.py:838 run_step  **\n        outputs = model.train_step(data)\n    C:\\ProgramData\\Anaconda3\\envs\\tfgpu\\lib\\site-packages\\tensorflow\\python\\keras\\engine\\training.py:796 train_step\n        loss = self.compiled_loss(\n    C:\\ProgramData\\Anaconda3\\envs\\tfgpu\\lib\\site-packages\\tensorflow\\python\\keras\\engine\\compile_utils.py:204 __call__\n        loss_value = loss_obj(y_t, y_p, sample_weight=sw)\n    C:\\ProgramData\\Anaconda3\\envs\\tfgpu\\lib\\site-packages\\tensorflow\\python\\keras\\losses.py:155 __call__\n        losses = call_fn(y_true, y_pred)\n    C:\\ProgramData\\Anaconda3\\envs\\tfgpu\\lib\\site-packages\\tensorflow\\python\\keras\\losses.py:259 call  **\n        return ag_fn(y_true, y_pred, **self._fn_kwargs)\n    C:\\ProgramData\\Anaconda3\\envs\\tfgpu\\lib\\site-packages\\tensorflow\\python\\util\\dispatch.py:206 wrapper\n        return target(*args, **kwargs)\n    C:\\ProgramData\\Anaconda3\\envs\\tfgpu\\lib\\site-packages\\tensorflow\\python\\keras\\losses.py:1643 categorical_crossentropy\n        return backend.categorical_crossentropy(\n    C:\\ProgramData\\Anaconda3\\envs\\tfgpu\\lib\\site-packages\\tensorflow\\python\\util\\dispatch.py:206 wrapper\n        return target(*args, **kwargs)\n    C:\\ProgramData\\Anaconda3\\envs\\tfgpu\\lib\\site-packages\\tensorflow\\python\\keras\\backend.py:4862 categorical_crossentropy\n        target.shape.assert_is_compatible_with(output.shape)\n    C:\\ProgramData\\Anaconda3\\envs\\tfgpu\\lib\\site-packages\\tensorflow\\python\\framework\\tensor_shape.py:1161 assert_is_compatible_with\n        raise ValueError(\"Shapes %s and %s are incompatible\" % (self, other))\n\n    ValueError: Shapes (None, 6) and (None, 7) are incompatible\n",
     "output_type": "error",
     "traceback": [
      "\u001b[1;31m---------------------------------------------------------------------------\u001b[0m",
      "\u001b[1;31mValueError\u001b[0m                                Traceback (most recent call last)",
      "\u001b[1;32m~\\AppData\\Local\\Temp/ipykernel_3572/2091720133.py\u001b[0m in \u001b[0;36m<module>\u001b[1;34m\u001b[0m\n\u001b[0;32m      6\u001b[0m                            error_score=\"raise\")\n\u001b[0;32m      7\u001b[0m \u001b[1;33m\u001b[0m\u001b[0m\n\u001b[1;32m----> 8\u001b[1;33m \u001b[0mgrid_result_cnn\u001b[0m \u001b[1;33m=\u001b[0m \u001b[0mgrid_search_cnn\u001b[0m\u001b[1;33m.\u001b[0m\u001b[0mfit\u001b[0m\u001b[1;33m(\u001b[0m\u001b[0mX_train\u001b[0m\u001b[1;33m,\u001b[0m \u001b[0my_train_single\u001b[0m\u001b[1;33m)\u001b[0m\u001b[1;33m\u001b[0m\u001b[1;33m\u001b[0m\u001b[0m\n\u001b[0m",
      "\u001b[1;32mC:\\ProgramData\\Anaconda3\\envs\\tfgpu\\lib\\site-packages\\sklearn\\model_selection\\_search.py\u001b[0m in \u001b[0;36mfit\u001b[1;34m(self, X, y, groups, **fit_params)\u001b[0m\n\u001b[0;32m    889\u001b[0m                 \u001b[1;32mreturn\u001b[0m \u001b[0mresults\u001b[0m\u001b[1;33m\u001b[0m\u001b[1;33m\u001b[0m\u001b[0m\n\u001b[0;32m    890\u001b[0m \u001b[1;33m\u001b[0m\u001b[0m\n\u001b[1;32m--> 891\u001b[1;33m             \u001b[0mself\u001b[0m\u001b[1;33m.\u001b[0m\u001b[0m_run_search\u001b[0m\u001b[1;33m(\u001b[0m\u001b[0mevaluate_candidates\u001b[0m\u001b[1;33m)\u001b[0m\u001b[1;33m\u001b[0m\u001b[1;33m\u001b[0m\u001b[0m\n\u001b[0m\u001b[0;32m    892\u001b[0m \u001b[1;33m\u001b[0m\u001b[0m\n\u001b[0;32m    893\u001b[0m             \u001b[1;31m# multimetric is determined here because in the case of a callable\u001b[0m\u001b[1;33m\u001b[0m\u001b[1;33m\u001b[0m\u001b[0m\n",
      "\u001b[1;32mC:\\ProgramData\\Anaconda3\\envs\\tfgpu\\lib\\site-packages\\sklearn\\model_selection\\_search.py\u001b[0m in \u001b[0;36m_run_search\u001b[1;34m(self, evaluate_candidates)\u001b[0m\n\u001b[0;32m   1390\u001b[0m     \u001b[1;32mdef\u001b[0m \u001b[0m_run_search\u001b[0m\u001b[1;33m(\u001b[0m\u001b[0mself\u001b[0m\u001b[1;33m,\u001b[0m \u001b[0mevaluate_candidates\u001b[0m\u001b[1;33m)\u001b[0m\u001b[1;33m:\u001b[0m\u001b[1;33m\u001b[0m\u001b[1;33m\u001b[0m\u001b[0m\n\u001b[0;32m   1391\u001b[0m         \u001b[1;34m\"\"\"Search all candidates in param_grid\"\"\"\u001b[0m\u001b[1;33m\u001b[0m\u001b[1;33m\u001b[0m\u001b[0m\n\u001b[1;32m-> 1392\u001b[1;33m         \u001b[0mevaluate_candidates\u001b[0m\u001b[1;33m(\u001b[0m\u001b[0mParameterGrid\u001b[0m\u001b[1;33m(\u001b[0m\u001b[0mself\u001b[0m\u001b[1;33m.\u001b[0m\u001b[0mparam_grid\u001b[0m\u001b[1;33m)\u001b[0m\u001b[1;33m)\u001b[0m\u001b[1;33m\u001b[0m\u001b[1;33m\u001b[0m\u001b[0m\n\u001b[0m\u001b[0;32m   1393\u001b[0m \u001b[1;33m\u001b[0m\u001b[0m\n\u001b[0;32m   1394\u001b[0m \u001b[1;33m\u001b[0m\u001b[0m\n",
      "\u001b[1;32mC:\\ProgramData\\Anaconda3\\envs\\tfgpu\\lib\\site-packages\\sklearn\\model_selection\\_search.py\u001b[0m in \u001b[0;36mevaluate_candidates\u001b[1;34m(candidate_params, cv, more_results)\u001b[0m\n\u001b[0;32m    836\u001b[0m                     )\n\u001b[0;32m    837\u001b[0m \u001b[1;33m\u001b[0m\u001b[0m\n\u001b[1;32m--> 838\u001b[1;33m                 out = parallel(\n\u001b[0m\u001b[0;32m    839\u001b[0m                     delayed(_fit_and_score)(\n\u001b[0;32m    840\u001b[0m                         \u001b[0mclone\u001b[0m\u001b[1;33m(\u001b[0m\u001b[0mbase_estimator\u001b[0m\u001b[1;33m)\u001b[0m\u001b[1;33m,\u001b[0m\u001b[1;33m\u001b[0m\u001b[1;33m\u001b[0m\u001b[0m\n",
      "\u001b[1;32mC:\\ProgramData\\Anaconda3\\envs\\tfgpu\\lib\\site-packages\\joblib\\parallel.py\u001b[0m in \u001b[0;36m__call__\u001b[1;34m(self, iterable)\u001b[0m\n\u001b[0;32m   1041\u001b[0m             \u001b[1;31m# remaining jobs.\u001b[0m\u001b[1;33m\u001b[0m\u001b[1;33m\u001b[0m\u001b[0m\n\u001b[0;32m   1042\u001b[0m             \u001b[0mself\u001b[0m\u001b[1;33m.\u001b[0m\u001b[0m_iterating\u001b[0m \u001b[1;33m=\u001b[0m \u001b[1;32mFalse\u001b[0m\u001b[1;33m\u001b[0m\u001b[1;33m\u001b[0m\u001b[0m\n\u001b[1;32m-> 1043\u001b[1;33m             \u001b[1;32mif\u001b[0m \u001b[0mself\u001b[0m\u001b[1;33m.\u001b[0m\u001b[0mdispatch_one_batch\u001b[0m\u001b[1;33m(\u001b[0m\u001b[0miterator\u001b[0m\u001b[1;33m)\u001b[0m\u001b[1;33m:\u001b[0m\u001b[1;33m\u001b[0m\u001b[1;33m\u001b[0m\u001b[0m\n\u001b[0m\u001b[0;32m   1044\u001b[0m                 \u001b[0mself\u001b[0m\u001b[1;33m.\u001b[0m\u001b[0m_iterating\u001b[0m \u001b[1;33m=\u001b[0m \u001b[0mself\u001b[0m\u001b[1;33m.\u001b[0m\u001b[0m_original_iterator\u001b[0m \u001b[1;32mis\u001b[0m \u001b[1;32mnot\u001b[0m \u001b[1;32mNone\u001b[0m\u001b[1;33m\u001b[0m\u001b[1;33m\u001b[0m\u001b[0m\n\u001b[0;32m   1045\u001b[0m \u001b[1;33m\u001b[0m\u001b[0m\n",
      "\u001b[1;32mC:\\ProgramData\\Anaconda3\\envs\\tfgpu\\lib\\site-packages\\joblib\\parallel.py\u001b[0m in \u001b[0;36mdispatch_one_batch\u001b[1;34m(self, iterator)\u001b[0m\n\u001b[0;32m    859\u001b[0m                 \u001b[1;32mreturn\u001b[0m \u001b[1;32mFalse\u001b[0m\u001b[1;33m\u001b[0m\u001b[1;33m\u001b[0m\u001b[0m\n\u001b[0;32m    860\u001b[0m             \u001b[1;32melse\u001b[0m\u001b[1;33m:\u001b[0m\u001b[1;33m\u001b[0m\u001b[1;33m\u001b[0m\u001b[0m\n\u001b[1;32m--> 861\u001b[1;33m                 \u001b[0mself\u001b[0m\u001b[1;33m.\u001b[0m\u001b[0m_dispatch\u001b[0m\u001b[1;33m(\u001b[0m\u001b[0mtasks\u001b[0m\u001b[1;33m)\u001b[0m\u001b[1;33m\u001b[0m\u001b[1;33m\u001b[0m\u001b[0m\n\u001b[0m\u001b[0;32m    862\u001b[0m                 \u001b[1;32mreturn\u001b[0m \u001b[1;32mTrue\u001b[0m\u001b[1;33m\u001b[0m\u001b[1;33m\u001b[0m\u001b[0m\n\u001b[0;32m    863\u001b[0m \u001b[1;33m\u001b[0m\u001b[0m\n",
      "\u001b[1;32mC:\\ProgramData\\Anaconda3\\envs\\tfgpu\\lib\\site-packages\\joblib\\parallel.py\u001b[0m in \u001b[0;36m_dispatch\u001b[1;34m(self, batch)\u001b[0m\n\u001b[0;32m    777\u001b[0m         \u001b[1;32mwith\u001b[0m \u001b[0mself\u001b[0m\u001b[1;33m.\u001b[0m\u001b[0m_lock\u001b[0m\u001b[1;33m:\u001b[0m\u001b[1;33m\u001b[0m\u001b[1;33m\u001b[0m\u001b[0m\n\u001b[0;32m    778\u001b[0m             \u001b[0mjob_idx\u001b[0m \u001b[1;33m=\u001b[0m \u001b[0mlen\u001b[0m\u001b[1;33m(\u001b[0m\u001b[0mself\u001b[0m\u001b[1;33m.\u001b[0m\u001b[0m_jobs\u001b[0m\u001b[1;33m)\u001b[0m\u001b[1;33m\u001b[0m\u001b[1;33m\u001b[0m\u001b[0m\n\u001b[1;32m--> 779\u001b[1;33m             \u001b[0mjob\u001b[0m \u001b[1;33m=\u001b[0m \u001b[0mself\u001b[0m\u001b[1;33m.\u001b[0m\u001b[0m_backend\u001b[0m\u001b[1;33m.\u001b[0m\u001b[0mapply_async\u001b[0m\u001b[1;33m(\u001b[0m\u001b[0mbatch\u001b[0m\u001b[1;33m,\u001b[0m \u001b[0mcallback\u001b[0m\u001b[1;33m=\u001b[0m\u001b[0mcb\u001b[0m\u001b[1;33m)\u001b[0m\u001b[1;33m\u001b[0m\u001b[1;33m\u001b[0m\u001b[0m\n\u001b[0m\u001b[0;32m    780\u001b[0m             \u001b[1;31m# A job can complete so quickly than its callback is\u001b[0m\u001b[1;33m\u001b[0m\u001b[1;33m\u001b[0m\u001b[0m\n\u001b[0;32m    781\u001b[0m             \u001b[1;31m# called before we get here, causing self._jobs to\u001b[0m\u001b[1;33m\u001b[0m\u001b[1;33m\u001b[0m\u001b[0m\n",
      "\u001b[1;32mC:\\ProgramData\\Anaconda3\\envs\\tfgpu\\lib\\site-packages\\joblib\\_parallel_backends.py\u001b[0m in \u001b[0;36mapply_async\u001b[1;34m(self, func, callback)\u001b[0m\n\u001b[0;32m    206\u001b[0m     \u001b[1;32mdef\u001b[0m \u001b[0mapply_async\u001b[0m\u001b[1;33m(\u001b[0m\u001b[0mself\u001b[0m\u001b[1;33m,\u001b[0m \u001b[0mfunc\u001b[0m\u001b[1;33m,\u001b[0m \u001b[0mcallback\u001b[0m\u001b[1;33m=\u001b[0m\u001b[1;32mNone\u001b[0m\u001b[1;33m)\u001b[0m\u001b[1;33m:\u001b[0m\u001b[1;33m\u001b[0m\u001b[1;33m\u001b[0m\u001b[0m\n\u001b[0;32m    207\u001b[0m         \u001b[1;34m\"\"\"Schedule a func to be run\"\"\"\u001b[0m\u001b[1;33m\u001b[0m\u001b[1;33m\u001b[0m\u001b[0m\n\u001b[1;32m--> 208\u001b[1;33m         \u001b[0mresult\u001b[0m \u001b[1;33m=\u001b[0m \u001b[0mImmediateResult\u001b[0m\u001b[1;33m(\u001b[0m\u001b[0mfunc\u001b[0m\u001b[1;33m)\u001b[0m\u001b[1;33m\u001b[0m\u001b[1;33m\u001b[0m\u001b[0m\n\u001b[0m\u001b[0;32m    209\u001b[0m         \u001b[1;32mif\u001b[0m \u001b[0mcallback\u001b[0m\u001b[1;33m:\u001b[0m\u001b[1;33m\u001b[0m\u001b[1;33m\u001b[0m\u001b[0m\n\u001b[0;32m    210\u001b[0m             \u001b[0mcallback\u001b[0m\u001b[1;33m(\u001b[0m\u001b[0mresult\u001b[0m\u001b[1;33m)\u001b[0m\u001b[1;33m\u001b[0m\u001b[1;33m\u001b[0m\u001b[0m\n",
      "\u001b[1;32mC:\\ProgramData\\Anaconda3\\envs\\tfgpu\\lib\\site-packages\\joblib\\_parallel_backends.py\u001b[0m in \u001b[0;36m__init__\u001b[1;34m(self, batch)\u001b[0m\n\u001b[0;32m    570\u001b[0m         \u001b[1;31m# Don't delay the application, to avoid keeping the input\u001b[0m\u001b[1;33m\u001b[0m\u001b[1;33m\u001b[0m\u001b[0m\n\u001b[0;32m    571\u001b[0m         \u001b[1;31m# arguments in memory\u001b[0m\u001b[1;33m\u001b[0m\u001b[1;33m\u001b[0m\u001b[0m\n\u001b[1;32m--> 572\u001b[1;33m         \u001b[0mself\u001b[0m\u001b[1;33m.\u001b[0m\u001b[0mresults\u001b[0m \u001b[1;33m=\u001b[0m \u001b[0mbatch\u001b[0m\u001b[1;33m(\u001b[0m\u001b[1;33m)\u001b[0m\u001b[1;33m\u001b[0m\u001b[1;33m\u001b[0m\u001b[0m\n\u001b[0m\u001b[0;32m    573\u001b[0m \u001b[1;33m\u001b[0m\u001b[0m\n\u001b[0;32m    574\u001b[0m     \u001b[1;32mdef\u001b[0m \u001b[0mget\u001b[0m\u001b[1;33m(\u001b[0m\u001b[0mself\u001b[0m\u001b[1;33m)\u001b[0m\u001b[1;33m:\u001b[0m\u001b[1;33m\u001b[0m\u001b[1;33m\u001b[0m\u001b[0m\n",
      "\u001b[1;32mC:\\ProgramData\\Anaconda3\\envs\\tfgpu\\lib\\site-packages\\joblib\\parallel.py\u001b[0m in \u001b[0;36m__call__\u001b[1;34m(self)\u001b[0m\n\u001b[0;32m    260\u001b[0m         \u001b[1;31m# change the default number of processes to -1\u001b[0m\u001b[1;33m\u001b[0m\u001b[1;33m\u001b[0m\u001b[0m\n\u001b[0;32m    261\u001b[0m         \u001b[1;32mwith\u001b[0m \u001b[0mparallel_backend\u001b[0m\u001b[1;33m(\u001b[0m\u001b[0mself\u001b[0m\u001b[1;33m.\u001b[0m\u001b[0m_backend\u001b[0m\u001b[1;33m,\u001b[0m \u001b[0mn_jobs\u001b[0m\u001b[1;33m=\u001b[0m\u001b[0mself\u001b[0m\u001b[1;33m.\u001b[0m\u001b[0m_n_jobs\u001b[0m\u001b[1;33m)\u001b[0m\u001b[1;33m:\u001b[0m\u001b[1;33m\u001b[0m\u001b[1;33m\u001b[0m\u001b[0m\n\u001b[1;32m--> 262\u001b[1;33m             return [func(*args, **kwargs)\n\u001b[0m\u001b[0;32m    263\u001b[0m                     for func, args, kwargs in self.items]\n\u001b[0;32m    264\u001b[0m \u001b[1;33m\u001b[0m\u001b[0m\n",
      "\u001b[1;32mC:\\ProgramData\\Anaconda3\\envs\\tfgpu\\lib\\site-packages\\joblib\\parallel.py\u001b[0m in \u001b[0;36m<listcomp>\u001b[1;34m(.0)\u001b[0m\n\u001b[0;32m    260\u001b[0m         \u001b[1;31m# change the default number of processes to -1\u001b[0m\u001b[1;33m\u001b[0m\u001b[1;33m\u001b[0m\u001b[0m\n\u001b[0;32m    261\u001b[0m         \u001b[1;32mwith\u001b[0m \u001b[0mparallel_backend\u001b[0m\u001b[1;33m(\u001b[0m\u001b[0mself\u001b[0m\u001b[1;33m.\u001b[0m\u001b[0m_backend\u001b[0m\u001b[1;33m,\u001b[0m \u001b[0mn_jobs\u001b[0m\u001b[1;33m=\u001b[0m\u001b[0mself\u001b[0m\u001b[1;33m.\u001b[0m\u001b[0m_n_jobs\u001b[0m\u001b[1;33m)\u001b[0m\u001b[1;33m:\u001b[0m\u001b[1;33m\u001b[0m\u001b[1;33m\u001b[0m\u001b[0m\n\u001b[1;32m--> 262\u001b[1;33m             return [func(*args, **kwargs)\n\u001b[0m\u001b[0;32m    263\u001b[0m                     for func, args, kwargs in self.items]\n\u001b[0;32m    264\u001b[0m \u001b[1;33m\u001b[0m\u001b[0m\n",
      "\u001b[1;32mC:\\ProgramData\\Anaconda3\\envs\\tfgpu\\lib\\site-packages\\sklearn\\utils\\fixes.py\u001b[0m in \u001b[0;36m__call__\u001b[1;34m(self, *args, **kwargs)\u001b[0m\n\u001b[0;32m    209\u001b[0m     \u001b[1;32mdef\u001b[0m \u001b[0m__call__\u001b[0m\u001b[1;33m(\u001b[0m\u001b[0mself\u001b[0m\u001b[1;33m,\u001b[0m \u001b[1;33m*\u001b[0m\u001b[0margs\u001b[0m\u001b[1;33m,\u001b[0m \u001b[1;33m**\u001b[0m\u001b[0mkwargs\u001b[0m\u001b[1;33m)\u001b[0m\u001b[1;33m:\u001b[0m\u001b[1;33m\u001b[0m\u001b[1;33m\u001b[0m\u001b[0m\n\u001b[0;32m    210\u001b[0m         \u001b[1;32mwith\u001b[0m \u001b[0mconfig_context\u001b[0m\u001b[1;33m(\u001b[0m\u001b[1;33m**\u001b[0m\u001b[0mself\u001b[0m\u001b[1;33m.\u001b[0m\u001b[0mconfig\u001b[0m\u001b[1;33m)\u001b[0m\u001b[1;33m:\u001b[0m\u001b[1;33m\u001b[0m\u001b[1;33m\u001b[0m\u001b[0m\n\u001b[1;32m--> 211\u001b[1;33m             \u001b[1;32mreturn\u001b[0m \u001b[0mself\u001b[0m\u001b[1;33m.\u001b[0m\u001b[0mfunction\u001b[0m\u001b[1;33m(\u001b[0m\u001b[1;33m*\u001b[0m\u001b[0margs\u001b[0m\u001b[1;33m,\u001b[0m \u001b[1;33m**\u001b[0m\u001b[0mkwargs\u001b[0m\u001b[1;33m)\u001b[0m\u001b[1;33m\u001b[0m\u001b[1;33m\u001b[0m\u001b[0m\n\u001b[0m\u001b[0;32m    212\u001b[0m \u001b[1;33m\u001b[0m\u001b[0m\n\u001b[0;32m    213\u001b[0m \u001b[1;33m\u001b[0m\u001b[0m\n",
      "\u001b[1;32mC:\\ProgramData\\Anaconda3\\envs\\tfgpu\\lib\\site-packages\\sklearn\\model_selection\\_validation.py\u001b[0m in \u001b[0;36m_fit_and_score\u001b[1;34m(estimator, X, y, scorer, train, test, verbose, parameters, fit_params, return_train_score, return_parameters, return_n_test_samples, return_times, return_estimator, split_progress, candidate_progress, error_score)\u001b[0m\n\u001b[0;32m    679\u001b[0m             \u001b[0mestimator\u001b[0m\u001b[1;33m.\u001b[0m\u001b[0mfit\u001b[0m\u001b[1;33m(\u001b[0m\u001b[0mX_train\u001b[0m\u001b[1;33m,\u001b[0m \u001b[1;33m**\u001b[0m\u001b[0mfit_params\u001b[0m\u001b[1;33m)\u001b[0m\u001b[1;33m\u001b[0m\u001b[1;33m\u001b[0m\u001b[0m\n\u001b[0;32m    680\u001b[0m         \u001b[1;32melse\u001b[0m\u001b[1;33m:\u001b[0m\u001b[1;33m\u001b[0m\u001b[1;33m\u001b[0m\u001b[0m\n\u001b[1;32m--> 681\u001b[1;33m             \u001b[0mestimator\u001b[0m\u001b[1;33m.\u001b[0m\u001b[0mfit\u001b[0m\u001b[1;33m(\u001b[0m\u001b[0mX_train\u001b[0m\u001b[1;33m,\u001b[0m \u001b[0my_train\u001b[0m\u001b[1;33m,\u001b[0m \u001b[1;33m**\u001b[0m\u001b[0mfit_params\u001b[0m\u001b[1;33m)\u001b[0m\u001b[1;33m\u001b[0m\u001b[1;33m\u001b[0m\u001b[0m\n\u001b[0m\u001b[0;32m    682\u001b[0m \u001b[1;33m\u001b[0m\u001b[0m\n\u001b[0;32m    683\u001b[0m     \u001b[1;32mexcept\u001b[0m \u001b[0mException\u001b[0m\u001b[1;33m:\u001b[0m\u001b[1;33m\u001b[0m\u001b[1;33m\u001b[0m\u001b[0m\n",
      "\u001b[1;32mC:\\ProgramData\\Anaconda3\\envs\\tfgpu\\lib\\site-packages\\tensorflow\\python\\keras\\wrappers\\scikit_learn.py\u001b[0m in \u001b[0;36mfit\u001b[1;34m(self, x, y, **kwargs)\u001b[0m\n\u001b[0;32m    218\u001b[0m       \u001b[1;32mraise\u001b[0m \u001b[0mValueError\u001b[0m\u001b[1;33m(\u001b[0m\u001b[1;34m'Invalid shape for y: '\u001b[0m \u001b[1;33m+\u001b[0m \u001b[0mstr\u001b[0m\u001b[1;33m(\u001b[0m\u001b[0my\u001b[0m\u001b[1;33m.\u001b[0m\u001b[0mshape\u001b[0m\u001b[1;33m)\u001b[0m\u001b[1;33m)\u001b[0m\u001b[1;33m\u001b[0m\u001b[1;33m\u001b[0m\u001b[0m\n\u001b[0;32m    219\u001b[0m     \u001b[0mself\u001b[0m\u001b[1;33m.\u001b[0m\u001b[0mn_classes_\u001b[0m \u001b[1;33m=\u001b[0m \u001b[0mlen\u001b[0m\u001b[1;33m(\u001b[0m\u001b[0mself\u001b[0m\u001b[1;33m.\u001b[0m\u001b[0mclasses_\u001b[0m\u001b[1;33m)\u001b[0m\u001b[1;33m\u001b[0m\u001b[1;33m\u001b[0m\u001b[0m\n\u001b[1;32m--> 220\u001b[1;33m     \u001b[1;32mreturn\u001b[0m \u001b[0msuper\u001b[0m\u001b[1;33m(\u001b[0m\u001b[0mKerasClassifier\u001b[0m\u001b[1;33m,\u001b[0m \u001b[0mself\u001b[0m\u001b[1;33m)\u001b[0m\u001b[1;33m.\u001b[0m\u001b[0mfit\u001b[0m\u001b[1;33m(\u001b[0m\u001b[0mx\u001b[0m\u001b[1;33m,\u001b[0m \u001b[0my\u001b[0m\u001b[1;33m,\u001b[0m \u001b[1;33m**\u001b[0m\u001b[0mkwargs\u001b[0m\u001b[1;33m)\u001b[0m\u001b[1;33m\u001b[0m\u001b[1;33m\u001b[0m\u001b[0m\n\u001b[0m\u001b[0;32m    221\u001b[0m \u001b[1;33m\u001b[0m\u001b[0m\n\u001b[0;32m    222\u001b[0m   \u001b[1;32mdef\u001b[0m \u001b[0mpredict\u001b[0m\u001b[1;33m(\u001b[0m\u001b[0mself\u001b[0m\u001b[1;33m,\u001b[0m \u001b[0mx\u001b[0m\u001b[1;33m,\u001b[0m \u001b[1;33m**\u001b[0m\u001b[0mkwargs\u001b[0m\u001b[1;33m)\u001b[0m\u001b[1;33m:\u001b[0m\u001b[1;33m\u001b[0m\u001b[1;33m\u001b[0m\u001b[0m\n",
      "\u001b[1;32mC:\\ProgramData\\Anaconda3\\envs\\tfgpu\\lib\\site-packages\\tensorflow\\python\\keras\\wrappers\\scikit_learn.py\u001b[0m in \u001b[0;36mfit\u001b[1;34m(self, x, y, **kwargs)\u001b[0m\n\u001b[0;32m    161\u001b[0m     \u001b[0mfit_args\u001b[0m\u001b[1;33m.\u001b[0m\u001b[0mupdate\u001b[0m\u001b[1;33m(\u001b[0m\u001b[0mkwargs\u001b[0m\u001b[1;33m)\u001b[0m\u001b[1;33m\u001b[0m\u001b[1;33m\u001b[0m\u001b[0m\n\u001b[0;32m    162\u001b[0m \u001b[1;33m\u001b[0m\u001b[0m\n\u001b[1;32m--> 163\u001b[1;33m     \u001b[0mhistory\u001b[0m \u001b[1;33m=\u001b[0m \u001b[0mself\u001b[0m\u001b[1;33m.\u001b[0m\u001b[0mmodel\u001b[0m\u001b[1;33m.\u001b[0m\u001b[0mfit\u001b[0m\u001b[1;33m(\u001b[0m\u001b[0mx\u001b[0m\u001b[1;33m,\u001b[0m \u001b[0my\u001b[0m\u001b[1;33m,\u001b[0m \u001b[1;33m**\u001b[0m\u001b[0mfit_args\u001b[0m\u001b[1;33m)\u001b[0m\u001b[1;33m\u001b[0m\u001b[1;33m\u001b[0m\u001b[0m\n\u001b[0m\u001b[0;32m    164\u001b[0m \u001b[1;33m\u001b[0m\u001b[0m\n\u001b[0;32m    165\u001b[0m     \u001b[1;32mreturn\u001b[0m \u001b[0mhistory\u001b[0m\u001b[1;33m\u001b[0m\u001b[1;33m\u001b[0m\u001b[0m\n",
      "\u001b[1;32mC:\\ProgramData\\Anaconda3\\envs\\tfgpu\\lib\\site-packages\\tensorflow\\python\\keras\\engine\\training.py\u001b[0m in \u001b[0;36mfit\u001b[1;34m(self, x, y, batch_size, epochs, verbose, callbacks, validation_split, validation_data, shuffle, class_weight, sample_weight, initial_epoch, steps_per_epoch, validation_steps, validation_batch_size, validation_freq, max_queue_size, workers, use_multiprocessing)\u001b[0m\n\u001b[0;32m   1181\u001b[0m                 _r=1):\n\u001b[0;32m   1182\u001b[0m               \u001b[0mcallbacks\u001b[0m\u001b[1;33m.\u001b[0m\u001b[0mon_train_batch_begin\u001b[0m\u001b[1;33m(\u001b[0m\u001b[0mstep\u001b[0m\u001b[1;33m)\u001b[0m\u001b[1;33m\u001b[0m\u001b[1;33m\u001b[0m\u001b[0m\n\u001b[1;32m-> 1183\u001b[1;33m               \u001b[0mtmp_logs\u001b[0m \u001b[1;33m=\u001b[0m \u001b[0mself\u001b[0m\u001b[1;33m.\u001b[0m\u001b[0mtrain_function\u001b[0m\u001b[1;33m(\u001b[0m\u001b[0miterator\u001b[0m\u001b[1;33m)\u001b[0m\u001b[1;33m\u001b[0m\u001b[1;33m\u001b[0m\u001b[0m\n\u001b[0m\u001b[0;32m   1184\u001b[0m               \u001b[1;32mif\u001b[0m \u001b[0mdata_handler\u001b[0m\u001b[1;33m.\u001b[0m\u001b[0mshould_sync\u001b[0m\u001b[1;33m:\u001b[0m\u001b[1;33m\u001b[0m\u001b[1;33m\u001b[0m\u001b[0m\n\u001b[0;32m   1185\u001b[0m                 \u001b[0mcontext\u001b[0m\u001b[1;33m.\u001b[0m\u001b[0masync_wait\u001b[0m\u001b[1;33m(\u001b[0m\u001b[1;33m)\u001b[0m\u001b[1;33m\u001b[0m\u001b[1;33m\u001b[0m\u001b[0m\n",
      "\u001b[1;32mC:\\ProgramData\\Anaconda3\\envs\\tfgpu\\lib\\site-packages\\tensorflow\\python\\eager\\def_function.py\u001b[0m in \u001b[0;36m__call__\u001b[1;34m(self, *args, **kwds)\u001b[0m\n\u001b[0;32m    887\u001b[0m \u001b[1;33m\u001b[0m\u001b[0m\n\u001b[0;32m    888\u001b[0m       \u001b[1;32mwith\u001b[0m \u001b[0mOptionalXlaContext\u001b[0m\u001b[1;33m(\u001b[0m\u001b[0mself\u001b[0m\u001b[1;33m.\u001b[0m\u001b[0m_jit_compile\u001b[0m\u001b[1;33m)\u001b[0m\u001b[1;33m:\u001b[0m\u001b[1;33m\u001b[0m\u001b[1;33m\u001b[0m\u001b[0m\n\u001b[1;32m--> 889\u001b[1;33m         \u001b[0mresult\u001b[0m \u001b[1;33m=\u001b[0m \u001b[0mself\u001b[0m\u001b[1;33m.\u001b[0m\u001b[0m_call\u001b[0m\u001b[1;33m(\u001b[0m\u001b[1;33m*\u001b[0m\u001b[0margs\u001b[0m\u001b[1;33m,\u001b[0m \u001b[1;33m**\u001b[0m\u001b[0mkwds\u001b[0m\u001b[1;33m)\u001b[0m\u001b[1;33m\u001b[0m\u001b[1;33m\u001b[0m\u001b[0m\n\u001b[0m\u001b[0;32m    890\u001b[0m \u001b[1;33m\u001b[0m\u001b[0m\n\u001b[0;32m    891\u001b[0m       \u001b[0mnew_tracing_count\u001b[0m \u001b[1;33m=\u001b[0m \u001b[0mself\u001b[0m\u001b[1;33m.\u001b[0m\u001b[0mexperimental_get_tracing_count\u001b[0m\u001b[1;33m(\u001b[0m\u001b[1;33m)\u001b[0m\u001b[1;33m\u001b[0m\u001b[1;33m\u001b[0m\u001b[0m\n",
      "\u001b[1;32mC:\\ProgramData\\Anaconda3\\envs\\tfgpu\\lib\\site-packages\\tensorflow\\python\\eager\\def_function.py\u001b[0m in \u001b[0;36m_call\u001b[1;34m(self, *args, **kwds)\u001b[0m\n\u001b[0;32m    931\u001b[0m       \u001b[1;31m# This is the first call of __call__, so we have to initialize.\u001b[0m\u001b[1;33m\u001b[0m\u001b[1;33m\u001b[0m\u001b[0m\n\u001b[0;32m    932\u001b[0m       \u001b[0minitializers\u001b[0m \u001b[1;33m=\u001b[0m \u001b[1;33m[\u001b[0m\u001b[1;33m]\u001b[0m\u001b[1;33m\u001b[0m\u001b[1;33m\u001b[0m\u001b[0m\n\u001b[1;32m--> 933\u001b[1;33m       \u001b[0mself\u001b[0m\u001b[1;33m.\u001b[0m\u001b[0m_initialize\u001b[0m\u001b[1;33m(\u001b[0m\u001b[0margs\u001b[0m\u001b[1;33m,\u001b[0m \u001b[0mkwds\u001b[0m\u001b[1;33m,\u001b[0m \u001b[0madd_initializers_to\u001b[0m\u001b[1;33m=\u001b[0m\u001b[0minitializers\u001b[0m\u001b[1;33m)\u001b[0m\u001b[1;33m\u001b[0m\u001b[1;33m\u001b[0m\u001b[0m\n\u001b[0m\u001b[0;32m    934\u001b[0m     \u001b[1;32mfinally\u001b[0m\u001b[1;33m:\u001b[0m\u001b[1;33m\u001b[0m\u001b[1;33m\u001b[0m\u001b[0m\n\u001b[0;32m    935\u001b[0m       \u001b[1;31m# At this point we know that the initialization is complete (or less\u001b[0m\u001b[1;33m\u001b[0m\u001b[1;33m\u001b[0m\u001b[0m\n",
      "\u001b[1;32mC:\\ProgramData\\Anaconda3\\envs\\tfgpu\\lib\\site-packages\\tensorflow\\python\\eager\\def_function.py\u001b[0m in \u001b[0;36m_initialize\u001b[1;34m(self, args, kwds, add_initializers_to)\u001b[0m\n\u001b[0;32m    761\u001b[0m     \u001b[0mself\u001b[0m\u001b[1;33m.\u001b[0m\u001b[0m_graph_deleter\u001b[0m \u001b[1;33m=\u001b[0m \u001b[0mFunctionDeleter\u001b[0m\u001b[1;33m(\u001b[0m\u001b[0mself\u001b[0m\u001b[1;33m.\u001b[0m\u001b[0m_lifted_initializer_graph\u001b[0m\u001b[1;33m)\u001b[0m\u001b[1;33m\u001b[0m\u001b[1;33m\u001b[0m\u001b[0m\n\u001b[0;32m    762\u001b[0m     self._concrete_stateful_fn = (\n\u001b[1;32m--> 763\u001b[1;33m         self._stateful_fn._get_concrete_function_internal_garbage_collected(  # pylint: disable=protected-access\n\u001b[0m\u001b[0;32m    764\u001b[0m             *args, **kwds))\n\u001b[0;32m    765\u001b[0m \u001b[1;33m\u001b[0m\u001b[0m\n",
      "\u001b[1;32mC:\\ProgramData\\Anaconda3\\envs\\tfgpu\\lib\\site-packages\\tensorflow\\python\\eager\\function.py\u001b[0m in \u001b[0;36m_get_concrete_function_internal_garbage_collected\u001b[1;34m(self, *args, **kwargs)\u001b[0m\n\u001b[0;32m   3048\u001b[0m       \u001b[0margs\u001b[0m\u001b[1;33m,\u001b[0m \u001b[0mkwargs\u001b[0m \u001b[1;33m=\u001b[0m \u001b[1;32mNone\u001b[0m\u001b[1;33m,\u001b[0m \u001b[1;32mNone\u001b[0m\u001b[1;33m\u001b[0m\u001b[1;33m\u001b[0m\u001b[0m\n\u001b[0;32m   3049\u001b[0m     \u001b[1;32mwith\u001b[0m \u001b[0mself\u001b[0m\u001b[1;33m.\u001b[0m\u001b[0m_lock\u001b[0m\u001b[1;33m:\u001b[0m\u001b[1;33m\u001b[0m\u001b[1;33m\u001b[0m\u001b[0m\n\u001b[1;32m-> 3050\u001b[1;33m       \u001b[0mgraph_function\u001b[0m\u001b[1;33m,\u001b[0m \u001b[0m_\u001b[0m \u001b[1;33m=\u001b[0m \u001b[0mself\u001b[0m\u001b[1;33m.\u001b[0m\u001b[0m_maybe_define_function\u001b[0m\u001b[1;33m(\u001b[0m\u001b[0margs\u001b[0m\u001b[1;33m,\u001b[0m \u001b[0mkwargs\u001b[0m\u001b[1;33m)\u001b[0m\u001b[1;33m\u001b[0m\u001b[1;33m\u001b[0m\u001b[0m\n\u001b[0m\u001b[0;32m   3051\u001b[0m     \u001b[1;32mreturn\u001b[0m \u001b[0mgraph_function\u001b[0m\u001b[1;33m\u001b[0m\u001b[1;33m\u001b[0m\u001b[0m\n\u001b[0;32m   3052\u001b[0m \u001b[1;33m\u001b[0m\u001b[0m\n",
      "\u001b[1;32mC:\\ProgramData\\Anaconda3\\envs\\tfgpu\\lib\\site-packages\\tensorflow\\python\\eager\\function.py\u001b[0m in \u001b[0;36m_maybe_define_function\u001b[1;34m(self, args, kwargs)\u001b[0m\n\u001b[0;32m   3442\u001b[0m \u001b[1;33m\u001b[0m\u001b[0m\n\u001b[0;32m   3443\u001b[0m           \u001b[0mself\u001b[0m\u001b[1;33m.\u001b[0m\u001b[0m_function_cache\u001b[0m\u001b[1;33m.\u001b[0m\u001b[0mmissed\u001b[0m\u001b[1;33m.\u001b[0m\u001b[0madd\u001b[0m\u001b[1;33m(\u001b[0m\u001b[0mcall_context_key\u001b[0m\u001b[1;33m)\u001b[0m\u001b[1;33m\u001b[0m\u001b[1;33m\u001b[0m\u001b[0m\n\u001b[1;32m-> 3444\u001b[1;33m           \u001b[0mgraph_function\u001b[0m \u001b[1;33m=\u001b[0m \u001b[0mself\u001b[0m\u001b[1;33m.\u001b[0m\u001b[0m_create_graph_function\u001b[0m\u001b[1;33m(\u001b[0m\u001b[0margs\u001b[0m\u001b[1;33m,\u001b[0m \u001b[0mkwargs\u001b[0m\u001b[1;33m)\u001b[0m\u001b[1;33m\u001b[0m\u001b[1;33m\u001b[0m\u001b[0m\n\u001b[0m\u001b[0;32m   3445\u001b[0m           \u001b[0mself\u001b[0m\u001b[1;33m.\u001b[0m\u001b[0m_function_cache\u001b[0m\u001b[1;33m.\u001b[0m\u001b[0mprimary\u001b[0m\u001b[1;33m[\u001b[0m\u001b[0mcache_key\u001b[0m\u001b[1;33m]\u001b[0m \u001b[1;33m=\u001b[0m \u001b[0mgraph_function\u001b[0m\u001b[1;33m\u001b[0m\u001b[1;33m\u001b[0m\u001b[0m\n\u001b[0;32m   3446\u001b[0m \u001b[1;33m\u001b[0m\u001b[0m\n",
      "\u001b[1;32mC:\\ProgramData\\Anaconda3\\envs\\tfgpu\\lib\\site-packages\\tensorflow\\python\\eager\\function.py\u001b[0m in \u001b[0;36m_create_graph_function\u001b[1;34m(self, args, kwargs, override_flat_arg_shapes)\u001b[0m\n\u001b[0;32m   3277\u001b[0m     \u001b[0marg_names\u001b[0m \u001b[1;33m=\u001b[0m \u001b[0mbase_arg_names\u001b[0m \u001b[1;33m+\u001b[0m \u001b[0mmissing_arg_names\u001b[0m\u001b[1;33m\u001b[0m\u001b[1;33m\u001b[0m\u001b[0m\n\u001b[0;32m   3278\u001b[0m     graph_function = ConcreteFunction(\n\u001b[1;32m-> 3279\u001b[1;33m         func_graph_module.func_graph_from_py_func(\n\u001b[0m\u001b[0;32m   3280\u001b[0m             \u001b[0mself\u001b[0m\u001b[1;33m.\u001b[0m\u001b[0m_name\u001b[0m\u001b[1;33m,\u001b[0m\u001b[1;33m\u001b[0m\u001b[1;33m\u001b[0m\u001b[0m\n\u001b[0;32m   3281\u001b[0m             \u001b[0mself\u001b[0m\u001b[1;33m.\u001b[0m\u001b[0m_python_function\u001b[0m\u001b[1;33m,\u001b[0m\u001b[1;33m\u001b[0m\u001b[1;33m\u001b[0m\u001b[0m\n",
      "\u001b[1;32mC:\\ProgramData\\Anaconda3\\envs\\tfgpu\\lib\\site-packages\\tensorflow\\python\\framework\\func_graph.py\u001b[0m in \u001b[0;36mfunc_graph_from_py_func\u001b[1;34m(name, python_func, args, kwargs, signature, func_graph, autograph, autograph_options, add_control_dependencies, arg_names, op_return_value, collections, capture_by_value, override_flat_arg_shapes)\u001b[0m\n\u001b[0;32m    997\u001b[0m         \u001b[0m_\u001b[0m\u001b[1;33m,\u001b[0m \u001b[0moriginal_func\u001b[0m \u001b[1;33m=\u001b[0m \u001b[0mtf_decorator\u001b[0m\u001b[1;33m.\u001b[0m\u001b[0munwrap\u001b[0m\u001b[1;33m(\u001b[0m\u001b[0mpython_func\u001b[0m\u001b[1;33m)\u001b[0m\u001b[1;33m\u001b[0m\u001b[1;33m\u001b[0m\u001b[0m\n\u001b[0;32m    998\u001b[0m \u001b[1;33m\u001b[0m\u001b[0m\n\u001b[1;32m--> 999\u001b[1;33m       \u001b[0mfunc_outputs\u001b[0m \u001b[1;33m=\u001b[0m \u001b[0mpython_func\u001b[0m\u001b[1;33m(\u001b[0m\u001b[1;33m*\u001b[0m\u001b[0mfunc_args\u001b[0m\u001b[1;33m,\u001b[0m \u001b[1;33m**\u001b[0m\u001b[0mfunc_kwargs\u001b[0m\u001b[1;33m)\u001b[0m\u001b[1;33m\u001b[0m\u001b[1;33m\u001b[0m\u001b[0m\n\u001b[0m\u001b[0;32m   1000\u001b[0m \u001b[1;33m\u001b[0m\u001b[0m\n\u001b[0;32m   1001\u001b[0m       \u001b[1;31m# invariant: `func_outputs` contains only Tensors, CompositeTensors,\u001b[0m\u001b[1;33m\u001b[0m\u001b[1;33m\u001b[0m\u001b[0m\n",
      "\u001b[1;32mC:\\ProgramData\\Anaconda3\\envs\\tfgpu\\lib\\site-packages\\tensorflow\\python\\eager\\def_function.py\u001b[0m in \u001b[0;36mwrapped_fn\u001b[1;34m(*args, **kwds)\u001b[0m\n\u001b[0;32m    670\u001b[0m         \u001b[1;31m# the function a weak reference to itself to avoid a reference cycle.\u001b[0m\u001b[1;33m\u001b[0m\u001b[1;33m\u001b[0m\u001b[0m\n\u001b[0;32m    671\u001b[0m         \u001b[1;32mwith\u001b[0m \u001b[0mOptionalXlaContext\u001b[0m\u001b[1;33m(\u001b[0m\u001b[0mcompile_with_xla\u001b[0m\u001b[1;33m)\u001b[0m\u001b[1;33m:\u001b[0m\u001b[1;33m\u001b[0m\u001b[1;33m\u001b[0m\u001b[0m\n\u001b[1;32m--> 672\u001b[1;33m           \u001b[0mout\u001b[0m \u001b[1;33m=\u001b[0m \u001b[0mweak_wrapped_fn\u001b[0m\u001b[1;33m(\u001b[0m\u001b[1;33m)\u001b[0m\u001b[1;33m.\u001b[0m\u001b[0m__wrapped__\u001b[0m\u001b[1;33m(\u001b[0m\u001b[1;33m*\u001b[0m\u001b[0margs\u001b[0m\u001b[1;33m,\u001b[0m \u001b[1;33m**\u001b[0m\u001b[0mkwds\u001b[0m\u001b[1;33m)\u001b[0m\u001b[1;33m\u001b[0m\u001b[1;33m\u001b[0m\u001b[0m\n\u001b[0m\u001b[0;32m    673\u001b[0m         \u001b[1;32mreturn\u001b[0m \u001b[0mout\u001b[0m\u001b[1;33m\u001b[0m\u001b[1;33m\u001b[0m\u001b[0m\n\u001b[0;32m    674\u001b[0m \u001b[1;33m\u001b[0m\u001b[0m\n",
      "\u001b[1;32mC:\\ProgramData\\Anaconda3\\envs\\tfgpu\\lib\\site-packages\\tensorflow\\python\\framework\\func_graph.py\u001b[0m in \u001b[0;36mwrapper\u001b[1;34m(*args, **kwargs)\u001b[0m\n\u001b[0;32m    984\u001b[0m           \u001b[1;32mexcept\u001b[0m \u001b[0mException\u001b[0m \u001b[1;32mas\u001b[0m \u001b[0me\u001b[0m\u001b[1;33m:\u001b[0m  \u001b[1;31m# pylint:disable=broad-except\u001b[0m\u001b[1;33m\u001b[0m\u001b[1;33m\u001b[0m\u001b[0m\n\u001b[0;32m    985\u001b[0m             \u001b[1;32mif\u001b[0m \u001b[0mhasattr\u001b[0m\u001b[1;33m(\u001b[0m\u001b[0me\u001b[0m\u001b[1;33m,\u001b[0m \u001b[1;34m\"ag_error_metadata\"\u001b[0m\u001b[1;33m)\u001b[0m\u001b[1;33m:\u001b[0m\u001b[1;33m\u001b[0m\u001b[1;33m\u001b[0m\u001b[0m\n\u001b[1;32m--> 986\u001b[1;33m               \u001b[1;32mraise\u001b[0m \u001b[0me\u001b[0m\u001b[1;33m.\u001b[0m\u001b[0mag_error_metadata\u001b[0m\u001b[1;33m.\u001b[0m\u001b[0mto_exception\u001b[0m\u001b[1;33m(\u001b[0m\u001b[0me\u001b[0m\u001b[1;33m)\u001b[0m\u001b[1;33m\u001b[0m\u001b[1;33m\u001b[0m\u001b[0m\n\u001b[0m\u001b[0;32m    987\u001b[0m             \u001b[1;32melse\u001b[0m\u001b[1;33m:\u001b[0m\u001b[1;33m\u001b[0m\u001b[1;33m\u001b[0m\u001b[0m\n\u001b[0;32m    988\u001b[0m               \u001b[1;32mraise\u001b[0m\u001b[1;33m\u001b[0m\u001b[1;33m\u001b[0m\u001b[0m\n",
      "\u001b[1;31mValueError\u001b[0m: in user code:\n\n    C:\\ProgramData\\Anaconda3\\envs\\tfgpu\\lib\\site-packages\\tensorflow\\python\\keras\\engine\\training.py:855 train_function  *\n        return step_function(self, iterator)\n    C:\\ProgramData\\Anaconda3\\envs\\tfgpu\\lib\\site-packages\\tensorflow\\python\\keras\\engine\\training.py:845 step_function  **\n        outputs = model.distribute_strategy.run(run_step, args=(data,))\n    C:\\ProgramData\\Anaconda3\\envs\\tfgpu\\lib\\site-packages\\tensorflow\\python\\distribute\\distribute_lib.py:1285 run\n        return self._extended.call_for_each_replica(fn, args=args, kwargs=kwargs)\n    C:\\ProgramData\\Anaconda3\\envs\\tfgpu\\lib\\site-packages\\tensorflow\\python\\distribute\\distribute_lib.py:2833 call_for_each_replica\n        return self._call_for_each_replica(fn, args, kwargs)\n    C:\\ProgramData\\Anaconda3\\envs\\tfgpu\\lib\\site-packages\\tensorflow\\python\\distribute\\distribute_lib.py:3608 _call_for_each_replica\n        return fn(*args, **kwargs)\n    C:\\ProgramData\\Anaconda3\\envs\\tfgpu\\lib\\site-packages\\tensorflow\\python\\keras\\engine\\training.py:838 run_step  **\n        outputs = model.train_step(data)\n    C:\\ProgramData\\Anaconda3\\envs\\tfgpu\\lib\\site-packages\\tensorflow\\python\\keras\\engine\\training.py:796 train_step\n        loss = self.compiled_loss(\n    C:\\ProgramData\\Anaconda3\\envs\\tfgpu\\lib\\site-packages\\tensorflow\\python\\keras\\engine\\compile_utils.py:204 __call__\n        loss_value = loss_obj(y_t, y_p, sample_weight=sw)\n    C:\\ProgramData\\Anaconda3\\envs\\tfgpu\\lib\\site-packages\\tensorflow\\python\\keras\\losses.py:155 __call__\n        losses = call_fn(y_true, y_pred)\n    C:\\ProgramData\\Anaconda3\\envs\\tfgpu\\lib\\site-packages\\tensorflow\\python\\keras\\losses.py:259 call  **\n        return ag_fn(y_true, y_pred, **self._fn_kwargs)\n    C:\\ProgramData\\Anaconda3\\envs\\tfgpu\\lib\\site-packages\\tensorflow\\python\\util\\dispatch.py:206 wrapper\n        return target(*args, **kwargs)\n    C:\\ProgramData\\Anaconda3\\envs\\tfgpu\\lib\\site-packages\\tensorflow\\python\\keras\\losses.py:1643 categorical_crossentropy\n        return backend.categorical_crossentropy(\n    C:\\ProgramData\\Anaconda3\\envs\\tfgpu\\lib\\site-packages\\tensorflow\\python\\util\\dispatch.py:206 wrapper\n        return target(*args, **kwargs)\n    C:\\ProgramData\\Anaconda3\\envs\\tfgpu\\lib\\site-packages\\tensorflow\\python\\keras\\backend.py:4862 categorical_crossentropy\n        target.shape.assert_is_compatible_with(output.shape)\n    C:\\ProgramData\\Anaconda3\\envs\\tfgpu\\lib\\site-packages\\tensorflow\\python\\framework\\tensor_shape.py:1161 assert_is_compatible_with\n        raise ValueError(\"Shapes %s and %s are incompatible\" % (self, other))\n\n    ValueError: Shapes (None, 6) and (None, 7) are incompatible\n"
     ]
    }
   ],
   "source": [
    "grid_search_cnn = GridSearchCV(estimator = modelCNN,\n",
    "                           param_grid = paramsCNN,\n",
    "                           scoring = 'accuracy',\n",
    "                           cv = 3, \n",
    "                           verbose = 1,\n",
    "                           error_score=\"raise\")\n",
    "\n",
    "grid_result_cnn = grid_search_cnn.fit(X_train, y_train_single)"
   ]
  },
  {
   "cell_type": "code",
   "execution_count": 78,
   "metadata": {
    "colab": {
     "base_uri": "https://localhost:8080/"
    },
    "execution": {
     "iopub.execute_input": "2021-11-08T19:54:34.836581Z",
     "iopub.status.busy": "2021-11-08T19:54:34.835580Z",
     "iopub.status.idle": "2021-11-08T19:54:34.863604Z",
     "shell.execute_reply": "2021-11-08T19:54:34.862604Z",
     "shell.execute_reply.started": "2021-11-08T19:54:34.836581Z"
    },
    "id": "Ev_-3T_YuDvO",
    "outputId": "52067660-6dc0-45aa-84eb-638ae1df4c20",
    "tags": []
   },
   "outputs": [
    {
     "ename": "NameError",
     "evalue": "name 'grid_result_cnn' is not defined",
     "output_type": "error",
     "traceback": [
      "\u001b[1;31m---------------------------------------------------------------------------\u001b[0m",
      "\u001b[1;31mNameError\u001b[0m                                 Traceback (most recent call last)",
      "\u001b[1;32m~\\AppData\\Local\\Temp/ipykernel_3572/2707596060.py\u001b[0m in \u001b[0;36m<module>\u001b[1;34m\u001b[0m\n\u001b[1;32m----> 1\u001b[1;33m \u001b[0mprint\u001b[0m\u001b[1;33m(\u001b[0m\u001b[1;34m\"Melhor acurácia foi de %f usando %s\"\u001b[0m \u001b[1;33m%\u001b[0m \u001b[1;33m(\u001b[0m\u001b[0mgrid_result_cnn\u001b[0m\u001b[1;33m.\u001b[0m\u001b[0mbest_score_\u001b[0m\u001b[1;33m,\u001b[0m \u001b[0mgrid_result_cnn\u001b[0m\u001b[1;33m.\u001b[0m\u001b[0mbest_params_\u001b[0m\u001b[1;33m)\u001b[0m\u001b[1;33m)\u001b[0m\u001b[1;33m\u001b[0m\u001b[1;33m\u001b[0m\u001b[0m\n\u001b[0m",
      "\u001b[1;31mNameError\u001b[0m: name 'grid_result_cnn' is not defined"
     ]
    }
   ],
   "source": [
    "print(\"Melhor acurácia foi de %f usando %s\" % (grid_result_cnn.best_score_, grid_result_cnn.best_params_))"
   ]
  },
  {
   "cell_type": "markdown",
   "metadata": {
    "id": "W2WL9cwFmUxL"
   },
   "source": [
    "### Structure"
   ]
  },
  {
   "cell_type": "code",
   "execution_count": 79,
   "metadata": {
    "execution": {
     "iopub.execute_input": "2021-11-08T19:54:35.899440Z",
     "iopub.status.busy": "2021-11-08T19:54:35.899440Z",
     "iopub.status.idle": "2021-11-08T19:54:35.914453Z",
     "shell.execute_reply": "2021-11-08T19:54:35.914453Z",
     "shell.execute_reply.started": "2021-11-08T19:54:35.899440Z"
    },
    "id": "0SbovfDQGX-S",
    "tags": []
   },
   "outputs": [
    {
     "ename": "NameError",
     "evalue": "name 'grid_result_cnn' is not defined",
     "output_type": "error",
     "traceback": [
      "\u001b[1;31m---------------------------------------------------------------------------\u001b[0m",
      "\u001b[1;31mNameError\u001b[0m                                 Traceback (most recent call last)",
      "\u001b[1;32m~\\AppData\\Local\\Temp/ipykernel_3572/4039694044.py\u001b[0m in \u001b[0;36m<module>\u001b[1;34m\u001b[0m\n\u001b[1;32m----> 1\u001b[1;33m \u001b[0mbest_modelCNN\u001b[0m \u001b[1;33m=\u001b[0m \u001b[0mbuildCNN\u001b[0m\u001b[1;33m(\u001b[0m\u001b[0mgrid_result_cnn\u001b[0m\u001b[1;33m.\u001b[0m\u001b[0mbest_params_\u001b[0m\u001b[1;33m[\u001b[0m\u001b[1;34m'neurons'\u001b[0m\u001b[1;33m]\u001b[0m\u001b[1;33m,\u001b[0m \u001b[0mgrid_result_cnn\u001b[0m\u001b[1;33m.\u001b[0m\u001b[0mbest_params_\u001b[0m\u001b[1;33m[\u001b[0m\u001b[1;34m'qtd_layers'\u001b[0m\u001b[1;33m]\u001b[0m\u001b[1;33m,\u001b[0m \u001b[0mgrid_result_cnn\u001b[0m\u001b[1;33m.\u001b[0m\u001b[0mbest_params_\u001b[0m\u001b[1;33m[\u001b[0m\u001b[1;34m'dropout_value'\u001b[0m\u001b[1;33m]\u001b[0m\u001b[1;33m)\u001b[0m\u001b[1;33m\u001b[0m\u001b[1;33m\u001b[0m\u001b[0m\n\u001b[0m",
      "\u001b[1;31mNameError\u001b[0m: name 'grid_result_cnn' is not defined"
     ]
    }
   ],
   "source": [
    "best_modelCNN = buildCNN(grid_result_cnn.best_params_['neurons'], grid_result_cnn.best_params_['qtd_layers'], grid_result_cnn.best_params_['dropout_value'])"
   ]
  },
  {
   "cell_type": "code",
   "execution_count": 80,
   "metadata": {
    "colab": {
     "base_uri": "https://localhost:8080/"
    },
    "execution": {
     "iopub.execute_input": "2021-11-08T19:54:36.234505Z",
     "iopub.status.busy": "2021-11-08T19:54:36.234505Z",
     "iopub.status.idle": "2021-11-08T19:54:36.249583Z",
     "shell.execute_reply": "2021-11-08T19:54:36.249583Z",
     "shell.execute_reply.started": "2021-11-08T19:54:36.234505Z"
    },
    "id": "JLTpD7vbl_y8",
    "outputId": "b9d63472-2dea-471f-f5b7-f720aa14cd8b",
    "tags": []
   },
   "outputs": [
    {
     "ename": "NameError",
     "evalue": "name 'best_modelCNN' is not defined",
     "output_type": "error",
     "traceback": [
      "\u001b[1;31m---------------------------------------------------------------------------\u001b[0m",
      "\u001b[1;31mNameError\u001b[0m                                 Traceback (most recent call last)",
      "\u001b[1;32m~\\AppData\\Local\\Temp/ipykernel_3572/3122340627.py\u001b[0m in \u001b[0;36m<module>\u001b[1;34m\u001b[0m\n\u001b[1;32m----> 1\u001b[1;33m \u001b[0mbest_modelCNN\u001b[0m\u001b[1;33m.\u001b[0m\u001b[0msummary\u001b[0m\u001b[1;33m(\u001b[0m\u001b[1;33m)\u001b[0m\u001b[1;33m\u001b[0m\u001b[1;33m\u001b[0m\u001b[0m\n\u001b[0m",
      "\u001b[1;31mNameError\u001b[0m: name 'best_modelCNN' is not defined"
     ]
    }
   ],
   "source": [
    "best_modelCNN.summary()"
   ]
  },
  {
   "cell_type": "code",
   "execution_count": null,
   "metadata": {
    "execution": {
     "iopub.status.busy": "2021-11-08T19:35:28.476530Z",
     "iopub.status.idle": "2021-11-08T19:35:28.477131Z",
     "shell.execute_reply": "2021-11-08T19:35:28.476530Z",
     "shell.execute_reply.started": "2021-11-08T19:35:28.476530Z"
    }
   },
   "outputs": [],
   "source": [
    "tf.keras.utils.plot_model(\n",
    "    best_modelCNN,\n",
    "    show_shapes=True,\n",
    "    show_layer_names=True,\n",
    ")"
   ]
  },
  {
   "cell_type": "markdown",
   "metadata": {
    "id": "SKfX0GpFl43O"
   },
   "source": [
    "### Train"
   ]
  },
  {
   "cell_type": "code",
   "execution_count": null,
   "metadata": {
    "colab": {
     "base_uri": "https://localhost:8080/"
    },
    "execution": {
     "iopub.status.busy": "2021-11-08T19:35:28.478136Z",
     "iopub.status.idle": "2021-11-08T19:35:28.478136Z",
     "shell.execute_reply": "2021-11-08T19:35:28.478136Z",
     "shell.execute_reply.started": "2021-11-08T19:35:28.478136Z"
    },
    "id": "glT7iWFtl4e4",
    "outputId": "f05e3d03-45b2-45fa-98b9-2bef9ca3fc87",
    "tags": []
   },
   "outputs": [],
   "source": [
    "historyCNN_gs = best_modelCNN.fit(train_generator, steps_per_epoch=STEP_SIZE_TRAIN, epochs=num_epochs, verbose=1, validation_data=val_generator, validation_steps=STEP_SIZE_VAL)"
   ]
  },
  {
   "cell_type": "markdown",
   "metadata": {
    "id": "LQ2eSyUikTrv"
   },
   "source": [
    "### Test"
   ]
  },
  {
   "cell_type": "code",
   "execution_count": null,
   "metadata": {
    "colab": {
     "base_uri": "https://localhost:8080/"
    },
    "execution": {
     "iopub.status.busy": "2021-11-08T19:35:28.479138Z",
     "iopub.status.idle": "2021-11-08T19:35:28.480139Z",
     "shell.execute_reply": "2021-11-08T19:35:28.479138Z",
     "shell.execute_reply.started": "2021-11-08T19:35:28.479138Z"
    },
    "id": "Y4Q3hXKTkSYY",
    "outputId": "162f0956-c00d-437b-bf9d-026458106c24",
    "tags": []
   },
   "outputs": [],
   "source": [
    "test_generator.reset()\n",
    "\n",
    "predict_cnn_gs = best_modelCNN.predict(test_generator)\n",
    "print(predict_cnn_gs.shape)"
   ]
  },
  {
   "cell_type": "code",
   "execution_count": null,
   "metadata": {
    "colab": {
     "base_uri": "https://localhost:8080/"
    },
    "execution": {
     "iopub.status.busy": "2021-11-08T19:35:28.481140Z",
     "iopub.status.idle": "2021-11-08T19:35:28.481140Z",
     "shell.execute_reply": "2021-11-08T19:35:28.481140Z",
     "shell.execute_reply.started": "2021-11-08T19:35:28.481140Z"
    },
    "id": "ieKwOlYFkZqf",
    "outputId": "89f73c58-ae03-4043-8fc0-a9564470a19b",
    "tags": []
   },
   "outputs": [],
   "source": [
    "y_pred_cnn_gs = np.argmax(predict_cnn_gs, axis=-1)\n",
    "print(y_pred_cnn_gs)\n",
    "print(y_pred_cnn_gs.shape)"
   ]
  },
  {
   "cell_type": "code",
   "execution_count": null,
   "metadata": {
    "colab": {
     "base_uri": "https://localhost:8080/"
    },
    "execution": {
     "iopub.status.busy": "2021-11-08T19:35:28.482141Z",
     "iopub.status.idle": "2021-11-08T19:35:28.482141Z",
     "shell.execute_reply": "2021-11-08T19:35:28.482141Z",
     "shell.execute_reply.started": "2021-11-08T19:35:28.482141Z"
    },
    "id": "F-0pUzfokt8V",
    "outputId": "ef316de8-fb3e-4e61-c86b-73e114a27858",
    "tags": []
   },
   "outputs": [],
   "source": [
    "print(classification_report(test_labels, y_pred_cnn_gs))"
   ]
  },
  {
   "cell_type": "code",
   "execution_count": null,
   "metadata": {
    "colab": {
     "base_uri": "https://localhost:8080/"
    },
    "execution": {
     "iopub.status.busy": "2021-11-08T19:35:28.484142Z",
     "iopub.status.idle": "2021-11-08T19:35:28.484142Z",
     "shell.execute_reply": "2021-11-08T19:35:28.484142Z",
     "shell.execute_reply.started": "2021-11-08T19:35:28.484142Z"
    },
    "id": "JymvhNhfk66l",
    "outputId": "f7c902bf-3672-4da9-c5f8-38cde176ed3d",
    "tags": []
   },
   "outputs": [],
   "source": [
    "test_generator.reset()\n",
    "\n",
    "scores = best_modelCNN.evaluate(test_generator)\n",
    "print(\"%s%s: %.2f%%\" % (\"evaluate \", best_modelCNN.metrics_names[1], scores[1]*100))"
   ]
  },
  {
   "cell_type": "markdown",
   "metadata": {
    "id": "eiwMM1NcXqFR"
   },
   "source": [
    "# PSO"
   ]
  },
  {
   "cell_type": "code",
   "execution_count": 83,
   "metadata": {
    "colab": {
     "base_uri": "https://localhost:8080/"
    },
    "execution": {
     "iopub.execute_input": "2021-11-08T20:01:25.460522Z",
     "iopub.status.busy": "2021-11-08T20:01:25.460522Z",
     "iopub.status.idle": "2021-11-08T20:01:27.590479Z",
     "shell.execute_reply": "2021-11-08T20:01:27.590479Z",
     "shell.execute_reply.started": "2021-11-08T20:01:25.460522Z"
    },
    "id": "sxU6EHa3XsZQ",
    "outputId": "41f0ee0b-e12f-46d9-b975-e597a87fa52d",
    "tags": []
   },
   "outputs": [
    {
     "name": "stdout",
     "output_type": "stream",
     "text": [
      "Requirement already satisfied: pyswarms in c:\\programdata\\anaconda3\\envs\\tfgpu\\lib\\site-packages (1.3.0)\n",
      "Requirement already satisfied: tqdm in c:\\programdata\\anaconda3\\envs\\tfgpu\\lib\\site-packages (from pyswarms) (4.62.3)\n",
      "Requirement already satisfied: matplotlib>=1.3.1 in c:\\programdata\\anaconda3\\envs\\tfgpu\\lib\\site-packages (from pyswarms) (3.4.3)\n",
      "Requirement already satisfied: scipy in c:\\programdata\\anaconda3\\envs\\tfgpu\\lib\\site-packages (from pyswarms) (1.7.1)\n",
      "Requirement already satisfied: attrs in c:\\programdata\\anaconda3\\envs\\tfgpu\\lib\\site-packages (from pyswarms) (21.2.0)\n",
      "Requirement already satisfied: pyyaml in c:\\programdata\\anaconda3\\envs\\tfgpu\\lib\\site-packages (from pyswarms) (6.0)\n",
      "Requirement already satisfied: future in c:\\programdata\\anaconda3\\envs\\tfgpu\\lib\\site-packages (from pyswarms) (0.18.2)\n",
      "Requirement already satisfied: numpy in c:\\programdata\\anaconda3\\envs\\tfgpu\\lib\\site-packages (from pyswarms) (1.21.2)\n",
      "Requirement already satisfied: pyparsing>=2.2.1 in c:\\programdata\\anaconda3\\envs\\tfgpu\\lib\\site-packages (from matplotlib>=1.3.1->pyswarms) (3.0.4)\n",
      "Requirement already satisfied: pillow>=6.2.0 in c:\\programdata\\anaconda3\\envs\\tfgpu\\lib\\site-packages (from matplotlib>=1.3.1->pyswarms) (8.4.0)\n",
      "Requirement already satisfied: python-dateutil>=2.7 in c:\\programdata\\anaconda3\\envs\\tfgpu\\lib\\site-packages (from matplotlib>=1.3.1->pyswarms) (2.8.2)\n",
      "Requirement already satisfied: cycler>=0.10 in c:\\programdata\\anaconda3\\envs\\tfgpu\\lib\\site-packages (from matplotlib>=1.3.1->pyswarms) (0.11.0)\n",
      "Requirement already satisfied: kiwisolver>=1.0.1 in c:\\programdata\\anaconda3\\envs\\tfgpu\\lib\\site-packages (from matplotlib>=1.3.1->pyswarms) (1.3.2)\n",
      "Requirement already satisfied: six>=1.5 in c:\\programdata\\anaconda3\\envs\\tfgpu\\lib\\site-packages (from python-dateutil>=2.7->matplotlib>=1.3.1->pyswarms) (1.16.0)\n",
      "Requirement already satisfied: colorama in c:\\programdata\\anaconda3\\envs\\tfgpu\\lib\\site-packages (from tqdm->pyswarms) (0.4.4)\n"
     ]
    }
   ],
   "source": [
    "!pip install pyswarms\n",
    "import pyswarms as ps\n",
    "from pyswarms.single.global_best import GlobalBestPSO"
   ]
  },
  {
   "cell_type": "code",
   "execution_count": 84,
   "metadata": {
    "colab": {
     "base_uri": "https://localhost:8080/"
    },
    "execution": {
     "iopub.execute_input": "2021-11-08T20:01:27.592482Z",
     "iopub.status.busy": "2021-11-08T20:01:27.591482Z",
     "iopub.status.idle": "2021-11-08T20:01:27.607499Z",
     "shell.execute_reply": "2021-11-08T20:01:27.606493Z",
     "shell.execute_reply.started": "2021-11-08T20:01:27.591482Z"
    },
    "id": "bngTuaJ5Mqpt",
    "outputId": "3cb5f9e3-216e-4101-83ed-25f497c5959b",
    "tags": []
   },
   "outputs": [
    {
     "name": "stdout",
     "output_type": "stream",
     "text": [
      "[0 0 0 0 0 0 0 0 0 0 0 0 0 0 0 0 0 0 0 0 0 0 0 0 0 0 0 0 0 0 0 0 0 0 0 0 0\n",
      " 0 0 0 0 0 0 0 0 0 0 0 0 0 0 0 0 0 0 0 0 0 0 0 0 0 0 0]\n"
     ]
    }
   ],
   "source": [
    "y_val_single = np.argmax(y_val, axis = 1)\n",
    "print(y_val_single)"
   ]
  },
  {
   "cell_type": "code",
   "execution_count": 85,
   "metadata": {
    "execution": {
     "iopub.execute_input": "2021-11-08T20:01:27.608496Z",
     "iopub.status.busy": "2021-11-08T20:01:27.608496Z",
     "iopub.status.idle": "2021-11-08T20:01:27.622508Z",
     "shell.execute_reply": "2021-11-08T20:01:27.622508Z",
     "shell.execute_reply.started": "2021-11-08T20:01:27.608496Z"
    },
    "id": "f9TrcCfYPCjr",
    "tags": []
   },
   "outputs": [],
   "source": [
    "options = {'c1': 0.3, 'c2': 0.3, 'w': 0.5}"
   ]
  },
  {
   "cell_type": "markdown",
   "metadata": {
    "id": "gu5BAyj0M0IQ"
   },
   "source": [
    "## MLP"
   ]
  },
  {
   "cell_type": "code",
   "execution_count": 86,
   "metadata": {
    "colab": {
     "base_uri": "https://localhost:8080/"
    },
    "execution": {
     "iopub.execute_input": "2021-11-08T20:01:27.624501Z",
     "iopub.status.busy": "2021-11-08T20:01:27.624501Z",
     "iopub.status.idle": "2021-11-08T20:01:27.638514Z",
     "shell.execute_reply": "2021-11-08T20:01:27.638514Z",
     "shell.execute_reply.started": "2021-11-08T20:01:27.624501Z"
    },
    "id": "3KwXJ-rnaj0B",
    "outputId": "5d627863-31a8-49ee-d522-7f937d6975b0",
    "tags": []
   },
   "outputs": [
    {
     "name": "stdout",
     "output_type": "stream",
     "text": [
      "(array([1, 0, 0, 0, 0, 8, 8, 8, 8]), array([  3. ,   0.5,   0.5,   0.5,   0.5, 128. , 128. , 128. , 128. ]))\n"
     ]
    }
   ],
   "source": [
    "\"\"\"\n",
    "  Hiperparâmetros para MLP\n",
    "  {'epochs': 300, 'has_dropout': [0.2, 0.2, 0.2, 0.2], 'neurons': [32, 64, 128, 256], 'qtd_layers': 2}\n",
    "  \n",
    "  0: valores min/max de quantidade de hidden layers (1 à 3)\n",
    "  1: valores min/max de valor dropout da primeira layer (0 à 0.5)\n",
    "  2: valores min/max de valor dropout da primeira hidden layer (0 à 0.5)\n",
    "  3: valores min/max de valor dropout da segunda hidden layer (0 à 0.5)\n",
    "  4: valores min/max de valor dropout da terceira hidden layer (0 à 0.5)\n",
    "  5: valores min/max de neurônios da primeira layer (8 a 128)\n",
    "  6: valores min/max de neurônios da primeira hidden layer (8 a 128)\n",
    "  7: valores min/max de neurônios da segunda hidden layer (8 a 128)\n",
    "  8: valores min/max de neurônios da terceira hidden layer (8 a 128)\n",
    "\n",
    "\"\"\"\n",
    "\n",
    "min_bound_mlp = np.array([1, 0, 0, 0, 0, 8, 8, 8, 8])\n",
    "max_bound_mlp = np.array([3, 0.5, 0.5, 0.5, 0.5, 128, 128, 128, 128])\n",
    "bounds_mlp = (min_bound_mlp, max_bound_mlp)\n",
    "print(bounds_mlp)"
   ]
  },
  {
   "cell_type": "code",
   "execution_count": 87,
   "metadata": {
    "execution": {
     "iopub.execute_input": "2021-11-08T20:01:27.639515Z",
     "iopub.status.busy": "2021-11-08T20:01:27.639515Z",
     "iopub.status.idle": "2021-11-08T20:01:27.654527Z",
     "shell.execute_reply": "2021-11-08T20:01:27.654527Z",
     "shell.execute_reply.started": "2021-11-08T20:01:27.639515Z"
    },
    "id": "PGw-GJ1RO8PW",
    "tags": []
   },
   "outputs": [],
   "source": [
    "def fitnessMLP(bound_values):\n",
    "\n",
    "    # (has_dropout, qtd_layers, neurons)\n",
    "    model = buildMLP(\n",
    "      [int(bound_values[0, 1]), int(bound_values[0, 2]), int(bound_values[0, 3]), int(bound_values[0, 4])], \n",
    "      int(bound_values[0, 0]),\n",
    "      [int(bound_values[0, 5]), int(bound_values[0, 6]), int(bound_values[0, 7]), int(bound_values[0, 8])])\n",
    "    \n",
    "    model.fit(train_generator, steps_per_epoch=STEP_SIZE_TRAIN, epochs=num_epochs, verbose=1, validation_data=val_generator, validation_steps=STEP_SIZE_VAL)\n",
    "    \n",
    "    val_generator.reset()\n",
    "\n",
    "    predictions = model.predict(val_generator)\n",
    "    y_pred = np.argmax(predictions, axis=-1)\n",
    "    val_labels = val_generator.classes\n",
    "\n",
    "    acc = classification_report(val_labels, y_pred, output_dict=True)['accuracy']\n",
    "\n",
    "    return 1-acc "
   ]
  },
  {
   "cell_type": "code",
   "execution_count": 88,
   "metadata": {
    "colab": {
     "base_uri": "https://localhost:8080/"
    },
    "execution": {
     "iopub.execute_input": "2021-11-08T20:01:27.776639Z",
     "iopub.status.busy": "2021-11-08T20:01:27.775638Z",
     "iopub.status.idle": "2021-11-08T20:19:36.281237Z",
     "shell.execute_reply": "2021-11-08T20:19:36.280236Z",
     "shell.execute_reply.started": "2021-11-08T20:01:27.776639Z"
    },
    "id": "b0eXT47qoJj-",
    "outputId": "1084ef01-b075-48f9-ef62-4076e1e4b140",
    "tags": []
   },
   "outputs": [
    {
     "name": "stderr",
     "output_type": "stream",
     "text": [
      "2021-11-08 17:01:27,783 - pyswarms.single.global_best - INFO - Optimize for 1 iters with {'c1': 0.3, 'c2': 0.3, 'w': 0.5}\n",
      "pyswarms.single.global_best:   0%|                                                                                 |0/1"
     ]
    },
    {
     "name": "stdout",
     "output_type": "stream",
     "text": [
      "Epoch 1/100\n",
      "280/280 [==============================] - 10s 34ms/step - loss: 2.0206 - accuracy: 0.2876 - val_loss: 1.7423 - val_accuracy: 0.3250\n",
      "Epoch 2/100\n",
      "280/280 [==============================] - 8s 30ms/step - loss: 1.6927 - accuracy: 0.3420 - val_loss: 1.7364 - val_accuracy: 0.3182\n",
      "Epoch 3/100\n",
      "280/280 [==============================] - 8s 29ms/step - loss: 1.6639 - accuracy: 0.3523 - val_loss: 1.6776 - val_accuracy: 0.3471\n",
      "Epoch 4/100\n",
      "280/280 [==============================] - 8s 29ms/step - loss: 1.6421 - accuracy: 0.3646 - val_loss: 1.6720 - val_accuracy: 0.3482\n",
      "Epoch 5/100\n",
      "280/280 [==============================] - 8s 30ms/step - loss: 1.6143 - accuracy: 0.3746 - val_loss: 1.6484 - val_accuracy: 0.3664\n",
      "Epoch 6/100\n",
      "280/280 [==============================] - 8s 29ms/step - loss: 1.5981 - accuracy: 0.3817 - val_loss: 1.6995 - val_accuracy: 0.3484\n",
      "Epoch 7/100\n",
      "280/280 [==============================] - 8s 30ms/step - loss: 1.5886 - accuracy: 0.3866 - val_loss: 1.6736 - val_accuracy: 0.3642\n",
      "Epoch 8/100\n",
      "280/280 [==============================] - 8s 29ms/step - loss: 1.5752 - accuracy: 0.3956 - val_loss: 1.6446 - val_accuracy: 0.3550\n",
      "Epoch 9/100\n",
      "280/280 [==============================] - 8s 30ms/step - loss: 1.5649 - accuracy: 0.3973 - val_loss: 1.6548 - val_accuracy: 0.3558\n",
      "Epoch 10/100\n",
      "280/280 [==============================] - 8s 29ms/step - loss: 1.5546 - accuracy: 0.4050 - val_loss: 1.6855 - val_accuracy: 0.3430\n",
      "Epoch 11/100\n",
      "280/280 [==============================] - 8s 30ms/step - loss: 1.5473 - accuracy: 0.4042 - val_loss: 1.6798 - val_accuracy: 0.3492\n",
      "Epoch 12/100\n",
      "280/280 [==============================] - 8s 29ms/step - loss: 1.5334 - accuracy: 0.4111 - val_loss: 1.6766 - val_accuracy: 0.3550\n",
      "Epoch 13/100\n",
      "280/280 [==============================] - 8s 30ms/step - loss: 1.5263 - accuracy: 0.4172 - val_loss: 1.7129 - val_accuracy: 0.3585\n",
      "Epoch 14/100\n",
      "280/280 [==============================] - 8s 29ms/step - loss: 1.5152 - accuracy: 0.4213 - val_loss: 1.6345 - val_accuracy: 0.3719\n",
      "Epoch 15/100\n",
      "280/280 [==============================] - 8s 28ms/step - loss: 1.4996 - accuracy: 0.4327 - val_loss: 1.6733 - val_accuracy: 0.3577\n",
      "Epoch 16/100\n",
      "280/280 [==============================] - 8s 30ms/step - loss: 1.4874 - accuracy: 0.4364 - val_loss: 1.6712 - val_accuracy: 0.3588\n",
      "Epoch 17/100\n",
      "280/280 [==============================] - 8s 29ms/step - loss: 1.4810 - accuracy: 0.4383 - val_loss: 1.6811 - val_accuracy: 0.3648\n",
      "Epoch 18/100\n",
      "280/280 [==============================] - 8s 29ms/step - loss: 1.4629 - accuracy: 0.4476 - val_loss: 1.7163 - val_accuracy: 0.3693\n",
      "Epoch 19/100\n",
      "280/280 [==============================] - 8s 30ms/step - loss: 1.4688 - accuracy: 0.4425 - val_loss: 1.6741 - val_accuracy: 0.3654\n",
      "Epoch 20/100\n",
      "280/280 [==============================] - 9s 30ms/step - loss: 1.4428 - accuracy: 0.4525 - val_loss: 1.7152 - val_accuracy: 0.3616\n",
      "Epoch 21/100\n",
      "280/280 [==============================] - 8s 30ms/step - loss: 1.4308 - accuracy: 0.4587 - val_loss: 1.7360 - val_accuracy: 0.3645\n",
      "Epoch 22/100\n",
      "280/280 [==============================] - 8s 30ms/step - loss: 1.4224 - accuracy: 0.4644 - val_loss: 1.7072 - val_accuracy: 0.3604\n",
      "Epoch 23/100\n",
      "280/280 [==============================] - 8s 30ms/step - loss: 1.4104 - accuracy: 0.4650 - val_loss: 1.7039 - val_accuracy: 0.3696\n",
      "Epoch 24/100\n",
      "280/280 [==============================] - 8s 28ms/step - loss: 1.3946 - accuracy: 0.4761 - val_loss: 1.7107 - val_accuracy: 0.3588\n",
      "Epoch 25/100\n",
      "280/280 [==============================] - 8s 30ms/step - loss: 1.4012 - accuracy: 0.4757 - val_loss: 1.6848 - val_accuracy: 0.3708\n",
      "Epoch 26/100\n",
      "280/280 [==============================] - 8s 29ms/step - loss: 1.3713 - accuracy: 0.4869 - val_loss: 1.7099 - val_accuracy: 0.3677\n",
      "Epoch 27/100\n",
      "280/280 [==============================] - 8s 29ms/step - loss: 1.3633 - accuracy: 0.4861 - val_loss: 1.7188 - val_accuracy: 0.3646\n",
      "Epoch 28/100\n",
      "280/280 [==============================] - 8s 29ms/step - loss: 1.3509 - accuracy: 0.4919 - val_loss: 1.7440 - val_accuracy: 0.3652\n",
      "Epoch 29/100\n",
      "280/280 [==============================] - 8s 29ms/step - loss: 1.3501 - accuracy: 0.4940 - val_loss: 1.7416 - val_accuracy: 0.3692\n",
      "Epoch 30/100\n",
      "280/280 [==============================] - 8s 29ms/step - loss: 1.3358 - accuracy: 0.4991 - val_loss: 1.7280 - val_accuracy: 0.3660\n",
      "Epoch 31/100\n",
      "280/280 [==============================] - 8s 29ms/step - loss: 1.3303 - accuracy: 0.5029 - val_loss: 1.7359 - val_accuracy: 0.3685\n",
      "Epoch 32/100\n",
      "280/280 [==============================] - 8s 29ms/step - loss: 1.3138 - accuracy: 0.5133 - val_loss: 1.7288 - val_accuracy: 0.3734\n",
      "Epoch 33/100\n",
      "280/280 [==============================] - 8s 29ms/step - loss: 1.3041 - accuracy: 0.5156 - val_loss: 1.7680 - val_accuracy: 0.3706\n",
      "Epoch 34/100\n",
      "280/280 [==============================] - 8s 29ms/step - loss: 1.2909 - accuracy: 0.5214 - val_loss: 1.8441 - val_accuracy: 0.3468\n",
      "Epoch 35/100\n",
      "280/280 [==============================] - 8s 29ms/step - loss: 1.2821 - accuracy: 0.5208 - val_loss: 1.7774 - val_accuracy: 0.3562\n",
      "Epoch 36/100\n",
      "280/280 [==============================] - 8s 29ms/step - loss: 1.2722 - accuracy: 0.5224 - val_loss: 1.7696 - val_accuracy: 0.3656\n",
      "Epoch 37/100\n",
      "280/280 [==============================] - 8s 29ms/step - loss: 1.2588 - accuracy: 0.5357 - val_loss: 1.8012 - val_accuracy: 0.3544s - loss: 1.2541 \n",
      "Epoch 38/100\n",
      "280/280 [==============================] - 8s 29ms/step - loss: 1.2506 - accuracy: 0.5381 - val_loss: 1.8577 - val_accuracy: 0.3536\n",
      "Epoch 39/100\n",
      "280/280 [==============================] - 8s 29ms/step - loss: 1.2376 - accuracy: 0.5408 - val_loss: 1.8471 - val_accuracy: 0.3566\n",
      "Epoch 40/100\n",
      "280/280 [==============================] - 8s 29ms/step - loss: 1.2408 - accuracy: 0.5408 - val_loss: 1.8122 - val_accuracy: 0.3603\n",
      "Epoch 41/100\n",
      "280/280 [==============================] - 8s 29ms/step - loss: 1.2272 - accuracy: 0.5434 - val_loss: 1.8507 - val_accuracy: 0.3506\n",
      "Epoch 42/100\n",
      "280/280 [==============================] - 8s 29ms/step - loss: 1.2192 - accuracy: 0.5460 - val_loss: 1.8729 - val_accuracy: 0.3526\n",
      "Epoch 43/100\n",
      "280/280 [==============================] - 8s 29ms/step - loss: 1.2002 - accuracy: 0.5570 - val_loss: 1.8342 - val_accuracy: 0.3533\n",
      "Epoch 44/100\n",
      "280/280 [==============================] - 8s 29ms/step - loss: 1.2084 - accuracy: 0.5528 - val_loss: 1.8732 - val_accuracy: 0.3599\n",
      "Epoch 45/100\n",
      "280/280 [==============================] - 8s 29ms/step - loss: 1.1936 - accuracy: 0.5571 - val_loss: 1.9090 - val_accuracy: 0.3567\n",
      "Epoch 46/100\n",
      "280/280 [==============================] - 8s 29ms/step - loss: 1.1694 - accuracy: 0.5691 - val_loss: 1.9143 - val_accuracy: 0.3561\n",
      "Epoch 47/100\n",
      "280/280 [==============================] - 8s 29ms/step - loss: 1.1655 - accuracy: 0.5669 - val_loss: 1.8734 - val_accuracy: 0.3632\n",
      "Epoch 48/100\n",
      "280/280 [==============================] - 8s 29ms/step - loss: 1.1516 - accuracy: 0.5740 - val_loss: 1.8888 - val_accuracy: 0.3581\n",
      "Epoch 49/100\n",
      "280/280 [==============================] - 8s 28ms/step - loss: 1.1480 - accuracy: 0.5754 - val_loss: 1.9571 - val_accuracy: 0.3412\n",
      "Epoch 50/100\n",
      "280/280 [==============================] - 8s 29ms/step - loss: 1.1485 - accuracy: 0.5704 - val_loss: 1.9425 - val_accuracy: 0.3503\n",
      "Epoch 51/100\n",
      "280/280 [==============================] - 8s 29ms/step - loss: 1.1396 - accuracy: 0.5791 - val_loss: 1.9480 - val_accuracy: 0.3540\n",
      "Epoch 52/100\n",
      "280/280 [==============================] - 8s 29ms/step - loss: 1.1203 - accuracy: 0.5853 - val_loss: 1.9548 - val_accuracy: 0.3592\n",
      "Epoch 53/100\n",
      "280/280 [==============================] - 8s 29ms/step - loss: 1.1379 - accuracy: 0.5786 - val_loss: 1.9372 - val_accuracy: 0.3566\n",
      "Epoch 54/100\n",
      "280/280 [==============================] - 8s 29ms/step - loss: 1.1016 - accuracy: 0.5930 - val_loss: 1.9634 - val_accuracy: 0.3538\n",
      "Epoch 55/100\n",
      "280/280 [==============================] - 8s 29ms/step - loss: 1.0992 - accuracy: 0.5934 - val_loss: 2.0207 - val_accuracy: 0.3502\n",
      "Epoch 56/100\n",
      "280/280 [==============================] - 8s 28ms/step - loss: 1.0873 - accuracy: 0.5970 - val_loss: 1.9892 - val_accuracy: 0.3558\n",
      "Epoch 57/100\n",
      "280/280 [==============================] - 8s 29ms/step - loss: 1.0894 - accuracy: 0.5984 - val_loss: 2.0484 - val_accuracy: 0.3492\n",
      "Epoch 58/100\n",
      "280/280 [==============================] - 8s 28ms/step - loss: 1.0730 - accuracy: 0.6058 - val_loss: 2.2261 - val_accuracy: 0.3208\n",
      "Epoch 59/100\n",
      "280/280 [==============================] - 8s 29ms/step - loss: 1.0741 - accuracy: 0.6049 - val_loss: 1.9977 - val_accuracy: 0.3557\n",
      "Epoch 60/100\n",
      "280/280 [==============================] - 8s 28ms/step - loss: 1.0675 - accuracy: 0.6059 - val_loss: 2.0230 - val_accuracy: 0.3565\n",
      "Epoch 61/100\n",
      "280/280 [==============================] - 8s 28ms/step - loss: 1.0528 - accuracy: 0.6134 - val_loss: 2.1148 - val_accuracy: 0.3501\n",
      "Epoch 62/100\n",
      "280/280 [==============================] - 8s 29ms/step - loss: 1.0505 - accuracy: 0.6148 - val_loss: 2.0633 - val_accuracy: 0.3536\n",
      "Epoch 63/100\n",
      "280/280 [==============================] - 8s 29ms/step - loss: 1.0430 - accuracy: 0.6148 - val_loss: 2.0294 - val_accuracy: 0.3511\n",
      "Epoch 64/100\n",
      "280/280 [==============================] - 8s 29ms/step - loss: 1.0347 - accuracy: 0.6186 - val_loss: 2.1102 - val_accuracy: 0.3369\n",
      "Epoch 65/100\n",
      "280/280 [==============================] - 8s 29ms/step - loss: 1.0230 - accuracy: 0.6247 - val_loss: 2.0672 - val_accuracy: 0.3517\n",
      "Epoch 66/100\n",
      "280/280 [==============================] - 8s 29ms/step - loss: 1.0222 - accuracy: 0.6245 - val_loss: 2.0971 - val_accuracy: 0.3542\n",
      "Epoch 67/100\n",
      "280/280 [==============================] - 8s 29ms/step - loss: 1.0044 - accuracy: 0.6327 - val_loss: 2.1436 - val_accuracy: 0.3459\n",
      "Epoch 68/100\n",
      "280/280 [==============================] - 8s 28ms/step - loss: 1.0115 - accuracy: 0.6258 - val_loss: 2.1584 - val_accuracy: 0.3479\n",
      "Epoch 69/100\n",
      "280/280 [==============================] - 8s 28ms/step - loss: 1.0032 - accuracy: 0.6328 - val_loss: 2.1104 - val_accuracy: 0.3481\n",
      "Epoch 70/100\n",
      "280/280 [==============================] - 8s 28ms/step - loss: 0.9964 - accuracy: 0.6352 - val_loss: 2.1889 - val_accuracy: 0.3456\n",
      "Epoch 71/100\n",
      "280/280 [==============================] - 8s 30ms/step - loss: 0.9725 - accuracy: 0.6406 - val_loss: 2.1626 - val_accuracy: 0.3549\n",
      "Epoch 72/100\n",
      "280/280 [==============================] - 8s 29ms/step - loss: 0.9859 - accuracy: 0.6401 - val_loss: 2.1568 - val_accuracy: 0.3403\n",
      "Epoch 73/100\n",
      "280/280 [==============================] - 8s 29ms/step - loss: 0.9698 - accuracy: 0.6495 - val_loss: 2.2044 - val_accuracy: 0.3561\n",
      "Epoch 74/100\n",
      "280/280 [==============================] - 8s 29ms/step - loss: 0.9604 - accuracy: 0.6494 - val_loss: 2.1886 - val_accuracy: 0.3529\n",
      "Epoch 75/100\n",
      "280/280 [==============================] - 9s 31ms/step - loss: 0.9728 - accuracy: 0.6423 - val_loss: 2.2809 - val_accuracy: 0.3427\n",
      "Epoch 76/100\n",
      "280/280 [==============================] - 8s 29ms/step - loss: 0.9653 - accuracy: 0.6464 - val_loss: 2.1906 - val_accuracy: 0.3551\n",
      "Epoch 77/100\n",
      "280/280 [==============================] - 8s 29ms/step - loss: 0.9605 - accuracy: 0.6464 - val_loss: 2.2835 - val_accuracy: 0.3344\n",
      "Epoch 78/100\n",
      "280/280 [==============================] - 9s 32ms/step - loss: 0.9426 - accuracy: 0.6556 - val_loss: 2.3770 - val_accuracy: 0.3348\n",
      "Epoch 79/100\n",
      "280/280 [==============================] - 9s 31ms/step - loss: 0.9313 - accuracy: 0.6590 - val_loss: 2.3041 - val_accuracy: 0.3452\n",
      "Epoch 80/100\n",
      "280/280 [==============================] - 9s 31ms/step - loss: 0.9329 - accuracy: 0.6559 - val_loss: 2.3056 - val_accuracy: 0.3338\n",
      "Epoch 81/100\n",
      "280/280 [==============================] - 192s 686ms/step - loss: 0.9260 - accuracy: 0.6623 - val_loss: 2.2806 - val_accuracy: 0.3574\n",
      "Epoch 82/100\n",
      "280/280 [==============================] - 88s 316ms/step - loss: 0.9155 - accuracy: 0.6611 - val_loss: 2.2787 - val_accuracy: 0.3566\n",
      "Epoch 83/100\n",
      "280/280 [==============================] - 9s 31ms/step - loss: 0.9151 - accuracy: 0.6617 - val_loss: 2.3889 - val_accuracy: 0.3506\n",
      "Epoch 84/100\n",
      "280/280 [==============================] - 9s 31ms/step - loss: 0.9139 - accuracy: 0.6656 - val_loss: 2.3345 - val_accuracy: 0.3267\n",
      "Epoch 85/100\n",
      "280/280 [==============================] - 8s 30ms/step - loss: 0.9062 - accuracy: 0.6693 - val_loss: 2.4362 - val_accuracy: 0.3187\n",
      "Epoch 86/100\n",
      "280/280 [==============================] - 8s 30ms/step - loss: 0.9037 - accuracy: 0.6694 - val_loss: 2.4251 - val_accuracy: 0.3530\n",
      "Epoch 87/100\n",
      "280/280 [==============================] - 8s 30ms/step - loss: 0.8896 - accuracy: 0.6724 - val_loss: 2.4274 - val_accuracy: 0.3393\n",
      "Epoch 88/100\n",
      "280/280 [==============================] - 8s 30ms/step - loss: 0.8813 - accuracy: 0.6793 - val_loss: 2.3387 - val_accuracy: 0.3431\n",
      "Epoch 89/100\n",
      "280/280 [==============================] - 8s 30ms/step - loss: 0.8837 - accuracy: 0.6737 - val_loss: 2.3728 - val_accuracy: 0.3369\n",
      "Epoch 90/100\n",
      "280/280 [==============================] - 8s 29ms/step - loss: 0.8731 - accuracy: 0.6813 - val_loss: 2.5194 - val_accuracy: 0.3439\n",
      "Epoch 91/100\n",
      "280/280 [==============================] - 8s 29ms/step - loss: 0.8787 - accuracy: 0.6801 - val_loss: 2.4409 - val_accuracy: 0.3420\n",
      "Epoch 92/100\n",
      "280/280 [==============================] - 8s 29ms/step - loss: 0.8680 - accuracy: 0.6827 - val_loss: 2.4129 - val_accuracy: 0.3336\n",
      "Epoch 93/100\n",
      "280/280 [==============================] - 8s 29ms/step - loss: 0.8483 - accuracy: 0.6893 - val_loss: 2.4405 - val_accuracy: 0.3493\n",
      "Epoch 94/100\n",
      "280/280 [==============================] - 8s 29ms/step - loss: 0.8657 - accuracy: 0.6846 - val_loss: 2.4290 - val_accuracy: 0.3535\n",
      "Epoch 95/100\n",
      "280/280 [==============================] - 8s 29ms/step - loss: 0.8525 - accuracy: 0.6860 - val_loss: 2.4168 - val_accuracy: 0.3415\n",
      "Epoch 96/100\n",
      "280/280 [==============================] - 8s 29ms/step - loss: 0.8275 - accuracy: 0.6993 - val_loss: 2.5303 - val_accuracy: 0.3451\n",
      "Epoch 97/100\n",
      "280/280 [==============================] - 8s 29ms/step - loss: 0.8287 - accuracy: 0.6999 - val_loss: 2.6013 - val_accuracy: 0.3472\n",
      "Epoch 98/100\n",
      "280/280 [==============================] - 8s 30ms/step - loss: 0.8275 - accuracy: 0.7006 - val_loss: 2.5133 - val_accuracy: 0.3376\n",
      "Epoch 99/100\n",
      "280/280 [==============================] - 8s 29ms/step - loss: 0.8334 - accuracy: 0.6940 - val_loss: 2.5561 - val_accuracy: 0.3173\n",
      "Epoch 100/100\n",
      "280/280 [==============================] - 8s 29ms/step - loss: 0.8319 - accuracy: 0.6961 - val_loss: 2.6241 - val_accuracy: 0.3267\n"
     ]
    },
    {
     "name": "stderr",
     "output_type": "stream",
     "text": [
      "pyswarms.single.global_best: 100%|████████████████████████████████████████████████████████████████|1/1, best_cost=0.673\n",
      "2021-11-08 17:19:36,266 - pyswarms.single.global_best - INFO - Optimization finished | best cost: 0.6733192106143383, best pos: [1.76302883e+00 4.53828629e-01 5.65761589e-04 4.38248449e-01\n",
      " 2.22173670e-01 1.20890829e+02 2.85707346e+01 6.67652687e+01\n",
      " 7.39086296e+01]\n"
     ]
    }
   ],
   "source": [
    "optimizerMLP = GlobalBestPSO(n_particles=10, dimensions=len(min_bound_mlp), options=options, bounds=bounds_mlp)\n",
    "\n",
    "final_best_cost_mlp, final_best_pos_mlp = optimizerMLP.optimize(fitnessMLP, iters=1)"
   ]
  },
  {
   "cell_type": "code",
   "execution_count": 89,
   "metadata": {
    "colab": {
     "base_uri": "https://localhost:8080/"
    },
    "execution": {
     "iopub.execute_input": "2021-11-08T20:19:36.283239Z",
     "iopub.status.busy": "2021-11-08T20:19:36.282238Z",
     "iopub.status.idle": "2021-11-08T20:19:36.297061Z",
     "shell.execute_reply": "2021-11-08T20:19:36.296060Z",
     "shell.execute_reply.started": "2021-11-08T20:19:36.283239Z"
    },
    "id": "HgWjs0IPoW0i",
    "outputId": "d160eec8-464c-4c4d-c084-ea5f887334de",
    "tags": []
   },
   "outputs": [
    {
     "name": "stdout",
     "output_type": "stream",
     "text": [
      "[1.76302883e+00 4.53828629e-01 5.65761589e-04 4.38248449e-01\n",
      " 2.22173670e-01 1.20890829e+02 2.85707346e+01 6.67652687e+01\n",
      " 7.39086296e+01]\n"
     ]
    }
   ],
   "source": [
    "print(final_best_pos_mlp)"
   ]
  },
  {
   "cell_type": "markdown",
   "metadata": {
    "id": "TK-WWfSAoiQL"
   },
   "source": [
    "### Structure"
   ]
  },
  {
   "cell_type": "code",
   "execution_count": 90,
   "metadata": {
    "execution": {
     "iopub.execute_input": "2021-11-08T20:19:36.298063Z",
     "iopub.status.busy": "2021-11-08T20:19:36.298063Z",
     "iopub.status.idle": "2021-11-08T20:19:36.357243Z",
     "shell.execute_reply": "2021-11-08T20:19:36.357243Z",
     "shell.execute_reply.started": "2021-11-08T20:19:36.298063Z"
    },
    "id": "WCg2FFXdonar",
    "tags": []
   },
   "outputs": [],
   "source": [
    "best_modelMLP_PSO = buildMLP(\n",
    "        [int(final_best_pos_mlp[2]), int(final_best_pos_mlp[3]), int(final_best_pos_mlp[4]), int(final_best_pos_mlp[5]), int(final_best_pos_mlp[6])], \n",
    "        int(final_best_pos_mlp[1]), \n",
    "        [int(final_best_pos_mlp[5]), int(final_best_pos_mlp[6]), int(final_best_pos_mlp[7]), int(final_best_pos_mlp[8])])"
   ]
  },
  {
   "cell_type": "code",
   "execution_count": 91,
   "metadata": {
    "colab": {
     "base_uri": "https://localhost:8080/"
    },
    "execution": {
     "iopub.execute_input": "2021-11-08T20:19:36.359245Z",
     "iopub.status.busy": "2021-11-08T20:19:36.359245Z",
     "iopub.status.idle": "2021-11-08T20:19:36.373257Z",
     "shell.execute_reply": "2021-11-08T20:19:36.373257Z",
     "shell.execute_reply.started": "2021-11-08T20:19:36.359245Z"
    },
    "id": "_pQot8QXos44",
    "outputId": "fd6de1b9-b8c5-4a19-e11f-95b77c4cdbf5",
    "tags": []
   },
   "outputs": [
    {
     "name": "stdout",
     "output_type": "stream",
     "text": [
      "Model: \"sequential_7\"\n",
      "_________________________________________________________________\n",
      "Layer (type)                 Output Shape              Param #   \n",
      "=================================================================\n",
      "dense_15 (Dense)             (None, 48, 48, 120)       240       \n",
      "_________________________________________________________________\n",
      "activation_13 (Activation)   (None, 48, 48, 120)       0         \n",
      "_________________________________________________________________\n",
      "flatten_7 (Flatten)          (None, 276480)            0         \n",
      "_________________________________________________________________\n",
      "dense_16 (Dense)             (None, 7)                 1935367   \n",
      "_________________________________________________________________\n",
      "activation_14 (Activation)   (None, 7)                 0         \n",
      "=================================================================\n",
      "Total params: 1,935,607\n",
      "Trainable params: 1,935,607\n",
      "Non-trainable params: 0\n",
      "_________________________________________________________________\n"
     ]
    }
   ],
   "source": [
    "best_modelMLP_PSO.summary()"
   ]
  },
  {
   "cell_type": "code",
   "execution_count": 92,
   "metadata": {
    "colab": {
     "base_uri": "https://localhost:8080/",
     "height": 644
    },
    "execution": {
     "iopub.execute_input": "2021-11-08T20:19:36.374258Z",
     "iopub.status.busy": "2021-11-08T20:19:36.374258Z",
     "iopub.status.idle": "2021-11-08T20:19:36.405250Z",
     "shell.execute_reply": "2021-11-08T20:19:36.405250Z",
     "shell.execute_reply.started": "2021-11-08T20:19:36.374258Z"
    },
    "id": "1FoJav-4owd8",
    "outputId": "542c43df-ead8-4ca8-96de-23b71148895c",
    "tags": []
   },
   "outputs": [
    {
     "name": "stdout",
     "output_type": "stream",
     "text": [
      "('You must install pydot (`pip install pydot`) and install graphviz (see instructions at https://graphviz.gitlab.io/download/) ', 'for plot_model/model_to_dot to work.')\n"
     ]
    }
   ],
   "source": [
    "tf.keras.utils.plot_model(\n",
    "    best_modelMLP_PSO,\n",
    "    show_shapes=True,\n",
    "    show_layer_names=True,\n",
    ")"
   ]
  },
  {
   "cell_type": "markdown",
   "metadata": {
    "id": "uahtNOA5okRd"
   },
   "source": [
    "### Train"
   ]
  },
  {
   "cell_type": "code",
   "execution_count": 93,
   "metadata": {
    "colab": {
     "base_uri": "https://localhost:8080/"
    },
    "execution": {
     "iopub.execute_input": "2021-11-08T20:19:36.406251Z",
     "iopub.status.busy": "2021-11-08T20:19:36.406251Z",
     "iopub.status.idle": "2021-11-08T20:38:05.294692Z",
     "shell.execute_reply": "2021-11-08T20:38:05.293691Z",
     "shell.execute_reply.started": "2021-11-08T20:19:36.406251Z"
    },
    "id": "1iXwLy_do2Ri",
    "outputId": "d1285c8a-85bd-4013-ba27-c7041d90ff1a",
    "tags": []
   },
   "outputs": [
    {
     "name": "stdout",
     "output_type": "stream",
     "text": [
      "Epoch 1/100\n",
      "280/280 [==============================] - 9s 30ms/step - loss: 1.8777 - accuracy: 0.2870 - val_loss: 1.7097 - val_accuracy: 0.3296\n",
      "Epoch 2/100\n",
      "280/280 [==============================] - 103s 367ms/step - loss: 1.6833 - accuracy: 0.3449 - val_loss: 1.6683 - val_accuracy: 0.3433\n",
      "Epoch 3/100\n",
      "280/280 [==============================] - 24s 85ms/step - loss: 1.6599 - accuracy: 0.3524 - val_loss: 1.6418 - val_accuracy: 0.3584\n",
      "Epoch 4/100\n",
      "280/280 [==============================] - 9s 31ms/step - loss: 1.6288 - accuracy: 0.3712 - val_loss: 1.6527 - val_accuracy: 0.3617\n",
      "Epoch 5/100\n",
      "280/280 [==============================] - 8s 29ms/step - loss: 1.6191 - accuracy: 0.3765 - val_loss: 1.6305 - val_accuracy: 0.3606\n",
      "Epoch 6/100\n",
      "280/280 [==============================] - 8s 29ms/step - loss: 1.5999 - accuracy: 0.3839 - val_loss: 1.6284 - val_accuracy: 0.3629\n",
      "Epoch 7/100\n",
      "280/280 [==============================] - 8s 29ms/step - loss: 1.5841 - accuracy: 0.3917 - val_loss: 1.6739 - val_accuracy: 0.3532\n",
      "Epoch 8/100\n",
      "280/280 [==============================] - 8s 29ms/step - loss: 1.5699 - accuracy: 0.3984 - val_loss: 1.6390 - val_accuracy: 0.3683\n",
      "Epoch 9/100\n",
      "280/280 [==============================] - 8s 29ms/step - loss: 1.5651 - accuracy: 0.3977 - val_loss: 1.6242 - val_accuracy: 0.3705\n",
      "Epoch 10/100\n",
      "280/280 [==============================] - 8s 29ms/step - loss: 1.5462 - accuracy: 0.4046 - val_loss: 1.6386 - val_accuracy: 0.3676\n",
      "Epoch 11/100\n",
      "280/280 [==============================] - 8s 29ms/step - loss: 1.5354 - accuracy: 0.4121 - val_loss: 1.6741 - val_accuracy: 0.3654\n",
      "Epoch 12/100\n",
      "280/280 [==============================] - 8s 29ms/step - loss: 1.5295 - accuracy: 0.4127 - val_loss: 1.6369 - val_accuracy: 0.3696\n",
      "Epoch 13/100\n",
      "280/280 [==============================] - 8s 29ms/step - loss: 1.5097 - accuracy: 0.4249 - val_loss: 1.6357 - val_accuracy: 0.3785\n",
      "Epoch 14/100\n",
      "280/280 [==============================] - 9s 30ms/step - loss: 1.5052 - accuracy: 0.4278 - val_loss: 1.6635 - val_accuracy: 0.3577\n",
      "Epoch 15/100\n",
      "280/280 [==============================] - 9s 30ms/step - loss: 1.4936 - accuracy: 0.4322 - val_loss: 1.6456 - val_accuracy: 0.3725\n",
      "Epoch 16/100\n",
      "280/280 [==============================] - 8s 30ms/step - loss: 1.4818 - accuracy: 0.4370 - val_loss: 1.6346 - val_accuracy: 0.3785\n",
      "Epoch 17/100\n",
      "280/280 [==============================] - 8s 30ms/step - loss: 1.4684 - accuracy: 0.4450 - val_loss: 1.6664 - val_accuracy: 0.3586\n",
      "Epoch 18/100\n",
      "280/280 [==============================] - 8s 30ms/step - loss: 1.4586 - accuracy: 0.4476 - val_loss: 1.6670 - val_accuracy: 0.3683\n",
      "Epoch 19/100\n",
      "280/280 [==============================] - 8s 30ms/step - loss: 1.4438 - accuracy: 0.4555 - val_loss: 1.6633 - val_accuracy: 0.3720\n",
      "Epoch 20/100\n",
      "280/280 [==============================] - 8s 30ms/step - loss: 1.4277 - accuracy: 0.4637 - val_loss: 1.6698 - val_accuracy: 0.3730\n",
      "Epoch 21/100\n",
      "280/280 [==============================] - 8s 30ms/step - loss: 1.4221 - accuracy: 0.4646 - val_loss: 1.6987 - val_accuracy: 0.3695\n",
      "Epoch 22/100\n",
      "280/280 [==============================] - 9s 31ms/step - loss: 1.4100 - accuracy: 0.4674 - val_loss: 1.6911 - val_accuracy: 0.3728\n",
      "Epoch 23/100\n",
      "280/280 [==============================] - 8s 30ms/step - loss: 1.4006 - accuracy: 0.4735 - val_loss: 1.7002 - val_accuracy: 0.3718\n",
      "Epoch 24/100\n",
      "280/280 [==============================] - 9s 30ms/step - loss: 1.3903 - accuracy: 0.4773 - val_loss: 1.7007 - val_accuracy: 0.3742\n",
      "Epoch 25/100\n",
      "280/280 [==============================] - 9s 32ms/step - loss: 1.3897 - accuracy: 0.4801 - val_loss: 1.6895 - val_accuracy: 0.3725\n",
      "Epoch 26/100\n",
      "280/280 [==============================] - 9s 32ms/step - loss: 1.3647 - accuracy: 0.4893 - val_loss: 1.6883 - val_accuracy: 0.3768\n",
      "Epoch 27/100\n",
      "280/280 [==============================] - 9s 33ms/step - loss: 1.3512 - accuracy: 0.4958 - val_loss: 1.7633 - val_accuracy: 0.3520\n",
      "Epoch 28/100\n",
      "280/280 [==============================] - 9s 33ms/step - loss: 1.3403 - accuracy: 0.5005 - val_loss: 1.7790 - val_accuracy: 0.3510\n",
      "Epoch 29/100\n",
      "280/280 [==============================] - 9s 31ms/step - loss: 1.3283 - accuracy: 0.5022 - val_loss: 1.7188 - val_accuracy: 0.3679\n",
      "Epoch 30/100\n",
      "280/280 [==============================] - 9s 31ms/step - loss: 1.3136 - accuracy: 0.5105 - val_loss: 1.7415 - val_accuracy: 0.3685\n",
      "Epoch 31/100\n",
      "280/280 [==============================] - 9s 31ms/step - loss: 1.3104 - accuracy: 0.5159 - val_loss: 1.7840 - val_accuracy: 0.3692\n",
      "Epoch 32/100\n",
      "280/280 [==============================] - 8s 30ms/step - loss: 1.2904 - accuracy: 0.5187 - val_loss: 1.8612 - val_accuracy: 0.3479\n",
      "Epoch 33/100\n",
      "280/280 [==============================] - 8s 30ms/step - loss: 1.3013 - accuracy: 0.5196 - val_loss: 1.8038 - val_accuracy: 0.3573\n",
      "Epoch 34/100\n",
      "280/280 [==============================] - 8s 30ms/step - loss: 1.2827 - accuracy: 0.5256 - val_loss: 1.7477 - val_accuracy: 0.3672\n",
      "Epoch 35/100\n",
      "280/280 [==============================] - 8s 30ms/step - loss: 1.2601 - accuracy: 0.5314 - val_loss: 1.8151 - val_accuracy: 0.3631\n",
      "Epoch 36/100\n",
      "280/280 [==============================] - 8s 30ms/step - loss: 1.2624 - accuracy: 0.5326 - val_loss: 1.8708 - val_accuracy: 0.3518\n",
      "Epoch 37/100\n",
      "280/280 [==============================] - 9s 30ms/step - loss: 1.2377 - accuracy: 0.5415 - val_loss: 1.8751 - val_accuracy: 0.3513\n",
      "Epoch 38/100\n",
      "280/280 [==============================] - 9s 31ms/step - loss: 1.2386 - accuracy: 0.5404 - val_loss: 1.8408 - val_accuracy: 0.3577\n",
      "Epoch 39/100\n",
      "280/280 [==============================] - 9s 30ms/step - loss: 1.2235 - accuracy: 0.5482 - val_loss: 1.8405 - val_accuracy: 0.3542\n",
      "Epoch 40/100\n",
      "280/280 [==============================] - 8s 30ms/step - loss: 1.2109 - accuracy: 0.5505 - val_loss: 1.8692 - val_accuracy: 0.3417\n",
      "Epoch 41/100\n",
      "280/280 [==============================] - 9s 31ms/step - loss: 1.2106 - accuracy: 0.5491 - val_loss: 1.9386 - val_accuracy: 0.3469\n",
      "Epoch 42/100\n",
      "280/280 [==============================] - 9s 33ms/step - loss: 1.1979 - accuracy: 0.5567 - val_loss: 1.8699 - val_accuracy: 0.3681\n",
      "Epoch 43/100\n",
      "280/280 [==============================] - 10s 36ms/step - loss: 1.1855 - accuracy: 0.5573 - val_loss: 1.9366 - val_accuracy: 0.3557\n",
      "Epoch 44/100\n",
      "280/280 [==============================] - 9s 31ms/step - loss: 1.1847 - accuracy: 0.5627 - val_loss: 1.8551 - val_accuracy: 0.3535\n",
      "Epoch 45/100\n",
      "280/280 [==============================] - 9s 33ms/step - loss: 1.1717 - accuracy: 0.5696 - val_loss: 1.8796 - val_accuracy: 0.3604\n",
      "Epoch 46/100\n",
      "280/280 [==============================] - 9s 32ms/step - loss: 1.1587 - accuracy: 0.5720 - val_loss: 1.9840 - val_accuracy: 0.3580\n",
      "Epoch 47/100\n",
      "280/280 [==============================] - 9s 32ms/step - loss: 1.1671 - accuracy: 0.5670 - val_loss: 1.9224 - val_accuracy: 0.3604\n",
      "Epoch 48/100\n",
      "280/280 [==============================] - 9s 34ms/step - loss: 1.1429 - accuracy: 0.5783 - val_loss: 1.9185 - val_accuracy: 0.3531\n",
      "Epoch 49/100\n",
      "280/280 [==============================] - 10s 35ms/step - loss: 1.1365 - accuracy: 0.5821 - val_loss: 1.9171 - val_accuracy: 0.3499\n",
      "Epoch 50/100\n",
      "280/280 [==============================] - 10s 34ms/step - loss: 1.1265 - accuracy: 0.5842 - val_loss: 1.9094 - val_accuracy: 0.3508\n",
      "Epoch 51/100\n",
      "280/280 [==============================] - 57s 205ms/step - loss: 1.1202 - accuracy: 0.5830 - val_loss: 1.9769 - val_accuracy: 0.3547\n",
      "Epoch 52/100\n",
      "280/280 [==============================] - 97s 346ms/step - loss: 1.1146 - accuracy: 0.5884 - val_loss: 1.9834 - val_accuracy: 0.3578\n",
      "Epoch 53/100\n",
      "280/280 [==============================] - 9s 31ms/step - loss: 1.1087 - accuracy: 0.5901 - val_loss: 1.9923 - val_accuracy: 0.3598\n",
      "Epoch 54/100\n",
      "280/280 [==============================] - 10s 37ms/step - loss: 1.0951 - accuracy: 0.5977 - val_loss: 2.0244 - val_accuracy: 0.3533\n",
      "Epoch 55/100\n",
      "280/280 [==============================] - 9s 32ms/step - loss: 1.0894 - accuracy: 0.5987 - val_loss: 2.0072 - val_accuracy: 0.3604\n",
      "Epoch 56/100\n",
      "280/280 [==============================] - 8s 30ms/step - loss: 1.0829 - accuracy: 0.6018 - val_loss: 2.0282 - val_accuracy: 0.3493\n",
      "Epoch 57/100\n",
      "280/280 [==============================] - 9s 31ms/step - loss: 1.0843 - accuracy: 0.5983 - val_loss: 1.9998 - val_accuracy: 0.3596\n",
      "Epoch 58/100\n",
      "280/280 [==============================] - 9s 31ms/step - loss: 1.0665 - accuracy: 0.6074 - val_loss: 2.0123 - val_accuracy: 0.3467\n",
      "Epoch 59/100\n",
      "280/280 [==============================] - 9s 31ms/step - loss: 1.0587 - accuracy: 0.6085 - val_loss: 2.0775 - val_accuracy: 0.3546\n",
      "Epoch 60/100\n",
      "280/280 [==============================] - 9s 31ms/step - loss: 1.0478 - accuracy: 0.6140 - val_loss: 2.0758 - val_accuracy: 0.3490\n",
      "Epoch 61/100\n",
      "280/280 [==============================] - 9s 31ms/step - loss: 1.0512 - accuracy: 0.6114 - val_loss: 2.0976 - val_accuracy: 0.3434\n",
      "Epoch 62/100\n",
      "280/280 [==============================] - 8s 30ms/step - loss: 1.0296 - accuracy: 0.6225 - val_loss: 2.0740 - val_accuracy: 0.3377\n",
      "Epoch 63/100\n",
      "280/280 [==============================] - 8s 30ms/step - loss: 1.0225 - accuracy: 0.6223 - val_loss: 2.1299 - val_accuracy: 0.3492\n",
      "Epoch 64/100\n",
      "280/280 [==============================] - 8s 30ms/step - loss: 1.0182 - accuracy: 0.6224 - val_loss: 2.1454 - val_accuracy: 0.3412\n",
      "Epoch 65/100\n",
      "280/280 [==============================] - 8s 30ms/step - loss: 1.0144 - accuracy: 0.6257 - val_loss: 2.1269 - val_accuracy: 0.3385\n",
      "Epoch 66/100\n",
      "280/280 [==============================] - 9s 30ms/step - loss: 1.0214 - accuracy: 0.6225 - val_loss: 2.1508 - val_accuracy: 0.3556\n",
      "Epoch 67/100\n",
      "280/280 [==============================] - 8s 30ms/step - loss: 1.0085 - accuracy: 0.6309 - val_loss: 2.1386 - val_accuracy: 0.3494\n",
      "Epoch 68/100\n",
      "280/280 [==============================] - 8s 30ms/step - loss: 0.9924 - accuracy: 0.6359 - val_loss: 2.1288 - val_accuracy: 0.3451\n",
      "Epoch 69/100\n",
      "280/280 [==============================] - 8s 30ms/step - loss: 0.9905 - accuracy: 0.6369 - val_loss: 2.1145 - val_accuracy: 0.3565\n",
      "Epoch 70/100\n",
      "280/280 [==============================] - 9s 30ms/step - loss: 0.9742 - accuracy: 0.6445 - val_loss: 2.1377 - val_accuracy: 0.3535\n",
      "Epoch 71/100\n",
      "280/280 [==============================] - 8s 30ms/step - loss: 0.9669 - accuracy: 0.6449 - val_loss: 2.1924 - val_accuracy: 0.3523\n",
      "Epoch 72/100\n",
      "280/280 [==============================] - 9s 31ms/step - loss: 0.9627 - accuracy: 0.6478 - val_loss: 2.2216 - val_accuracy: 0.3477\n",
      "Epoch 73/100\n",
      "280/280 [==============================] - 8s 30ms/step - loss: 0.9602 - accuracy: 0.6463 - val_loss: 2.2247 - val_accuracy: 0.3420\n",
      "Epoch 74/100\n",
      "280/280 [==============================] - 8s 30ms/step - loss: 0.9531 - accuracy: 0.6478 - val_loss: 2.2372 - val_accuracy: 0.3443\n",
      "Epoch 75/100\n",
      "280/280 [==============================] - 8s 30ms/step - loss: 0.9450 - accuracy: 0.6528 - val_loss: 2.3225 - val_accuracy: 0.3441\n",
      "Epoch 76/100\n",
      "280/280 [==============================] - 9s 31ms/step - loss: 0.9417 - accuracy: 0.6534 - val_loss: 2.2877 - val_accuracy: 0.3407\n",
      "Epoch 77/100\n",
      "280/280 [==============================] - 8s 30ms/step - loss: 0.9260 - accuracy: 0.6602 - val_loss: 2.2507 - val_accuracy: 0.3531\n",
      "Epoch 78/100\n",
      "280/280 [==============================] - 8s 30ms/step - loss: 0.9305 - accuracy: 0.6626 - val_loss: 2.2670 - val_accuracy: 0.3326\n",
      "Epoch 79/100\n",
      "280/280 [==============================] - 8s 30ms/step - loss: 0.9229 - accuracy: 0.6611 - val_loss: 2.3020 - val_accuracy: 0.3464\n",
      "Epoch 80/100\n",
      "280/280 [==============================] - 8s 30ms/step - loss: 0.9328 - accuracy: 0.6594 - val_loss: 2.2763 - val_accuracy: 0.3560\n",
      "Epoch 81/100\n",
      "280/280 [==============================] - 8s 30ms/step - loss: 0.9043 - accuracy: 0.6700 - val_loss: 2.2998 - val_accuracy: 0.3468\n",
      "Epoch 82/100\n",
      "280/280 [==============================] - 8s 30ms/step - loss: 0.9016 - accuracy: 0.6714 - val_loss: 2.3196 - val_accuracy: 0.3412\n",
      "Epoch 83/100\n",
      "280/280 [==============================] - 8s 30ms/step - loss: 0.9055 - accuracy: 0.6668 - val_loss: 2.3068 - val_accuracy: 0.3365\n",
      "Epoch 84/100\n",
      "280/280 [==============================] - 8s 30ms/step - loss: 0.8792 - accuracy: 0.6818 - val_loss: 2.3637 - val_accuracy: 0.3478\n",
      "Epoch 85/100\n",
      "280/280 [==============================] - 9s 30ms/step - loss: 0.8757 - accuracy: 0.6823 - val_loss: 2.3822 - val_accuracy: 0.3460\n",
      "Epoch 86/100\n",
      "280/280 [==============================] - 9s 30ms/step - loss: 0.8787 - accuracy: 0.6770 - val_loss: 2.3401 - val_accuracy: 0.3470\n",
      "Epoch 87/100\n",
      "280/280 [==============================] - 9s 31ms/step - loss: 0.8861 - accuracy: 0.6785 - val_loss: 2.3784 - val_accuracy: 0.3479\n",
      "Epoch 88/100\n",
      "280/280 [==============================] - 8s 30ms/step - loss: 0.8621 - accuracy: 0.6906 - val_loss: 2.6211 - val_accuracy: 0.3339\n",
      "Epoch 89/100\n",
      "280/280 [==============================] - 8s 30ms/step - loss: 0.8892 - accuracy: 0.6758 - val_loss: 2.4103 - val_accuracy: 0.3376\n",
      "Epoch 90/100\n",
      "280/280 [==============================] - 8s 30ms/step - loss: 0.8604 - accuracy: 0.6854 - val_loss: 2.4252 - val_accuracy: 0.3498\n",
      "Epoch 91/100\n",
      "280/280 [==============================] - 9s 31ms/step - loss: 0.8517 - accuracy: 0.6887 - val_loss: 2.5902 - val_accuracy: 0.3327\n",
      "Epoch 92/100\n",
      "280/280 [==============================] - 8s 30ms/step - loss: 0.8385 - accuracy: 0.6975 - val_loss: 2.4854 - val_accuracy: 0.3363\n",
      "Epoch 93/100\n",
      "280/280 [==============================] - 8s 30ms/step - loss: 0.8344 - accuracy: 0.6944 - val_loss: 2.4509 - val_accuracy: 0.3468\n",
      "Epoch 94/100\n",
      "280/280 [==============================] - 8s 30ms/step - loss: 0.8401 - accuracy: 0.6966 - val_loss: 2.5651 - val_accuracy: 0.3485\n",
      "Epoch 95/100\n",
      "280/280 [==============================] - 8s 30ms/step - loss: 0.8390 - accuracy: 0.6959 - val_loss: 2.4588 - val_accuracy: 0.3484\n",
      "Epoch 96/100\n",
      "280/280 [==============================] - 8s 30ms/step - loss: 0.8278 - accuracy: 0.6989 - val_loss: 2.5655 - val_accuracy: 0.3222\n",
      "Epoch 97/100\n",
      "280/280 [==============================] - 9s 31ms/step - loss: 0.8184 - accuracy: 0.7018 - val_loss: 2.5031 - val_accuracy: 0.3492\n",
      "Epoch 98/100\n",
      "280/280 [==============================] - 8s 30ms/step - loss: 0.8289 - accuracy: 0.6970 - val_loss: 2.8526 - val_accuracy: 0.3461\n",
      "Epoch 99/100\n",
      "280/280 [==============================] - 9s 30ms/step - loss: 0.8148 - accuracy: 0.7022 - val_loss: 2.5520 - val_accuracy: 0.3344\n",
      "Epoch 100/100\n",
      "280/280 [==============================] - 8s 30ms/step - loss: 0.8179 - accuracy: 0.7012 - val_loss: 2.5741 - val_accuracy: 0.3408\n"
     ]
    }
   ],
   "source": [
    "historyMLP_gs = best_modelMLP_PSO.fit(train_generator, steps_per_epoch=STEP_SIZE_TRAIN, epochs=num_epochs, verbose=1, validation_data=val_generator, validation_steps=STEP_SIZE_VAL)"
   ]
  },
  {
   "cell_type": "markdown",
   "metadata": {
    "id": "8kTJqnb2olpo"
   },
   "source": [
    "### Test"
   ]
  },
  {
   "cell_type": "code",
   "execution_count": 94,
   "metadata": {
    "execution": {
     "iopub.execute_input": "2021-11-08T20:38:05.295693Z",
     "iopub.status.busy": "2021-11-08T20:38:05.295693Z",
     "iopub.status.idle": "2021-11-08T20:39:04.129017Z",
     "shell.execute_reply": "2021-11-08T20:39:04.129017Z",
     "shell.execute_reply.started": "2021-11-08T20:38:05.295693Z"
    },
    "id": "YpVZHfXromuC",
    "tags": []
   },
   "outputs": [
    {
     "name": "stdout",
     "output_type": "stream",
     "text": [
      "(8977, 7)\n"
     ]
    }
   ],
   "source": [
    "test_generator.reset()\n",
    "\n",
    "predict_mlp_pso = best_modelMLP_PSO.predict(test_generator)\n",
    "print(predict_mlp_pso.shape)"
   ]
  },
  {
   "cell_type": "code",
   "execution_count": 95,
   "metadata": {
    "execution": {
     "iopub.execute_input": "2021-11-08T20:39:04.131020Z",
     "iopub.status.busy": "2021-11-08T20:39:04.131020Z",
     "iopub.status.idle": "2021-11-08T20:39:04.145031Z",
     "shell.execute_reply": "2021-11-08T20:39:04.145031Z",
     "shell.execute_reply.started": "2021-11-08T20:39:04.131020Z"
    },
    "id": "tSzZVCFvo8eW",
    "tags": []
   },
   "outputs": [
    {
     "name": "stdout",
     "output_type": "stream",
     "text": [
      "[3 4 6 ... 5 0 6]\n",
      "(8977,)\n"
     ]
    }
   ],
   "source": [
    "y_pred_mlp_pso = np.argmax(predict_mlp_pso, axis=-1)\n",
    "print(y_pred_mlp_pso)\n",
    "print(y_pred_mlp_pso.shape)"
   ]
  },
  {
   "cell_type": "code",
   "execution_count": 96,
   "metadata": {
    "execution": {
     "iopub.execute_input": "2021-11-08T20:39:04.147034Z",
     "iopub.status.busy": "2021-11-08T20:39:04.146033Z",
     "iopub.status.idle": "2021-11-08T20:39:04.176060Z",
     "shell.execute_reply": "2021-11-08T20:39:04.176060Z",
     "shell.execute_reply.started": "2021-11-08T20:39:04.147034Z"
    },
    "id": "ePmOhOHRpBIY",
    "tags": []
   },
   "outputs": [
    {
     "name": "stdout",
     "output_type": "stream",
     "text": [
      "              precision    recall  f1-score   support\n",
      "\n",
      "           0       0.29      0.13      0.18      1239\n",
      "           1       0.25      0.18      0.21       138\n",
      "           2       0.22      0.26      0.24      1281\n",
      "           3       0.45      0.52      0.48      2248\n",
      "           4       0.30      0.32      0.31      1550\n",
      "           5       0.26      0.33      0.30      1520\n",
      "           6       0.51      0.34      0.41      1001\n",
      "\n",
      "    accuracy                           0.34      8977\n",
      "   macro avg       0.33      0.30      0.30      8977\n",
      "weighted avg       0.34      0.34      0.33      8977\n",
      "\n"
     ]
    }
   ],
   "source": [
    "print(classification_report(test_labels, y_pred_mlp_pso))"
   ]
  },
  {
   "cell_type": "markdown",
   "metadata": {
    "id": "TmLJ_zGUM1aD"
   },
   "source": [
    "## CNN"
   ]
  },
  {
   "cell_type": "code",
   "execution_count": 97,
   "metadata": {
    "colab": {
     "base_uri": "https://localhost:8080/"
    },
    "execution": {
     "iopub.execute_input": "2021-11-08T20:39:04.180063Z",
     "iopub.status.busy": "2021-11-08T20:39:04.180063Z",
     "iopub.status.idle": "2021-11-08T20:39:04.192074Z",
     "shell.execute_reply": "2021-11-08T20:39:04.192074Z",
     "shell.execute_reply.started": "2021-11-08T20:39:04.180063Z"
    },
    "id": "zu1oyGqjamBK",
    "outputId": "ad653743-52ca-4085-a48c-45d3556a6ca1",
    "tags": []
   },
   "outputs": [
    {
     "name": "stdout",
     "output_type": "stream",
     "text": [
      "(array([0, 1, 8, 8, 8, 8, 8]), array([  0.5,   4. , 128. , 128. , 128. , 128. , 128. ]))\n"
     ]
    }
   ],
   "source": [
    "\"\"\"\n",
    "  Hiperparâmetros para CNN\n",
    "  {'dropout_value': 0, 'epochs': 300, 'neurons': [32, 64, 128, 512, 512], 'qtd_layers': 2}\n",
    "\n",
    "  0: valores min/max de dropout (0 à 0.5)\n",
    "  1: valores min/max de quantidade de hidden layers (1 à 4)\n",
    "  2: valores min/max de neurônios da primeira layer (8 a 128)\n",
    "  3: valores min/max de neurônios da primeira hidden layer (8 a 128)\n",
    "  4: valores min/max de neurônios da segunda hidden layer (8 a 128)\n",
    "  5: valores min/max de neurônios da terceira hidden layer (8 a 128)\n",
    "  6: valores min/max de neurônios da quarta hidden layer (8 a 128)\n",
    "\n",
    "\"\"\"\n",
    "\n",
    "min_bound_cnn = np.array([0, 1, 8, 8, 8, 8, 8])\n",
    "max_bound_cnn = np.array([0.5, 4, 128, 128, 128, 128, 128])\n",
    "bounds_cnn = (min_bound_cnn, max_bound_cnn)\n",
    "print(bounds_cnn)"
   ]
  },
  {
   "cell_type": "code",
   "execution_count": 98,
   "metadata": {
    "execution": {
     "iopub.execute_input": "2021-11-08T20:39:04.193076Z",
     "iopub.status.busy": "2021-11-08T20:39:04.193076Z",
     "iopub.status.idle": "2021-11-08T20:39:04.208088Z",
     "shell.execute_reply": "2021-11-08T20:39:04.208088Z",
     "shell.execute_reply.started": "2021-11-08T20:39:04.193076Z"
    },
    "id": "Yxj_G0hDap_l",
    "tags": []
   },
   "outputs": [],
   "source": [
    "def fitnessCNN(bound_values):\n",
    "    # (neurons, qtd_layers, dropout_value)\n",
    "    model = buildCNN(\n",
    "        [int(bound_values[0, 2]), int(bound_values[0, 3]), int(bound_values[0, 4]), int(bound_values[0, 5]), int(bound_values[0, 6])], \n",
    "        int(bound_values[0, 1]), \n",
    "        int(bound_values[0, 0]))\n",
    "    \n",
    "    model.fit(train_generator, steps_per_epoch=STEP_SIZE_TRAIN, epochs=num_epochs, verbose=1, validation_data=val_generator, validation_steps=STEP_SIZE_VAL)\n",
    "    \n",
    "    val_generator.reset()\n",
    "\n",
    "    predictions = model.predict(val_generator)\n",
    "    y_pred = np.argmax(predictions, axis=-1)\n",
    "    val_labels = val_generator.classes\n",
    "\n",
    "    acc = classification_report(val_labels, y_pred, output_dict=True)['accuracy']\n",
    "\n",
    "    return 1-acc "
   ]
  },
  {
   "cell_type": "code",
   "execution_count": 99,
   "metadata": {
    "colab": {
     "base_uri": "https://localhost:8080/"
    },
    "execution": {
     "iopub.execute_input": "2021-11-08T20:39:04.209090Z",
     "iopub.status.busy": "2021-11-08T20:39:04.209090Z",
     "iopub.status.idle": "2021-11-08T20:53:14.985032Z",
     "shell.execute_reply": "2021-11-08T20:53:14.985032Z",
     "shell.execute_reply.started": "2021-11-08T20:39:04.209090Z"
    },
    "id": "ewn-cZPGf4tV",
    "outputId": "93d4be4f-2cba-4fa5-a595-5f575e095792",
    "tags": []
   },
   "outputs": [
    {
     "name": "stderr",
     "output_type": "stream",
     "text": [
      "2021-11-08 17:39:04,220 - pyswarms.single.global_best - INFO - Optimize for 1 iters with {'c1': 0.3, 'c2': 0.3, 'w': 0.5}\n",
      "pyswarms.single.global_best:   0%|                                                                                 |0/1"
     ]
    },
    {
     "name": "stdout",
     "output_type": "stream",
     "text": [
      "Epoch 1/100\n",
      "280/280 [==============================] - 9s 31ms/step - loss: 1.6919 - accuracy: 0.3294 - val_loss: 1.6126 - val_accuracy: 0.3633\n",
      "Epoch 2/100\n",
      "280/280 [==============================] - 8s 30ms/step - loss: 1.5302 - accuracy: 0.4138 - val_loss: 1.4934 - val_accuracy: 0.4336\n",
      "Epoch 3/100\n",
      "280/280 [==============================] - 8s 30ms/step - loss: 1.4339 - accuracy: 0.4568 - val_loss: 1.4301 - val_accuracy: 0.4557\n",
      "Epoch 4/100\n",
      "280/280 [==============================] - 8s 30ms/step - loss: 1.3489 - accuracy: 0.4907 - val_loss: 1.4020 - val_accuracy: 0.4750\n",
      "Epoch 5/100\n",
      "280/280 [==============================] - 8s 30ms/step - loss: 1.2898 - accuracy: 0.5186 - val_loss: 1.3898 - val_accuracy: 0.4795\n",
      "Epoch 6/100\n",
      "280/280 [==============================] - 8s 30ms/step - loss: 1.2303 - accuracy: 0.5395 - val_loss: 1.3828 - val_accuracy: 0.4805\n",
      "Epoch 7/100\n",
      "280/280 [==============================] - 8s 30ms/step - loss: 1.1768 - accuracy: 0.5627 - val_loss: 1.3709 - val_accuracy: 0.4931\n",
      "Epoch 8/100\n",
      "280/280 [==============================] - 8s 30ms/step - loss: 1.1266 - accuracy: 0.5825 - val_loss: 1.4091 - val_accuracy: 0.4858\n",
      "Epoch 9/100\n",
      "280/280 [==============================] - 8s 30ms/step - loss: 1.0712 - accuracy: 0.6027 - val_loss: 1.3851 - val_accuracy: 0.4938\n",
      "Epoch 10/100\n",
      "280/280 [==============================] - 8s 30ms/step - loss: 1.0232 - accuracy: 0.6301 - val_loss: 1.4033 - val_accuracy: 0.4948\n",
      "Epoch 11/100\n",
      "280/280 [==============================] - 9s 31ms/step - loss: 0.9653 - accuracy: 0.6512 - val_loss: 1.4338 - val_accuracy: 0.4942\n",
      "Epoch 12/100\n",
      "280/280 [==============================] - 8s 30ms/step - loss: 0.9209 - accuracy: 0.6690 - val_loss: 1.4314 - val_accuracy: 0.4969\n",
      "Epoch 13/100\n",
      "280/280 [==============================] - 8s 29ms/step - loss: 0.8713 - accuracy: 0.6861 - val_loss: 1.4931 - val_accuracy: 0.4906\n",
      "Epoch 14/100\n",
      "280/280 [==============================] - 8s 29ms/step - loss: 0.8208 - accuracy: 0.7104 - val_loss: 1.4941 - val_accuracy: 0.5007\n",
      "Epoch 15/100\n",
      "280/280 [==============================] - 8s 29ms/step - loss: 0.7758 - accuracy: 0.7263 - val_loss: 1.5196 - val_accuracy: 0.4960\n",
      "Epoch 16/100\n",
      "280/280 [==============================] - 9s 32ms/step - loss: 0.7346 - accuracy: 0.7411 - val_loss: 1.5905 - val_accuracy: 0.4892\n",
      "Epoch 17/100\n",
      "280/280 [==============================] - 8s 30ms/step - loss: 0.6916 - accuracy: 0.7571 - val_loss: 1.6569 - val_accuracy: 0.4808\n",
      "Epoch 18/100\n",
      "280/280 [==============================] - 8s 29ms/step - loss: 0.6497 - accuracy: 0.7755 - val_loss: 1.6658 - val_accuracy: 0.4887\n",
      "Epoch 19/100\n",
      "280/280 [==============================] - 8s 29ms/step - loss: 0.6072 - accuracy: 0.7904 - val_loss: 1.7148 - val_accuracy: 0.4970\n",
      "Epoch 20/100\n",
      "280/280 [==============================] - 8s 29ms/step - loss: 0.5843 - accuracy: 0.7974 - val_loss: 1.7649 - val_accuracy: 0.4892\n",
      "Epoch 21/100\n",
      "280/280 [==============================] - 8s 29ms/step - loss: 0.5444 - accuracy: 0.8139 - val_loss: 1.8125 - val_accuracy: 0.4922\n",
      "Epoch 22/100\n",
      "280/280 [==============================] - 8s 29ms/step - loss: 0.5122 - accuracy: 0.8259 - val_loss: 1.8537 - val_accuracy: 0.4914\n",
      "Epoch 23/100\n",
      "280/280 [==============================] - 8s 30ms/step - loss: 0.4712 - accuracy: 0.8418 - val_loss: 1.9711 - val_accuracy: 0.4839\n",
      "Epoch 24/100\n",
      "280/280 [==============================] - 8s 30ms/step - loss: 0.4521 - accuracy: 0.8501 - val_loss: 1.9928 - val_accuracy: 0.4871\n",
      "Epoch 25/100\n",
      "280/280 [==============================] - 8s 30ms/step - loss: 0.4228 - accuracy: 0.8605 - val_loss: 2.0737 - val_accuracy: 0.4891\n",
      "Epoch 26/100\n",
      "280/280 [==============================] - 9s 31ms/step - loss: 0.3952 - accuracy: 0.8724 - val_loss: 2.1417 - val_accuracy: 0.4830\n",
      "Epoch 27/100\n",
      "280/280 [==============================] - 9s 31ms/step - loss: 0.3726 - accuracy: 0.8784 - val_loss: 2.1972 - val_accuracy: 0.4794\n",
      "Epoch 28/100\n",
      "280/280 [==============================] - 9s 31ms/step - loss: 0.3455 - accuracy: 0.8920 - val_loss: 2.2755 - val_accuracy: 0.4825\n",
      "Epoch 29/100\n",
      "280/280 [==============================] - 9s 31ms/step - loss: 0.3206 - accuracy: 0.8982 - val_loss: 2.3595 - val_accuracy: 0.4771\n",
      "Epoch 30/100\n",
      "280/280 [==============================] - 9s 32ms/step - loss: 0.3007 - accuracy: 0.9066 - val_loss: 2.4067 - val_accuracy: 0.4800\n",
      "Epoch 31/100\n",
      "280/280 [==============================] - 9s 31ms/step - loss: 0.2816 - accuracy: 0.9150 - val_loss: 2.4989 - val_accuracy: 0.4806\n",
      "Epoch 32/100\n",
      "280/280 [==============================] - 9s 30ms/step - loss: 0.2545 - accuracy: 0.9258 - val_loss: 2.6041 - val_accuracy: 0.4772\n",
      "Epoch 33/100\n",
      "280/280 [==============================] - 9s 30ms/step - loss: 0.2439 - accuracy: 0.9267 - val_loss: 2.6903 - val_accuracy: 0.4796\n",
      "Epoch 34/100\n",
      "280/280 [==============================] - 9s 31ms/step - loss: 0.2304 - accuracy: 0.9332 - val_loss: 2.7456 - val_accuracy: 0.4823\n",
      "Epoch 35/100\n",
      "280/280 [==============================] - 9s 32ms/step - loss: 0.2101 - accuracy: 0.9385 - val_loss: 2.8402 - val_accuracy: 0.4719\n",
      "Epoch 36/100\n",
      "280/280 [==============================] - 9s 32ms/step - loss: 0.1920 - accuracy: 0.9485 - val_loss: 2.9283 - val_accuracy: 0.4743\n",
      "Epoch 37/100\n",
      "280/280 [==============================] - 9s 31ms/step - loss: 0.1770 - accuracy: 0.9530 - val_loss: 2.9854 - val_accuracy: 0.4780\n",
      "Epoch 38/100\n",
      "280/280 [==============================] - 9s 32ms/step - loss: 0.1662 - accuracy: 0.9566 - val_loss: 3.1355 - val_accuracy: 0.4641\n",
      "Epoch 39/100\n",
      "280/280 [==============================] - 9s 31ms/step - loss: 0.1636 - accuracy: 0.9565 - val_loss: 3.2133 - val_accuracy: 0.4752\n",
      "Epoch 40/100\n",
      "280/280 [==============================] - 9s 30ms/step - loss: 0.1490 - accuracy: 0.9618 - val_loss: 3.2803 - val_accuracy: 0.4753\n",
      "Epoch 41/100\n",
      "280/280 [==============================] - 9s 31ms/step - loss: 0.1372 - accuracy: 0.9676 - val_loss: 3.3886 - val_accuracy: 0.4700\n",
      "Epoch 42/100\n",
      "280/280 [==============================] - 9s 31ms/step - loss: 0.1298 - accuracy: 0.9687 - val_loss: 3.4520 - val_accuracy: 0.4669\n",
      "Epoch 43/100\n",
      "280/280 [==============================] - 9s 31ms/step - loss: 0.1184 - accuracy: 0.9737 - val_loss: 3.5450 - val_accuracy: 0.4675\n",
      "Epoch 44/100\n",
      "280/280 [==============================] - 8s 30ms/step - loss: 0.1130 - accuracy: 0.9745 - val_loss: 3.5694 - val_accuracy: 0.4710\n",
      "Epoch 45/100\n",
      "280/280 [==============================] - 9s 31ms/step - loss: 0.1039 - accuracy: 0.9771 - val_loss: 3.6690 - val_accuracy: 0.4699\n",
      "Epoch 46/100\n",
      "280/280 [==============================] - 8s 30ms/step - loss: 0.0978 - accuracy: 0.9798 - val_loss: 3.7723 - val_accuracy: 0.4705\n",
      "Epoch 47/100\n",
      "280/280 [==============================] - 8s 30ms/step - loss: 0.0881 - accuracy: 0.9832 - val_loss: 3.9060 - val_accuracy: 0.4656\n",
      "Epoch 48/100\n",
      "280/280 [==============================] - 8s 30ms/step - loss: 0.0996 - accuracy: 0.9767 - val_loss: 3.9549 - val_accuracy: 0.4586\n",
      "Epoch 49/100\n",
      "280/280 [==============================] - 8s 30ms/step - loss: 0.0845 - accuracy: 0.9829 - val_loss: 4.0500 - val_accuracy: 0.4675\n",
      "Epoch 50/100\n",
      "280/280 [==============================] - 8s 29ms/step - loss: 0.0815 - accuracy: 0.9837 - val_loss: 4.1280 - val_accuracy: 0.4741\n",
      "Epoch 51/100\n",
      "280/280 [==============================] - 8s 29ms/step - loss: 0.0784 - accuracy: 0.9857 - val_loss: 4.1528 - val_accuracy: 0.4625\n",
      "Epoch 52/100\n",
      "280/280 [==============================] - 8s 29ms/step - loss: 0.0766 - accuracy: 0.9839 - val_loss: 4.2935 - val_accuracy: 0.4664\n",
      "Epoch 53/100\n",
      "280/280 [==============================] - 8s 29ms/step - loss: 0.0807 - accuracy: 0.9830 - val_loss: 4.3398 - val_accuracy: 0.4666\n",
      "Epoch 54/100\n",
      "280/280 [==============================] - 8s 29ms/step - loss: 0.0723 - accuracy: 0.9845 - val_loss: 4.4735 - val_accuracy: 0.4592\n",
      "Epoch 55/100\n",
      "280/280 [==============================] - 8s 29ms/step - loss: 0.0687 - accuracy: 0.9869 - val_loss: 4.4549 - val_accuracy: 0.4692\n",
      "Epoch 56/100\n",
      "280/280 [==============================] - 8s 29ms/step - loss: 0.0613 - accuracy: 0.9881 - val_loss: 4.5040 - val_accuracy: 0.4643\n",
      "Epoch 57/100\n",
      "280/280 [==============================] - 8s 29ms/step - loss: 0.0602 - accuracy: 0.9891 - val_loss: 4.7337 - val_accuracy: 0.4551\n",
      "Epoch 58/100\n",
      "280/280 [==============================] - 8s 30ms/step - loss: 0.0675 - accuracy: 0.9853 - val_loss: 4.6794 - val_accuracy: 0.4688\n",
      "Epoch 59/100\n",
      "280/280 [==============================] - 8s 30ms/step - loss: 0.0636 - accuracy: 0.9857 - val_loss: 4.7430 - val_accuracy: 0.4648\n",
      "Epoch 60/100\n",
      "280/280 [==============================] - 8s 30ms/step - loss: 0.0504 - accuracy: 0.9908 - val_loss: 4.7772 - val_accuracy: 0.4600\n",
      "Epoch 61/100\n",
      "280/280 [==============================] - 8s 30ms/step - loss: 0.0635 - accuracy: 0.9865 - val_loss: 4.8890 - val_accuracy: 0.4610\n",
      "Epoch 62/100\n",
      "280/280 [==============================] - 8s 30ms/step - loss: 0.0660 - accuracy: 0.9847 - val_loss: 4.8782 - val_accuracy: 0.4633\n",
      "Epoch 63/100\n",
      "280/280 [==============================] - 8s 30ms/step - loss: 0.0542 - accuracy: 0.9886 - val_loss: 5.0857 - val_accuracy: 0.4656\n",
      "Epoch 64/100\n",
      "280/280 [==============================] - 9s 31ms/step - loss: 0.0607 - accuracy: 0.9856 - val_loss: 5.0160 - val_accuracy: 0.4614\n",
      "Epoch 65/100\n",
      "280/280 [==============================] - 8s 30ms/step - loss: 0.0632 - accuracy: 0.9853 - val_loss: 5.0360 - val_accuracy: 0.4631\n",
      "Epoch 66/100\n",
      "280/280 [==============================] - 8s 30ms/step - loss: 0.0463 - accuracy: 0.9923 - val_loss: 5.1858 - val_accuracy: 0.4617\n",
      "Epoch 67/100\n",
      "280/280 [==============================] - 8s 30ms/step - loss: 0.0459 - accuracy: 0.9923 - val_loss: 5.1194 - val_accuracy: 0.4651\n",
      "Epoch 68/100\n",
      "280/280 [==============================] - 8s 30ms/step - loss: 0.0472 - accuracy: 0.9905 - val_loss: 5.2848 - val_accuracy: 0.4558\n",
      "Epoch 69/100\n",
      "280/280 [==============================] - 8s 30ms/step - loss: 0.0557 - accuracy: 0.9877 - val_loss: 5.1868 - val_accuracy: 0.4628\n",
      "Epoch 70/100\n",
      "280/280 [==============================] - 8s 30ms/step - loss: 0.0797 - accuracy: 0.9772 - val_loss: 5.4017 - val_accuracy: 0.4515\n",
      "Epoch 71/100\n",
      "280/280 [==============================] - 8s 29ms/step - loss: 0.0615 - accuracy: 0.9837 - val_loss: 5.3069 - val_accuracy: 0.4627\n",
      "Epoch 72/100\n",
      "280/280 [==============================] - 8s 30ms/step - loss: 0.0495 - accuracy: 0.9908 - val_loss: 5.2699 - val_accuracy: 0.4637\n",
      "Epoch 73/100\n",
      "280/280 [==============================] - 8s 30ms/step - loss: 0.0501 - accuracy: 0.9894 - val_loss: 5.3816 - val_accuracy: 0.4629\n",
      "Epoch 74/100\n",
      "280/280 [==============================] - 9s 31ms/step - loss: 0.0513 - accuracy: 0.9897 - val_loss: 5.4605 - val_accuracy: 0.4669\n",
      "Epoch 75/100\n",
      "280/280 [==============================] - 9s 30ms/step - loss: 0.0392 - accuracy: 0.9940 - val_loss: 5.4916 - val_accuracy: 0.4664\n",
      "Epoch 76/100\n",
      "280/280 [==============================] - 8s 30ms/step - loss: 0.0339 - accuracy: 0.9954 - val_loss: 5.5790 - val_accuracy: 0.4607\n",
      "Epoch 77/100\n",
      "280/280 [==============================] - 8s 30ms/step - loss: 0.0475 - accuracy: 0.9902 - val_loss: 5.6090 - val_accuracy: 0.4698\n",
      "Epoch 78/100\n",
      "280/280 [==============================] - 9s 31ms/step - loss: 0.0724 - accuracy: 0.9810 - val_loss: 5.5782 - val_accuracy: 0.4641\n",
      "Epoch 79/100\n",
      "280/280 [==============================] - 9s 31ms/step - loss: 0.0517 - accuracy: 0.9881 - val_loss: 5.6963 - val_accuracy: 0.4686\n",
      "Epoch 80/100\n",
      "280/280 [==============================] - 9s 32ms/step - loss: 0.0399 - accuracy: 0.9926 - val_loss: 5.6269 - val_accuracy: 0.4627\n",
      "Epoch 81/100\n",
      "280/280 [==============================] - 9s 31ms/step - loss: 0.0373 - accuracy: 0.9932 - val_loss: 5.8072 - val_accuracy: 0.4593\n",
      "Epoch 82/100\n",
      "280/280 [==============================] - 8s 30ms/step - loss: 0.0365 - accuracy: 0.9936 - val_loss: 5.7694 - val_accuracy: 0.4596\n",
      "Epoch 83/100\n",
      "280/280 [==============================] - 8s 30ms/step - loss: 0.0420 - accuracy: 0.9910 - val_loss: 5.7543 - val_accuracy: 0.4634\n",
      "Epoch 84/100\n",
      "280/280 [==============================] - 8s 30ms/step - loss: 0.0453 - accuracy: 0.9913 - val_loss: 5.8495 - val_accuracy: 0.4600\n",
      "Epoch 85/100\n",
      "280/280 [==============================] - 9s 31ms/step - loss: 0.0488 - accuracy: 0.9895 - val_loss: 5.9415 - val_accuracy: 0.4581\n",
      "Epoch 86/100\n",
      "280/280 [==============================] - 8s 29ms/step - loss: 0.0747 - accuracy: 0.9806 - val_loss: 5.9577 - val_accuracy: 0.4564\n",
      "Epoch 87/100\n",
      "280/280 [==============================] - 8s 29ms/step - loss: 0.0605 - accuracy: 0.9841 - val_loss: 5.9918 - val_accuracy: 0.4605\n",
      "Epoch 88/100\n",
      "280/280 [==============================] - 8s 30ms/step - loss: 0.0484 - accuracy: 0.9889 - val_loss: 5.9800 - val_accuracy: 0.4530\n",
      "Epoch 89/100\n",
      "280/280 [==============================] - 8s 30ms/step - loss: 0.0365 - accuracy: 0.9945 - val_loss: 5.9477 - val_accuracy: 0.4643\n",
      "Epoch 90/100\n",
      "280/280 [==============================] - 8s 30ms/step - loss: 0.0349 - accuracy: 0.9940 - val_loss: 6.0241 - val_accuracy: 0.4662\n",
      "Epoch 91/100\n",
      "280/280 [==============================] - 8s 30ms/step - loss: 0.0349 - accuracy: 0.9949 - val_loss: 6.0657 - val_accuracy: 0.4641\n",
      "Epoch 92/100\n",
      "280/280 [==============================] - 9s 31ms/step - loss: 0.0362 - accuracy: 0.9933 - val_loss: 6.1522 - val_accuracy: 0.4748\n",
      "Epoch 93/100\n",
      "280/280 [==============================] - 9s 30ms/step - loss: 0.0437 - accuracy: 0.9908 - val_loss: 6.1342 - val_accuracy: 0.4675\n",
      "Epoch 94/100\n",
      "280/280 [==============================] - 9s 30ms/step - loss: 0.0603 - accuracy: 0.9834 - val_loss: 6.2093 - val_accuracy: 0.4617\n",
      "Epoch 95/100\n",
      "280/280 [==============================] - 8s 30ms/step - loss: 0.0629 - accuracy: 0.9815 - val_loss: 6.2251 - val_accuracy: 0.4625\n",
      "Epoch 96/100\n",
      "280/280 [==============================] - 8s 30ms/step - loss: 0.0468 - accuracy: 0.9894 - val_loss: 6.3718 - val_accuracy: 0.4610\n",
      "Epoch 97/100\n",
      "280/280 [==============================] - 9s 31ms/step - loss: 0.0435 - accuracy: 0.9889 - val_loss: 6.2364 - val_accuracy: 0.4669\n",
      "Epoch 98/100\n",
      "280/280 [==============================] - 8s 30ms/step - loss: 0.0373 - accuracy: 0.9928 - val_loss: 6.2821 - val_accuracy: 0.4587\n",
      "Epoch 99/100\n",
      "280/280 [==============================] - 8s 30ms/step - loss: 0.0383 - accuracy: 0.9933 - val_loss: 6.1819 - val_accuracy: 0.4652\n",
      "Epoch 100/100\n",
      "280/280 [==============================] - 9s 30ms/step - loss: 0.0344 - accuracy: 0.9937 - val_loss: 6.2967 - val_accuracy: 0.4656\n"
     ]
    },
    {
     "name": "stderr",
     "output_type": "stream",
     "text": [
      "pyswarms.single.global_best: 100%|████████████████████████████████████████████████████████████████|1/1, best_cost=0.534\n",
      "2021-11-08 17:53:14,970 - pyswarms.single.global_best - INFO - Optimization finished | best cost: 0.5339502731631174, best pos: [  0.19174747   1.47706454  21.63183083  69.93543288  60.39694315\n",
      " 120.08598064 103.91813565]\n"
     ]
    }
   ],
   "source": [
    "optimizerCNN = GlobalBestPSO(n_particles=10, dimensions=len(min_bound_cnn), options=options, bounds=bounds_cnn)\n",
    "\n",
    "final_best_cost_cnn, final_best_pos_cnn = optimizerCNN.optimize(fitnessCNN, iters=1)"
   ]
  },
  {
   "cell_type": "code",
   "execution_count": 100,
   "metadata": {
    "colab": {
     "base_uri": "https://localhost:8080/"
    },
    "execution": {
     "iopub.execute_input": "2021-11-08T20:53:14.987035Z",
     "iopub.status.busy": "2021-11-08T20:53:14.986033Z",
     "iopub.status.idle": "2021-11-08T20:53:15.001046Z",
     "shell.execute_reply": "2021-11-08T20:53:15.001046Z",
     "shell.execute_reply.started": "2021-11-08T20:53:14.987035Z"
    },
    "id": "VF2RHFAAd6Xg",
    "outputId": "b9a51092-bd09-43da-fd0a-65b39391a6df",
    "tags": []
   },
   "outputs": [
    {
     "name": "stdout",
     "output_type": "stream",
     "text": [
      "[  0.19174747   1.47706454  21.63183083  69.93543288  60.39694315\n",
      " 120.08598064 103.91813565]\n"
     ]
    }
   ],
   "source": [
    "print(final_best_pos_cnn)"
   ]
  },
  {
   "cell_type": "markdown",
   "metadata": {
    "id": "2UBRY1Zhnu8a"
   },
   "source": [
    "### Structure"
   ]
  },
  {
   "cell_type": "code",
   "execution_count": 101,
   "metadata": {
    "execution": {
     "iopub.execute_input": "2021-11-08T20:53:15.003049Z",
     "iopub.status.busy": "2021-11-08T20:53:15.002051Z",
     "iopub.status.idle": "2021-11-08T20:53:15.049090Z",
     "shell.execute_reply": "2021-11-08T20:53:15.049090Z",
     "shell.execute_reply.started": "2021-11-08T20:53:15.003049Z"
    },
    "id": "DRrUJrJChlnv",
    "tags": []
   },
   "outputs": [],
   "source": [
    "best_modelCNN_PSO = buildCNN(\n",
    "        [int(final_best_pos_cnn[2]), int(final_best_pos_cnn[3]), int(final_best_pos_cnn[4]), int(final_best_pos_cnn[5]), int(final_best_pos_cnn[6])], \n",
    "        int(final_best_pos_cnn[1]), \n",
    "        int(final_best_pos_cnn[0]))"
   ]
  },
  {
   "cell_type": "code",
   "execution_count": 102,
   "metadata": {
    "colab": {
     "base_uri": "https://localhost:8080/"
    },
    "execution": {
     "iopub.execute_input": "2021-11-08T20:53:15.051092Z",
     "iopub.status.busy": "2021-11-08T20:53:15.050092Z",
     "iopub.status.idle": "2021-11-08T20:53:15.064104Z",
     "shell.execute_reply": "2021-11-08T20:53:15.064104Z",
     "shell.execute_reply.started": "2021-11-08T20:53:15.051092Z"
    },
    "id": "E0iovXMYnuPO",
    "outputId": "069abfc7-cd0f-41c1-957c-518176ec0a62",
    "tags": []
   },
   "outputs": [
    {
     "name": "stdout",
     "output_type": "stream",
     "text": [
      "Model: \"sequential_9\"\n",
      "_________________________________________________________________\n",
      "Layer (type)                 Output Shape              Param #   \n",
      "=================================================================\n",
      "conv2d_7 (Conv2D)            (None, 48, 48, 21)        210       \n",
      "_________________________________________________________________\n",
      "max_pooling2d_7 (MaxPooling2 (None, 24, 24, 21)        0         \n",
      "_________________________________________________________________\n",
      "conv2d_8 (Conv2D)            (None, 24, 24, 69)        13110     \n",
      "_________________________________________________________________\n",
      "max_pooling2d_8 (MaxPooling2 (None, 12, 12, 69)        0         \n",
      "_________________________________________________________________\n",
      "flatten_9 (Flatten)          (None, 9936)              0         \n",
      "_________________________________________________________________\n",
      "dense_18 (Dense)             (None, 7)                 69559     \n",
      "=================================================================\n",
      "Total params: 82,879\n",
      "Trainable params: 82,879\n",
      "Non-trainable params: 0\n",
      "_________________________________________________________________\n"
     ]
    }
   ],
   "source": [
    "best_modelCNN_PSO.summary()"
   ]
  },
  {
   "cell_type": "code",
   "execution_count": 103,
   "metadata": {
    "execution": {
     "iopub.execute_input": "2021-11-08T20:53:15.066106Z",
     "iopub.status.busy": "2021-11-08T20:53:15.066106Z",
     "iopub.status.idle": "2021-11-08T20:53:15.096132Z",
     "shell.execute_reply": "2021-11-08T20:53:15.096132Z",
     "shell.execute_reply.started": "2021-11-08T20:53:15.066106Z"
    },
    "tags": []
   },
   "outputs": [
    {
     "name": "stdout",
     "output_type": "stream",
     "text": [
      "('You must install pydot (`pip install pydot`) and install graphviz (see instructions at https://graphviz.gitlab.io/download/) ', 'for plot_model/model_to_dot to work.')\n"
     ]
    }
   ],
   "source": [
    "tf.keras.utils.plot_model(\n",
    "    best_modelCNN_PSO,\n",
    "    show_shapes=True,\n",
    "    show_layer_names=True,\n",
    ")"
   ]
  },
  {
   "cell_type": "markdown",
   "metadata": {
    "id": "IduProGtnzNM"
   },
   "source": [
    "### Train"
   ]
  },
  {
   "cell_type": "code",
   "execution_count": 104,
   "metadata": {
    "colab": {
     "base_uri": "https://localhost:8080/"
    },
    "execution": {
     "iopub.execute_input": "2021-11-08T20:53:15.097134Z",
     "iopub.status.busy": "2021-11-08T20:53:15.097134Z",
     "iopub.status.idle": "2021-11-08T21:07:16.603103Z",
     "shell.execute_reply": "2021-11-08T21:07:16.603103Z",
     "shell.execute_reply.started": "2021-11-08T20:53:15.097134Z"
    },
    "id": "EXusOp7dn0WI",
    "outputId": "72405f1a-da99-4820-896a-96cbfe743d93",
    "tags": []
   },
   "outputs": [
    {
     "name": "stdout",
     "output_type": "stream",
     "text": [
      "Epoch 1/100\n",
      "280/280 [==============================] - 9s 29ms/step - loss: 1.7101 - accuracy: 0.3195 - val_loss: 1.6207 - val_accuracy: 0.3682\n",
      "Epoch 2/100\n",
      "280/280 [==============================] - 8s 29ms/step - loss: 1.5096 - accuracy: 0.4239 - val_loss: 1.4724 - val_accuracy: 0.4388\n",
      "Epoch 3/100\n",
      "280/280 [==============================] - 8s 29ms/step - loss: 1.4059 - accuracy: 0.4686 - val_loss: 1.4278 - val_accuracy: 0.4588\n",
      "Epoch 4/100\n",
      "280/280 [==============================] - 8s 29ms/step - loss: 1.3266 - accuracy: 0.5001 - val_loss: 1.3965 - val_accuracy: 0.4721\n",
      "Epoch 5/100\n",
      "280/280 [==============================] - 8s 29ms/step - loss: 1.2655 - accuracy: 0.5254 - val_loss: 1.3682 - val_accuracy: 0.4894\n",
      "Epoch 6/100\n",
      "280/280 [==============================] - 8s 30ms/step - loss: 1.2066 - accuracy: 0.5496 - val_loss: 1.3567 - val_accuracy: 0.4949\n",
      "Epoch 7/100\n",
      "280/280 [==============================] - 8s 29ms/step - loss: 1.1516 - accuracy: 0.5705 - val_loss: 1.3601 - val_accuracy: 0.5006\n",
      "Epoch 8/100\n",
      "280/280 [==============================] - 8s 29ms/step - loss: 1.0973 - accuracy: 0.5943 - val_loss: 1.3602 - val_accuracy: 0.4999\n",
      "Epoch 9/100\n",
      "280/280 [==============================] - 8s 29ms/step - loss: 1.0446 - accuracy: 0.6132 - val_loss: 1.3764 - val_accuracy: 0.4953\n",
      "Epoch 10/100\n",
      "280/280 [==============================] - 8s 30ms/step - loss: 0.9922 - accuracy: 0.6347 - val_loss: 1.3791 - val_accuracy: 0.5051\n",
      "Epoch 11/100\n",
      "280/280 [==============================] - 8s 29ms/step - loss: 0.9439 - accuracy: 0.6570 - val_loss: 1.3902 - val_accuracy: 0.5057\n",
      "Epoch 12/100\n",
      "280/280 [==============================] - 8s 29ms/step - loss: 0.8919 - accuracy: 0.6757 - val_loss: 1.4106 - val_accuracy: 0.5055\n",
      "Epoch 13/100\n",
      "280/280 [==============================] - 8s 29ms/step - loss: 0.8458 - accuracy: 0.6975 - val_loss: 1.5037 - val_accuracy: 0.4896\n",
      "Epoch 14/100\n",
      "280/280 [==============================] - 9s 30ms/step - loss: 0.7995 - accuracy: 0.7097 - val_loss: 1.4758 - val_accuracy: 0.5001\n",
      "Epoch 15/100\n",
      "280/280 [==============================] - 8s 30ms/step - loss: 0.7555 - accuracy: 0.7293 - val_loss: 1.5691 - val_accuracy: 0.4876\n",
      "Epoch 16/100\n",
      "280/280 [==============================] - 8s 30ms/step - loss: 0.7062 - accuracy: 0.7458 - val_loss: 1.5420 - val_accuracy: 0.5040\n",
      "Epoch 17/100\n",
      "280/280 [==============================] - 8s 30ms/step - loss: 0.6611 - accuracy: 0.7643 - val_loss: 1.5943 - val_accuracy: 0.4983\n",
      "Epoch 18/100\n",
      "280/280 [==============================] - 8s 30ms/step - loss: 0.6217 - accuracy: 0.7832 - val_loss: 1.6635 - val_accuracy: 0.4982\n",
      "Epoch 19/100\n",
      "280/280 [==============================] - 8s 30ms/step - loss: 0.5813 - accuracy: 0.7984 - val_loss: 1.6955 - val_accuracy: 0.5032\n",
      "Epoch 20/100\n",
      "280/280 [==============================] - 8s 30ms/step - loss: 0.5404 - accuracy: 0.8132 - val_loss: 1.7694 - val_accuracy: 0.4941\n",
      "Epoch 21/100\n",
      "280/280 [==============================] - 9s 30ms/step - loss: 0.5021 - accuracy: 0.8316 - val_loss: 1.8036 - val_accuracy: 0.5023\n",
      "Epoch 22/100\n",
      "280/280 [==============================] - 9s 31ms/step - loss: 0.4707 - accuracy: 0.8425 - val_loss: 1.8802 - val_accuracy: 0.4946\n",
      "Epoch 23/100\n",
      "280/280 [==============================] - 9s 30ms/step - loss: 0.4420 - accuracy: 0.8510 - val_loss: 1.9563 - val_accuracy: 0.4929\n",
      "Epoch 24/100\n",
      "280/280 [==============================] - 8s 30ms/step - loss: 0.4126 - accuracy: 0.8630 - val_loss: 2.0156 - val_accuracy: 0.4943\n",
      "Epoch 25/100\n",
      "280/280 [==============================] - 8s 30ms/step - loss: 0.3760 - accuracy: 0.8782 - val_loss: 2.0755 - val_accuracy: 0.4854\n",
      "Epoch 26/100\n",
      "280/280 [==============================] - 8s 30ms/step - loss: 0.3551 - accuracy: 0.8870 - val_loss: 2.1556 - val_accuracy: 0.4907\n",
      "Epoch 27/100\n",
      "280/280 [==============================] - 9s 30ms/step - loss: 0.3299 - accuracy: 0.8965 - val_loss: 2.2717 - val_accuracy: 0.4847\n",
      "Epoch 28/100\n",
      "280/280 [==============================] - 8s 30ms/step - loss: 0.3080 - accuracy: 0.9022 - val_loss: 2.2888 - val_accuracy: 0.4808\n",
      "Epoch 29/100\n",
      "280/280 [==============================] - 9s 30ms/step - loss: 0.2823 - accuracy: 0.9106 - val_loss: 2.3830 - val_accuracy: 0.4836\n",
      "Epoch 30/100\n",
      "280/280 [==============================] - 8s 30ms/step - loss: 0.2608 - accuracy: 0.9221 - val_loss: 2.5019 - val_accuracy: 0.4835\n",
      "Epoch 31/100\n",
      "280/280 [==============================] - 8s 30ms/step - loss: 0.2455 - accuracy: 0.9258 - val_loss: 2.5668 - val_accuracy: 0.4748\n",
      "Epoch 32/100\n",
      "280/280 [==============================] - 8s 30ms/step - loss: 0.2329 - accuracy: 0.9296 - val_loss: 2.6525 - val_accuracy: 0.4750\n",
      "Epoch 33/100\n",
      "280/280 [==============================] - 8s 30ms/step - loss: 0.2083 - accuracy: 0.9398 - val_loss: 2.7396 - val_accuracy: 0.4829\n",
      "Epoch 34/100\n",
      "280/280 [==============================] - 8s 30ms/step - loss: 0.1847 - accuracy: 0.9521 - val_loss: 2.8367 - val_accuracy: 0.4856\n",
      "Epoch 35/100\n",
      "280/280 [==============================] - 8s 30ms/step - loss: 0.1742 - accuracy: 0.9541 - val_loss: 2.9312 - val_accuracy: 0.4808\n",
      "Epoch 36/100\n",
      "280/280 [==============================] - 9s 31ms/step - loss: 0.1696 - accuracy: 0.9544 - val_loss: 3.0156 - val_accuracy: 0.4744\n",
      "Epoch 37/100\n",
      "280/280 [==============================] - 8s 30ms/step - loss: 0.1480 - accuracy: 0.9640 - val_loss: 3.0724 - val_accuracy: 0.4876\n",
      "Epoch 38/100\n",
      "280/280 [==============================] - 8s 30ms/step - loss: 0.1390 - accuracy: 0.9674 - val_loss: 3.2070 - val_accuracy: 0.4872\n",
      "Epoch 39/100\n",
      "280/280 [==============================] - 8s 30ms/step - loss: 0.1323 - accuracy: 0.9669 - val_loss: 3.2366 - val_accuracy: 0.4791\n",
      "Epoch 40/100\n",
      "280/280 [==============================] - 9s 31ms/step - loss: 0.1259 - accuracy: 0.9711 - val_loss: 3.3424 - val_accuracy: 0.4767\n",
      "Epoch 41/100\n",
      "280/280 [==============================] - 8s 30ms/step - loss: 0.1223 - accuracy: 0.9706 - val_loss: 3.3787 - val_accuracy: 0.4772\n",
      "Epoch 42/100\n",
      "280/280 [==============================] - 8s 29ms/step - loss: 0.1067 - accuracy: 0.9762 - val_loss: 3.5558 - val_accuracy: 0.4762\n",
      "Epoch 43/100\n",
      "280/280 [==============================] - 8s 30ms/step - loss: 0.1077 - accuracy: 0.9740 - val_loss: 3.5808 - val_accuracy: 0.4794\n",
      "Epoch 44/100\n",
      "280/280 [==============================] - 9s 30ms/step - loss: 0.0887 - accuracy: 0.9817 - val_loss: 3.6935 - val_accuracy: 0.4815\n",
      "Epoch 45/100\n",
      "280/280 [==============================] - 8s 30ms/step - loss: 0.0796 - accuracy: 0.9843 - val_loss: 3.8097 - val_accuracy: 0.4719\n",
      "Epoch 46/100\n",
      "280/280 [==============================] - 8s 30ms/step - loss: 0.0848 - accuracy: 0.9834 - val_loss: 3.8245 - val_accuracy: 0.4786\n",
      "Epoch 47/100\n",
      "280/280 [==============================] - 8s 30ms/step - loss: 0.0895 - accuracy: 0.9794 - val_loss: 3.9363 - val_accuracy: 0.4743\n",
      "Epoch 48/100\n",
      "280/280 [==============================] - 8s 30ms/step - loss: 0.0813 - accuracy: 0.9821 - val_loss: 3.9804 - val_accuracy: 0.4768\n",
      "Epoch 49/100\n",
      "280/280 [==============================] - 8s 30ms/step - loss: 0.0805 - accuracy: 0.9832 - val_loss: 4.0780 - val_accuracy: 0.4772\n",
      "Epoch 50/100\n",
      "280/280 [==============================] - 8s 30ms/step - loss: 0.0745 - accuracy: 0.9846 - val_loss: 4.1694 - val_accuracy: 0.4744\n",
      "Epoch 51/100\n",
      "280/280 [==============================] - 8s 30ms/step - loss: 0.0722 - accuracy: 0.9839 - val_loss: 4.1379 - val_accuracy: 0.4728\n",
      "Epoch 52/100\n",
      "280/280 [==============================] - 8s 30ms/step - loss: 0.0741 - accuracy: 0.9824 - val_loss: 4.2334 - val_accuracy: 0.4806\n",
      "Epoch 53/100\n",
      "280/280 [==============================] - 9s 31ms/step - loss: 0.0674 - accuracy: 0.9864 - val_loss: 4.3380 - val_accuracy: 0.4800\n",
      "Epoch 54/100\n",
      "280/280 [==============================] - 9s 31ms/step - loss: 0.0611 - accuracy: 0.9874 - val_loss: 4.4105 - val_accuracy: 0.4837\n",
      "Epoch 55/100\n",
      "280/280 [==============================] - 8s 30ms/step - loss: 0.0506 - accuracy: 0.9913 - val_loss: 4.4818 - val_accuracy: 0.4676\n",
      "Epoch 56/100\n",
      "280/280 [==============================] - 9s 31ms/step - loss: 0.0552 - accuracy: 0.9895 - val_loss: 4.5232 - val_accuracy: 0.4696\n",
      "Epoch 57/100\n",
      "280/280 [==============================] - 8s 30ms/step - loss: 0.0622 - accuracy: 0.9856 - val_loss: 4.6515 - val_accuracy: 0.4788\n",
      "Epoch 58/100\n",
      "280/280 [==============================] - 8s 30ms/step - loss: 0.0731 - accuracy: 0.9804 - val_loss: 4.6528 - val_accuracy: 0.4684\n",
      "Epoch 59/100\n",
      "280/280 [==============================] - 8s 30ms/step - loss: 0.0741 - accuracy: 0.9803 - val_loss: 4.7444 - val_accuracy: 0.4771\n",
      "Epoch 60/100\n",
      "280/280 [==============================] - 8s 30ms/step - loss: 0.0461 - accuracy: 0.9926 - val_loss: 4.7573 - val_accuracy: 0.4731\n",
      "Epoch 61/100\n",
      "280/280 [==============================] - 8s 30ms/step - loss: 0.0428 - accuracy: 0.9929 - val_loss: 4.8727 - val_accuracy: 0.4671\n",
      "Epoch 62/100\n",
      "280/280 [==============================] - 9s 31ms/step - loss: 0.0490 - accuracy: 0.9915 - val_loss: 4.8787 - val_accuracy: 0.4750\n",
      "Epoch 63/100\n",
      "280/280 [==============================] - 9s 31ms/step - loss: 0.0453 - accuracy: 0.9926 - val_loss: 4.9198 - val_accuracy: 0.4853\n",
      "Epoch 64/100\n",
      "280/280 [==============================] - 8s 30ms/step - loss: 0.0642 - accuracy: 0.9851 - val_loss: 5.0378 - val_accuracy: 0.4762\n",
      "Epoch 65/100\n",
      "280/280 [==============================] - 8s 30ms/step - loss: 0.0866 - accuracy: 0.9748 - val_loss: 5.1209 - val_accuracy: 0.4770\n",
      "Epoch 66/100\n",
      "280/280 [==============================] - 8s 30ms/step - loss: 0.0668 - accuracy: 0.9817 - val_loss: 5.0962 - val_accuracy: 0.4817\n",
      "Epoch 67/100\n",
      "280/280 [==============================] - 8s 30ms/step - loss: 0.0476 - accuracy: 0.9899 - val_loss: 5.1024 - val_accuracy: 0.4725\n",
      "Epoch 68/100\n",
      "280/280 [==============================] - 9s 30ms/step - loss: 0.0320 - accuracy: 0.9956 - val_loss: 5.0902 - val_accuracy: 0.4794\n",
      "Epoch 69/100\n",
      "280/280 [==============================] - 8s 29ms/step - loss: 0.0364 - accuracy: 0.9949 - val_loss: 5.1813 - val_accuracy: 0.4824\n",
      "Epoch 70/100\n",
      "280/280 [==============================] - 8s 29ms/step - loss: 0.0359 - accuracy: 0.9942 - val_loss: 5.1651 - val_accuracy: 0.4743\n",
      "Epoch 71/100\n",
      "280/280 [==============================] - 8s 30ms/step - loss: 0.0601 - accuracy: 0.9856 - val_loss: 5.2248 - val_accuracy: 0.4696\n",
      "Epoch 72/100\n",
      "280/280 [==============================] - 8s 30ms/step - loss: 0.0730 - accuracy: 0.9790 - val_loss: 5.3457 - val_accuracy: 0.4760\n",
      "Epoch 73/100\n",
      "280/280 [==============================] - 8s 30ms/step - loss: 0.0722 - accuracy: 0.9789 - val_loss: 5.3363 - val_accuracy: 0.4719\n",
      "Epoch 74/100\n",
      "280/280 [==============================] - 8s 30ms/step - loss: 0.0678 - accuracy: 0.9811 - val_loss: 5.3483 - val_accuracy: 0.4740\n",
      "Epoch 75/100\n",
      "280/280 [==============================] - 9s 32ms/step - loss: 0.0496 - accuracy: 0.9890 - val_loss: 5.3250 - val_accuracy: 0.4750\n",
      "Epoch 76/100\n",
      "280/280 [==============================] - 8s 30ms/step - loss: 0.0294 - accuracy: 0.9956 - val_loss: 5.4901 - val_accuracy: 0.4767\n",
      "Epoch 77/100\n",
      "280/280 [==============================] - 8s 29ms/step - loss: 0.0307 - accuracy: 0.9966 - val_loss: 5.4644 - val_accuracy: 0.4721\n",
      "Epoch 78/100\n",
      "280/280 [==============================] - 8s 30ms/step - loss: 0.0422 - accuracy: 0.9919 - val_loss: 5.4742 - val_accuracy: 0.4815\n",
      "Epoch 79/100\n",
      "280/280 [==============================] - 8s 29ms/step - loss: 0.0385 - accuracy: 0.9933 - val_loss: 5.4954 - val_accuracy: 0.4699\n",
      "Epoch 80/100\n",
      "280/280 [==============================] - 9s 30ms/step - loss: 0.0466 - accuracy: 0.9889 - val_loss: 5.5267 - val_accuracy: 0.4743\n",
      "Epoch 81/100\n",
      "280/280 [==============================] - 8s 30ms/step - loss: 0.0746 - accuracy: 0.9772 - val_loss: 5.7375 - val_accuracy: 0.4719\n",
      "Epoch 82/100\n",
      "280/280 [==============================] - 8s 30ms/step - loss: 0.0457 - accuracy: 0.9899 - val_loss: 5.7108 - val_accuracy: 0.4777\n",
      "Epoch 83/100\n",
      "280/280 [==============================] - 8s 30ms/step - loss: 0.0318 - accuracy: 0.9944 - val_loss: 5.7021 - val_accuracy: 0.4735\n",
      "Epoch 84/100\n",
      "280/280 [==============================] - 9s 31ms/step - loss: 0.0413 - accuracy: 0.9919 - val_loss: 5.7414 - val_accuracy: 0.4743\n",
      "Epoch 85/100\n",
      "280/280 [==============================] - 8s 30ms/step - loss: 0.0342 - accuracy: 0.9946 - val_loss: 5.7098 - val_accuracy: 0.4783\n",
      "Epoch 86/100\n",
      "280/280 [==============================] - 9s 31ms/step - loss: 0.0409 - accuracy: 0.9923 - val_loss: 5.7282 - val_accuracy: 0.4792\n",
      "Epoch 87/100\n",
      "280/280 [==============================] - 8s 30ms/step - loss: 0.0497 - accuracy: 0.9888 - val_loss: 5.7872 - val_accuracy: 0.4602\n",
      "Epoch 88/100\n",
      "280/280 [==============================] - 8s 30ms/step - loss: 0.0575 - accuracy: 0.9862 - val_loss: 5.8612 - val_accuracy: 0.4746\n",
      "Epoch 89/100\n",
      "280/280 [==============================] - 8s 30ms/step - loss: 0.0670 - accuracy: 0.9815 - val_loss: 5.8368 - val_accuracy: 0.4662\n",
      "Epoch 90/100\n",
      "280/280 [==============================] - 9s 31ms/step - loss: 0.0587 - accuracy: 0.9847 - val_loss: 5.9241 - val_accuracy: 0.4681\n",
      "Epoch 91/100\n",
      "280/280 [==============================] - 8s 30ms/step - loss: 0.0389 - accuracy: 0.9914 - val_loss: 6.0166 - val_accuracy: 0.4626\n",
      "Epoch 92/100\n",
      "280/280 [==============================] - 8s 30ms/step - loss: 0.0388 - accuracy: 0.9920 - val_loss: 5.9895 - val_accuracy: 0.4704\n",
      "Epoch 93/100\n",
      "280/280 [==============================] - 8s 29ms/step - loss: 0.0425 - accuracy: 0.9908 - val_loss: 5.8984 - val_accuracy: 0.4727\n",
      "Epoch 94/100\n",
      "280/280 [==============================] - 9s 31ms/step - loss: 0.0305 - accuracy: 0.9950 - val_loss: 5.9385 - val_accuracy: 0.4788\n",
      "Epoch 95/100\n",
      "280/280 [==============================] - 9s 31ms/step - loss: 0.0323 - accuracy: 0.9954 - val_loss: 6.0820 - val_accuracy: 0.4765\n",
      "Epoch 96/100\n",
      "280/280 [==============================] - 8s 30ms/step - loss: 0.0478 - accuracy: 0.9881 - val_loss: 6.0414 - val_accuracy: 0.4680\n",
      "Epoch 97/100\n",
      "280/280 [==============================] - 8s 30ms/step - loss: 0.0470 - accuracy: 0.9899 - val_loss: 6.0076 - val_accuracy: 0.4728\n",
      "Epoch 98/100\n",
      "280/280 [==============================] - 9s 31ms/step - loss: 0.0429 - accuracy: 0.9894 - val_loss: 6.2298 - val_accuracy: 0.4654\n",
      "Epoch 99/100\n",
      "280/280 [==============================] - 8s 30ms/step - loss: 0.0573 - accuracy: 0.9841 - val_loss: 6.1838 - val_accuracy: 0.4680\n",
      "Epoch 100/100\n",
      "280/280 [==============================] - 9s 31ms/step - loss: 0.0464 - accuracy: 0.9892 - val_loss: 6.1389 - val_accuracy: 0.4717\n"
     ]
    }
   ],
   "source": [
    "historyCNN_gs = best_modelCNN_PSO.fit(train_generator, steps_per_epoch=STEP_SIZE_TRAIN, epochs=num_epochs, verbose=1, validation_data=val_generator, validation_steps=STEP_SIZE_VAL)"
   ]
  },
  {
   "cell_type": "markdown",
   "metadata": {
    "id": "sRX4yvQ9kLYM"
   },
   "source": [
    "### Test"
   ]
  },
  {
   "cell_type": "code",
   "execution_count": 105,
   "metadata": {
    "colab": {
     "base_uri": "https://localhost:8080/"
    },
    "execution": {
     "iopub.execute_input": "2021-11-08T21:07:16.605104Z",
     "iopub.status.busy": "2021-11-08T21:07:16.604103Z",
     "iopub.status.idle": "2021-11-08T21:07:19.440662Z",
     "shell.execute_reply": "2021-11-08T21:07:19.440662Z",
     "shell.execute_reply.started": "2021-11-08T21:07:16.605104Z"
    },
    "id": "Ggt6sujLi6N8",
    "outputId": "f94f28c2-e8ed-4fcb-c2a1-0efd79046461",
    "tags": []
   },
   "outputs": [
    {
     "name": "stdout",
     "output_type": "stream",
     "text": [
      "(8977, 7)\n"
     ]
    }
   ],
   "source": [
    "test_generator.reset()\n",
    "\n",
    "predict_cnn_pso = best_modelCNN_PSO.predict(test_generator)\n",
    "print(predict_cnn_pso.shape)"
   ]
  },
  {
   "cell_type": "code",
   "execution_count": 106,
   "metadata": {
    "colab": {
     "base_uri": "https://localhost:8080/"
    },
    "execution": {
     "iopub.execute_input": "2021-11-08T21:07:19.442665Z",
     "iopub.status.busy": "2021-11-08T21:07:19.441663Z",
     "iopub.status.idle": "2021-11-08T21:07:19.457678Z",
     "shell.execute_reply": "2021-11-08T21:07:19.456677Z",
     "shell.execute_reply.started": "2021-11-08T21:07:19.442665Z"
    },
    "id": "SqxYv5fkjE9e",
    "outputId": "28d3217e-8d70-41b3-cec5-a5a673822fe0",
    "tags": []
   },
   "outputs": [
    {
     "name": "stdout",
     "output_type": "stream",
     "text": [
      "[3 4 0 ... 6 6 6]\n",
      "(8977,)\n"
     ]
    }
   ],
   "source": [
    "y_pred_cnn_pso = np.argmax(predict_cnn_pso, axis=-1)\n",
    "print(y_pred_cnn_pso)\n",
    "print(y_pred_cnn_pso.shape)"
   ]
  },
  {
   "cell_type": "code",
   "execution_count": 107,
   "metadata": {
    "colab": {
     "base_uri": "https://localhost:8080/"
    },
    "execution": {
     "iopub.execute_input": "2021-11-08T21:07:19.458679Z",
     "iopub.status.busy": "2021-11-08T21:07:19.458679Z",
     "iopub.status.idle": "2021-11-08T21:07:19.488706Z",
     "shell.execute_reply": "2021-11-08T21:07:19.488706Z",
     "shell.execute_reply.started": "2021-11-08T21:07:19.458679Z"
    },
    "id": "_MaCIDtdji3e",
    "outputId": "d315e406-84fc-42e7-ec02-081f97c472ae",
    "tags": []
   },
   "outputs": [
    {
     "name": "stdout",
     "output_type": "stream",
     "text": [
      "              precision    recall  f1-score   support\n",
      "\n",
      "           0       0.35      0.39      0.37      1239\n",
      "           1       0.45      0.33      0.38       138\n",
      "           2       0.32      0.33      0.33      1281\n",
      "           3       0.66      0.68      0.67      2248\n",
      "           4       0.43      0.42      0.42      1550\n",
      "           5       0.34      0.33      0.33      1520\n",
      "           6       0.65      0.59      0.62      1001\n",
      "\n",
      "    accuracy                           0.47      8977\n",
      "   macro avg       0.46      0.44      0.45      8977\n",
      "weighted avg       0.47      0.47      0.47      8977\n",
      "\n"
     ]
    }
   ],
   "source": [
    "print(classification_report(test_labels, y_pred_cnn_pso))"
   ]
  }
 ],
 "metadata": {
  "accelerator": "GPU",
  "colab": {
   "collapsed_sections": [
    "kcsnEfU_rfOl",
    "25rrqk4vfKRg",
    "Rdn3NinuC1hB",
    "ukZwzovfC3-S",
    "M6Kjw-fRF3qe",
    "W2WL9cwFmUxL",
    "SKfX0GpFl43O"
   ],
   "name": "MLP - FER2013",
   "provenance": [],
   "toc_visible": true
  },
  "kernelspec": {
   "display_name": "Python 3 (ipykernel)",
   "language": "python",
   "name": "python3"
  },
  "language_info": {
   "codemirror_mode": {
    "name": "ipython",
    "version": 3
   },
   "file_extension": ".py",
   "mimetype": "text/x-python",
   "name": "python",
   "nbconvert_exporter": "python",
   "pygments_lexer": "ipython3",
   "version": "3.9.7"
  }
 },
 "nbformat": 4,
 "nbformat_minor": 4
}
